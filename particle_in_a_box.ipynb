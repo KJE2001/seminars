{
 "cells": [
  {
   "cell_type": "markdown",
   "metadata": {},
   "source": [
    "<figure>\n",
    "  <IMG SRC=\"gfx/Logo_norsk_pos.png\" WIDTH=100 ALIGN=\"right\">\n",
    "</figure>\n",
    "\n",
    "# Particle in a box\n",
    "*Roberto Di Remigio*, *Luca Frediani*\n",
    "\n",
    "The [particle in a box] model is among the simplest, exactly solvable models in quantum mechanics.\n",
    "In the one-dimensional case, we assume a particle of mass $m$ to be confined into a box of length $L$.\n",
    "The confinement is achieved by means of a potential energy operator that is zero inside the box and infinite outside, as in the Figure below.\n",
    "\n",
    "<figure>\n",
    "  <IMG SRC=\"gfx/Infinite_potential_well-en.svg\">\n",
    "</figure>\n",
    "\n",
    "In practice, this means that the particle **cannot** escape the box: a result that we would have obtained also\n",
    "from classical mechanics.\n",
    "How does the quantum particle behave? We need to find the **eigenfunctions** and **eigenvalues** of the **Hamiltonian operator**, that is we have to solve the following ordinary differential equation:\n",
    "\\begin{equation}\n",
    "-\\frac{\\hbar^2}{2m}\\frac{\\mathrm{d}^2}{\\mathrm{d}x^2} \\psi_n(x) = E_n\\psi_n(x)\n",
    "\\end{equation}\n",
    "with **boundary conditions**:\n",
    "\\begin{equation}\n",
    "\\begin{aligned}\n",
    "  \\psi_n(0) &= 0 \\\\\n",
    "  \\psi_n(L) &= 0\n",
    "\\end{aligned}\n",
    "\\end{equation}\n",
    "Thus acceptable solutions are of the form:\n",
    "\\begin{equation}\n",
    "\\psi_n(x) = \\sin(\\frac{n\\pi x}{L}) \\quad\\quad \\forall n \\neq 0\n",
    "\\end{equation}\n",
    "with energies:\n",
    "\\begin{equation}\n",
    "E_n = \\frac{h^2n^2}{8mL^2}  \\quad\\quad \\forall n \\neq 0\n",
    "\\end{equation}\n",
    "\n",
    "[particle in a box]: https://en.wikipedia.org/wiki/Particle_in_a_box"
   ]
  },
  {
   "cell_type": "markdown",
   "metadata": {},
   "source": [
    "## Exercise 1: Normalization\n",
    "\n",
    "The wavefunction(s) given above as solution to the particle in a box problem are not normalized:\n",
    "\\begin{equation}\n",
    "\\left\\langle \\psi_n | \\psi_n \\right\\rangle = \\int \\mathrm{d}x \\psi_n^*(x)\\psi_n(x) = |A|^2 \\neq 1\n",
    "\\end{equation}\n",
    "Find the normalization constant."
   ]
  },
  {
   "cell_type": "markdown",
   "metadata": {},
   "source": [
    "## Exercise 2: Ground-state and probabilities\n",
    "\n",
    "Given the **normalized** ground-state wavefunction for a particle confined to a one-dimensional box of length $L$, suppose the box is $10.0\\,\\,\\mathrm{nm}$ long. What is the probability that the particle is:\n",
    "1. Between $a = 4.95\\,\\,\\mathrm{nm}$ and $b=5.05\\,\\,\\mathrm{nm}$\n",
    "2. Between $a = 1.95\\,\\,\\mathrm{nm}$ and $b=2.05\\,\\,\\mathrm{nm}$\n",
    "3. Between $a = 9.90\\,\\,\\mathrm{nm}$ and $b=10.0\\,\\,\\mathrm{nm}$\n",
    "4. In the right half of the box\n",
    "5. In the central third of the box\n",
    "\n",
    "How can we generalize to the excited states?"
   ]
  },
  {
   "cell_type": "markdown",
   "metadata": {},
   "source": [
    "## Exercise 3: Eigenfunctions and probability distributions\n",
    "\n",
    "Write a Python function to plot the eigenfunctions of the particle in a box model. The function should accept the quantum number $n$, the length of the box $L$ and a NumPy array of $x$ values as arguments:\n",
    "\n",
    "```Python\n",
    "def eigenfunction1D(n, L, x):\n",
    "    \"\"\" Normalized eigenfunction for the 1D particle in a box.\n",
    "    \n",
    "    n -- the quantum number\n",
    "    L -- the size of the box\n",
    "    x -- the NumPy array with the x values\n",
    "    \"\"\"\n",
    "```\n",
    "Once this function is defined, we can obtain the respective probability distribution by taking its square:\n",
    "```Python\n",
    "x = np.linspace(0, 10.0, 1000)\n",
    "eig = eigenfunction1D(1, 10.0, x)\n",
    "prob = eigenfunction1D(1, 10.0, x)**2\n",
    "```\n",
    "and plot both of them with:\n",
    "```Python\n",
    "plt.plot(x, eig)\n",
    "plt.plot(x, prob)\n",
    "```"
   ]
  },
  {
   "cell_type": "code",
   "execution_count": 20,
   "metadata": {
    "collapsed": false
   },
   "outputs": [
    {
     "ename": "NotImplementedError",
     "evalue": "You need to write this function!",
     "output_type": "error",
     "traceback": [
      "\u001b[1;31m---------------------------------------------------------------------------\u001b[0m",
      "\u001b[1;31mNotImplementedError\u001b[0m                       Traceback (most recent call last)",
      "\u001b[1;32m<ipython-input-20-0680baa768c7>\u001b[0m in \u001b[0;36m<module>\u001b[1;34m()\u001b[0m\n\u001b[0;32m     15\u001b[0m \u001b[1;33m\u001b[0m\u001b[0m\n\u001b[0;32m     16\u001b[0m \u001b[0mx\u001b[0m \u001b[1;33m=\u001b[0m \u001b[0mnp\u001b[0m\u001b[1;33m.\u001b[0m\u001b[0mlinspace\u001b[0m\u001b[1;33m(\u001b[0m\u001b[1;36m0\u001b[0m\u001b[1;33m,\u001b[0m \u001b[1;36m10.0\u001b[0m\u001b[1;33m,\u001b[0m \u001b[1;36m1000\u001b[0m\u001b[1;33m)\u001b[0m\u001b[1;33m\u001b[0m\u001b[0m\n\u001b[1;32m---> 17\u001b[1;33m \u001b[0meig\u001b[0m \u001b[1;33m=\u001b[0m \u001b[0meigenfunction1D\u001b[0m\u001b[1;33m(\u001b[0m\u001b[1;36m1\u001b[0m\u001b[1;33m,\u001b[0m \u001b[1;36m10.0\u001b[0m\u001b[1;33m,\u001b[0m \u001b[0mx\u001b[0m\u001b[1;33m)\u001b[0m\u001b[1;33m\u001b[0m\u001b[0m\n\u001b[0m\u001b[0;32m     18\u001b[0m \u001b[0mprob\u001b[0m \u001b[1;33m=\u001b[0m \u001b[0meigenfunction1D\u001b[0m\u001b[1;33m(\u001b[0m\u001b[1;36m1\u001b[0m\u001b[1;33m,\u001b[0m \u001b[1;36m10.0\u001b[0m\u001b[1;33m,\u001b[0m \u001b[0mx\u001b[0m\u001b[1;33m)\u001b[0m\u001b[1;33m**\u001b[0m\u001b[1;36m2\u001b[0m\u001b[1;33m\u001b[0m\u001b[0m\n\u001b[0;32m     19\u001b[0m \u001b[1;33m\u001b[0m\u001b[0m\n",
      "\u001b[1;32m<ipython-input-20-0680baa768c7>\u001b[0m in \u001b[0;36meigenfunction1D\u001b[1;34m(n, L, x)\u001b[0m\n\u001b[0;32m     11\u001b[0m     \u001b[0mx\u001b[0m \u001b[1;33m-\u001b[0m\u001b[1;33m-\u001b[0m \u001b[0mthe\u001b[0m \u001b[0mNumPy\u001b[0m \u001b[0marray\u001b[0m \u001b[1;32mwith\u001b[0m \u001b[0mthe\u001b[0m \u001b[0mx\u001b[0m \u001b[0mvalues\u001b[0m\u001b[1;33m\u001b[0m\u001b[0m\n\u001b[0;32m     12\u001b[0m     \"\"\"\n\u001b[1;32m---> 13\u001b[1;33m     \u001b[1;32mraise\u001b[0m \u001b[0mNotImplementedError\u001b[0m\u001b[1;33m(\u001b[0m\u001b[1;34m'You need to write this function!'\u001b[0m\u001b[1;33m)\u001b[0m\u001b[1;33m\u001b[0m\u001b[0m\n\u001b[0m\u001b[0;32m     14\u001b[0m \u001b[1;33m\u001b[0m\u001b[0m\n\u001b[0;32m     15\u001b[0m \u001b[1;33m\u001b[0m\u001b[0m\n",
      "\u001b[1;31mNotImplementedError\u001b[0m: You need to write this function!"
     ]
    }
   ],
   "source": [
    "import numpy as np\n",
    "import matplotlib.pyplot as plt\n",
    "# make sure we see it on this notebook\n",
    "%matplotlib inline\n",
    "\n",
    "def eigenfunction1D(n, L, x):\n",
    "    \"\"\" Normalized eigenfunction for the 1D particle in a box.\n",
    "    \n",
    "    n -- the quantum number\n",
    "    L -- the size of the box\n",
    "    x -- the NumPy array with the x values\n",
    "    \"\"\"\n",
    "    raise NotImplementedError('You need to write this function!')\n",
    "\n",
    "\n",
    "x = np.linspace(0, 10.0, 1000)\n",
    "eig = eigenfunction1D(1, 10.0, x)\n",
    "prob = eigenfunction1D(1, 10.0, x)**2\n",
    "\n",
    "plt.plot(x, eig)\n",
    "plt.plot(x, prob)"
   ]
  },
  {
   "cell_type": "markdown",
   "metadata": {},
   "source": [
    "## Exercise 4: Normalization of linear combinations of eigenfunctions\n",
    "\n",
    "A linear combination is defined as:\n",
    "\\begin{equation}\n",
    "\\Psi(x) = \\sum_{i=0}^{N} c_i \\psi_i(x)\n",
    "\\end{equation}\n",
    "where $c_i$ are the coefficients and $\\psi_i(x)$ are the eigenfunctions of the particle in a box.\n",
    "Is $\\Psi(x)$ normalized? If not, how can we normalize it? Write a Python function that returns the normalization constant given a vector of coefficients $c_i$ in the linear combination.\n",
    "\n",
    "```Python\n",
    "def normalize(coeffs):\n",
    "    \"\"\" Normalization constant for a linear combination of 1D particle in a box eigenfunctions\n",
    "    \n",
    "    coeffs -- a NumPy array with the coefficients\n",
    "    \"\"\"\n",
    "```"
   ]
  },
  {
   "cell_type": "code",
   "execution_count": 19,
   "metadata": {
    "collapsed": false
   },
   "outputs": [
    {
     "ename": "NotImplementedError",
     "evalue": "You need to write this function!",
     "output_type": "error",
     "traceback": [
      "\u001b[1;31m---------------------------------------------------------------------------\u001b[0m",
      "\u001b[1;31mNotImplementedError\u001b[0m                       Traceback (most recent call last)",
      "\u001b[1;32m<ipython-input-19-b1e8fecf6838>\u001b[0m in \u001b[0;36m<module>\u001b[1;34m()\u001b[0m\n\u001b[0;32m     13\u001b[0m \u001b[1;33m\u001b[0m\u001b[0m\n\u001b[0;32m     14\u001b[0m \u001b[0mcoeffs\u001b[0m \u001b[1;33m=\u001b[0m \u001b[0mnp\u001b[0m\u001b[1;33m.\u001b[0m\u001b[0marray\u001b[0m\u001b[1;33m(\u001b[0m\u001b[1;33m[\u001b[0m\u001b[1;36m0.5\u001b[0m\u001b[1;33m,\u001b[0m \u001b[1;36m0.5\u001b[0m\u001b[1;33m]\u001b[0m\u001b[1;33m)\u001b[0m\u001b[1;33m\u001b[0m\u001b[0m\n\u001b[1;32m---> 15\u001b[1;33m \u001b[0mnormalize\u001b[0m\u001b[1;33m(\u001b[0m\u001b[0mcoeffs\u001b[0m\u001b[1;33m)\u001b[0m\u001b[1;33m\u001b[0m\u001b[0m\n\u001b[0m",
      "\u001b[1;32m<ipython-input-19-b1e8fecf6838>\u001b[0m in \u001b[0;36mnormalize\u001b[1;34m(coeffs)\u001b[0m\n\u001b[0;32m      9\u001b[0m     \u001b[0mcoeffs\u001b[0m \u001b[1;33m-\u001b[0m\u001b[1;33m-\u001b[0m \u001b[0ma\u001b[0m \u001b[0mNumPy\u001b[0m \u001b[0marray\u001b[0m \u001b[1;32mwith\u001b[0m \u001b[0mthe\u001b[0m \u001b[0mcoefficients\u001b[0m\u001b[1;33m\u001b[0m\u001b[0m\n\u001b[0;32m     10\u001b[0m     \"\"\"\n\u001b[1;32m---> 11\u001b[1;33m     \u001b[1;32mraise\u001b[0m \u001b[0mNotImplementedError\u001b[0m\u001b[1;33m(\u001b[0m\u001b[1;34m'You need to write this function!'\u001b[0m\u001b[1;33m)\u001b[0m\u001b[1;33m\u001b[0m\u001b[0m\n\u001b[0m\u001b[0;32m     12\u001b[0m \u001b[1;33m\u001b[0m\u001b[0m\n\u001b[0;32m     13\u001b[0m \u001b[1;33m\u001b[0m\u001b[0m\n",
      "\u001b[1;31mNotImplementedError\u001b[0m: You need to write this function!"
     ]
    }
   ],
   "source": [
    "import numpy as np\n",
    "import matplotlib.pyplot as plt\n",
    "# make sure we see it on this notebook\n",
    "%matplotlib inline\n",
    "\n",
    "def normalize(coeffs):\n",
    "    \"\"\" Normalization constant for a linear combination of 1D particle in a box eigenfunctions\n",
    "\n",
    "    coeffs -- a NumPy array with the coefficients\n",
    "    \"\"\"\n",
    "    raise NotImplementedError('You need to write this function!')\n",
    "    \n",
    "    \n",
    "coeffs = np.array([0.5, 0.5])\n",
    "normalize(coeffs)"
   ]
  },
  {
   "cell_type": "markdown",
   "metadata": {},
   "source": [
    "## Exercise 5: Energy of linear combinations\n",
    "\n",
    "The **expectation value** of an operator $O$ on the wavefunction $\\Psi$ is defined as:\n",
    "\\begin{equation}\n",
    "\\bar{O} = \\frac{\\langle\\Psi|O|\\Psi\\rangle}{\\langle\\Psi|\\Psi\\rangle} = \\langle\\Psi|O|\\Psi\\rangle\n",
    "\\end{equation}\n",
    "where the last equality holds only if $\\Psi$ is normalized.\n",
    "The energy is the expectation value of the Hamiltonian operator:\n",
    "\\begin{equation}\n",
    "\\bar{H} = E = \\langle\\Psi|H|\\Psi\\rangle\n",
    "\\end{equation}\n",
    "\n",
    "Given $\\Psi$ a linear combination of particle in a box eigenfunctions, calculate its respective energy.\n",
    "**Hint**: remember that $H\\psi_i(x) = E_i\\psi_i(x)$ and that the $\\psi_i(x)$ are normalizd. You can also assume $\\Psi$ to be already normalized.\n",
    "\n",
    "Write a Python function to calculate the energy of such linear combinations. The function should accept the coefficients $c_i$ of the linear combination, the mass $M$ of the particle and the length $L$ of the box as arguments.\n",
    "\n",
    "```Python\n",
    "def energy(coeffs, M, L):\n",
    "    \"\"\" Return energy of a linear combination of 1D particle in a box eigenfunctions.\n",
    "\n",
    "    coeffs -- the coefficients of the linear combination\n",
    "    M -- the mass of the particle\n",
    "    L -- the size of the box\n",
    "    \"\"\"\n",
    "```"
   ]
  },
  {
   "cell_type": "code",
   "execution_count": 28,
   "metadata": {
    "collapsed": false
   },
   "outputs": [
    {
     "ename": "NotImplementedError",
     "evalue": "You have to write this function",
     "output_type": "error",
     "traceback": [
      "\u001b[1;31m---------------------------------------------------------------------------\u001b[0m",
      "\u001b[1;31mNotImplementedError\u001b[0m                       Traceback (most recent call last)",
      "\u001b[1;32m<ipython-input-28-e1ce043dc3f2>\u001b[0m in \u001b[0;36m<module>\u001b[1;34m()\u001b[0m\n\u001b[0;32m      9\u001b[0m \u001b[1;33m\u001b[0m\u001b[0m\n\u001b[0;32m     10\u001b[0m \u001b[0mcoeffs\u001b[0m \u001b[1;33m=\u001b[0m \u001b[0mnp\u001b[0m\u001b[1;33m.\u001b[0m\u001b[0marray\u001b[0m\u001b[1;33m(\u001b[0m\u001b[1;33m[\u001b[0m\u001b[1;36m0.5\u001b[0m\u001b[1;33m,\u001b[0m \u001b[1;36m0.5\u001b[0m\u001b[1;33m]\u001b[0m\u001b[1;33m)\u001b[0m\u001b[1;33m\u001b[0m\u001b[0m\n\u001b[1;32m---> 11\u001b[1;33m \u001b[0menergy\u001b[0m\u001b[1;33m(\u001b[0m\u001b[0mcoeffs\u001b[0m\u001b[1;33m,\u001b[0m \u001b[1;36m1.0\u001b[0m\u001b[1;33m,\u001b[0m \u001b[1;36m10.0\u001b[0m\u001b[1;33m)\u001b[0m\u001b[1;33m\u001b[0m\u001b[0m\n\u001b[0m",
      "\u001b[1;32m<ipython-input-28-e1ce043dc3f2>\u001b[0m in \u001b[0;36menergy\u001b[1;34m(coeffs, M, L)\u001b[0m\n\u001b[0;32m      6\u001b[0m     \u001b[0mL\u001b[0m \u001b[1;33m-\u001b[0m\u001b[1;33m-\u001b[0m \u001b[0mthe\u001b[0m \u001b[0msize\u001b[0m \u001b[0mof\u001b[0m \u001b[0mthe\u001b[0m \u001b[0mbox\u001b[0m\u001b[1;33m\u001b[0m\u001b[0m\n\u001b[0;32m      7\u001b[0m     \"\"\"\n\u001b[1;32m----> 8\u001b[1;33m     \u001b[1;32mraise\u001b[0m \u001b[0mNotImplementedError\u001b[0m\u001b[1;33m(\u001b[0m\u001b[1;34m'You have to write this function'\u001b[0m\u001b[1;33m)\u001b[0m\u001b[1;33m\u001b[0m\u001b[0m\n\u001b[0m\u001b[0;32m      9\u001b[0m \u001b[1;33m\u001b[0m\u001b[0m\n\u001b[0;32m     10\u001b[0m \u001b[0mcoeffs\u001b[0m \u001b[1;33m=\u001b[0m \u001b[0mnp\u001b[0m\u001b[1;33m.\u001b[0m\u001b[0marray\u001b[0m\u001b[1;33m(\u001b[0m\u001b[1;33m[\u001b[0m\u001b[1;36m0.5\u001b[0m\u001b[1;33m,\u001b[0m \u001b[1;36m0.5\u001b[0m\u001b[1;33m]\u001b[0m\u001b[1;33m)\u001b[0m\u001b[1;33m\u001b[0m\u001b[0m\n",
      "\u001b[1;31mNotImplementedError\u001b[0m: You have to write this function"
     ]
    }
   ],
   "source": [
    "def energy(coeffs, M, L):\n",
    "    \"\"\" Return energy of a linear combination of 1D particle in a box eigenfunctions.\n",
    "\n",
    "    coeffs -- the coefficients of the linear combination\n",
    "    M -- the mass of the particle\n",
    "    L -- the size of the box\n",
    "    \"\"\"\n",
    "    raise NotImplementedError('You have to write this function')\n",
    "\n",
    "coeffs = np.array([0.5, 0.5])\n",
    "energy(coeffs, 1.0, 10.0)"
   ]
  },
  {
   "cell_type": "markdown",
   "metadata": {},
   "source": [
    "## Exercise 6: Linear combinations of eigenfunctions\n",
    "\n",
    "We can now try to plot linear combinations of eigenfuntions and their corresponding probability densities.\n",
    "Define the appropriate function to do so. Your function should use your previous implementation of `eigenfunction1D` to achieve its purpose."
   ]
  }
 ],
 "metadata": {
  "kernelspec": {
   "display_name": "Python 2",
   "language": "python",
   "name": "python2"
  },
  "language_info": {
   "codemirror_mode": {
    "name": "ipython",
    "version": 2
   },
   "file_extension": ".py",
   "mimetype": "text/x-python",
   "name": "python",
   "nbconvert_exporter": "python",
   "pygments_lexer": "ipython2",
   "version": "2.7.10"
  }
 },
 "nbformat": 4,
 "nbformat_minor": 0
}
