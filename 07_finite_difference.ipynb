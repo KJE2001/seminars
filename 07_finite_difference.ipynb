{
 "cells": [
  {
   "cell_type": "markdown",
   "metadata": {
    "deletable": true,
    "editable": true
   },
   "source": [
    "<figure>\n",
    "  <IMG SRC=\"gfx/Logo_norsk_pos.png\" WIDTH=100 ALIGN=\"right\">\n",
    "</figure>\n",
    "\n",
    "# Finite difference method for one-dimensional problems\n",
    "*Roberto Di Remigio*, *Luca Frediani*"
   ]
  },
  {
   "cell_type": "code",
   "execution_count": 23,
   "metadata": {
    "collapsed": false,
    "deletable": true,
    "editable": true
   },
   "outputs": [
    {
     "name": "stdout",
     "output_type": "stream",
     "text": [
      "0.504731458403\n",
      "0.234586219453\n"
     ]
    },
    {
     "data": {
      "text/plain": [
       "<matplotlib.legend.Legend at 0x7f7492d2a940>"
      ]
     },
     "execution_count": 23,
     "metadata": {},
     "output_type": "execute_result"
    },
    {
     "data": {
      "image/png": "[encoded data removed]",
      "text/plain": [
       "<matplotlib.figure.Figure at 0x7f7492a94d68>"
      ]
     },
     "metadata": {},
     "output_type": "display_data"
    }
   ],
   "source": [
    "import numpy as np\n",
    "from numpy import linalg as LA\n",
    "import matplotlib.pyplot as plt\n",
    "# make sure we see it on this notebook\n",
    "%matplotlib inline\n",
    "\n",
    "\n",
    "def free_particle(x):\n",
    "    \"\"\"\n",
    "    \"\"\"\n",
    "    return 0.0\n",
    "\n",
    "\n",
    "class MorseOscillator(object):\n",
    "    def __init__(self, D_eq, x_eq, k_eq):\n",
    "        self.De = D_eq\n",
    "        self.xe = x_eq\n",
    "        self.ke = k_eq\n",
    "        self.a  = np.sqrt(self.ke / (2.0*self.De))\n",
    "\n",
    "    def __call__(self, x):\n",
    "        return (self.De * (1 - np.exp(-self.a * (x)))**2)\n",
    "\n",
    "    \n",
    "class HarmonicOscillator(object):\n",
    "    def __init__(self, mass, frequency):\n",
    "        self.M     = mass\n",
    "        self.omega = frequency\n",
    "        self.k     = self.M * self.omega**2\n",
    "\n",
    "    def __call__(self, x):\n",
    "        return (1.0/2.0 * self.M * self.omega**2 * x**2)\n",
    "\n",
    "    \n",
    "def quadratic(x):\n",
    "    return (1./2. * x**2)    \n",
    "\n",
    "def quartic(x):\n",
    "    return (1./24. * x**4)\n",
    "\n",
    "\n",
    "def finite_difference_Hamiltonian(grid, potential):\n",
    "    \"\"\" Return finite difference Hamiltonian using a centered, three-point stencil\n",
    "    grid -- equispaced grid\n",
    "    potential -- potential function in the Hamiltonian\n",
    "    \"\"\"\n",
    "    N = grid.size\n",
    "    hamiltonian = np.zeros((N, N))\n",
    "    for i in range(N):\n",
    "        hamiltonian[i, i] = 1.0 / (h**2) + potential(grid[i])\n",
    "        for j in range(N):\n",
    "            if (j == i+1) or (j == i-1):\n",
    "                hamiltonian[i, j] = -1.0/(2.0 * h**2)\n",
    "    return hamiltonian\n",
    "\n",
    "# Discretization set up\n",
    "L = 10.0\n",
    "N = 100\n",
    "grid = np.linspace(-L/2., L/2., N)\n",
    "\n",
    "harmonic_oscillator = HarmonicOscillator(1.0, 1.0)\n",
    "H_harm = finite_difference_Hamiltonian(grid, harmonic_oscillator)\n",
    "E_harm, psi_harm = LA.eig(H_harm)\n",
    "print(E_harm[0])\n",
    "#plt.plot(grid, psi_harm[:, 0]**2, label='quadratic')\n",
    "#plt.plot(grid, psi_harm[:, 0]**2)\n",
    "\n",
    "H_cubic = finite_difference_Hamiltonian(grid, quartic)\n",
    "E_cube, psi_cube = LA.eig(H_cubic)\n",
    "print(E_cube[0])\n",
    "#plt.plot(grid, psi_cube[:, 0]**2,label='quartic')\n",
    "#plt.plot(grid, psi_cube[:, 0]**2)\n",
    "\n",
    "H_Morse = finite_difference_Hamiltonian(grid, MorseOscillator(1./8., 2., 1.))\n",
    "plt.plot(grid, MorseOscillator(1./8., 2., 1.)(x), label='Morse potential')\n",
    "\n",
    "plt.legend()"
   ]
  },
  {
   "cell_type": "code",
   "execution_count": null,
   "metadata": {
    "collapsed": true,
    "deletable": true,
    "editable": true
   },
   "outputs": [],
   "source": []
  }
 ],
 "metadata": {
  "kernelspec": {
   "display_name": "Python 3",
   "language": "python",
   "name": "python3"
  },
  "language_info": {
   "codemirror_mode": {
    "name": "ipython",
    "version": 3
   },
   "file_extension": ".py",
   "mimetype": "text/x-python",
   "name": "python",
   "nbconvert_exporter": "python",
   "pygments_lexer": "ipython3",
   "version": "3.4.3+"
  }
 },
 "nbformat": 4,
 "nbformat_minor": 2
}
