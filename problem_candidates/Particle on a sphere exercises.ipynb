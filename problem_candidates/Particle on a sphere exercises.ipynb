{
 "cells": [
  {
   "cell_type": "markdown",
   "metadata": {},
   "source": [
    "#  Particle on a sphere\n",
    "\n",
    "The Hamiltonial $H$ for a particle on a sphere is given by\n",
    "\n",
    "\\begin{align}\n",
    "H &= \\frac{p^2}{2m} = \\frac{L^2}{2 I}\n",
    "\\end{align}\n",
    "\n",
    "\n"
   ]
  },
  {
   "cell_type": "markdown",
   "metadata": {},
   "source": [
    "## Exercise 1\n",
    "$\\mathbf{L} = \\mathbf{r} \\times \\mathbf{p}$ is the angular momentum operator\n",
    "where $\\mathbf{r} = (x, y, z)$ is the positional operator and $\\mathbf{p} = (p_x, p_y, p_z)$ is the momentum operator\n",
    "\n",
    "Show that:\n",
    "\n",
    "\\begin{align}\n",
    "L_x &= - i \\hbar \\left(y \\frac{\\partial}{\\partial z} - z \\frac{\\partial}{\\partial y} \\right) \\\\\n",
    "L_y &= - i \\hbar \\left(z \\frac{\\partial}{\\partial x} - x \\frac{\\partial}{\\partial z} \\right) \\\\\n",
    "L_z &= - i \\hbar \\left(x \\frac{\\partial}{\\partial y} - y \\frac{\\partial}{\\partial x} \\right)\n",
    "\\end{align}\n",
    "\n",
    "Hint: $p_x = -i\\frac{\\partial}{\\partial x}$ \n",
    "\n",
    "Hint 2: To do this exercise you need to do a cross product "
   ]
  },
  {
   "cell_type": "markdown",
   "metadata": {},
   "source": [
    "## Exercise 2\n",
    "\n",
    "Find the commutator relations $[L_x, L_y]$ and $[L^2, L_z]$. \n",
    "\n",
    "Does $L_x$ and $L_y$ commute?\n",
    "\n",
    "Does $L^2$ and $L_z$ commute?\n",
    "\n",
    "Hint: $[a, b] = ab - ba$"
   ]
  },
  {
   "cell_type": "markdown",
   "metadata": {},
   "source": [
    "\n",
    "\n",
    "The particle on a sphere is given by:\n",
    "\n",
    "\\begin{align}\n",
    "L^2 Y_{m_l}^l (\\varphi, \\theta) = \\hbar^2 l(l+1) Y_{m_l}^l (\\varphi, \\theta) \\\\\n",
    "L_z Y_{m_l}^l (\\varphi, \\theta) = \\hbar m_l Y_{m_l}^l (\\varphi, \\theta)\n",
    "\\end{align}\n",
    "\n",
    "where $l = 0, 1, 2, ...$ and $m_l = -l, -l+1,...,0,..., l-1, l$\n",
    "\n"
   ]
  },
  {
   "cell_type": "markdown",
   "metadata": {},
   "source": [
    "## Exercise 3\n",
    "\n",
    "Make a surface plot of a sphere where the particle can be located"
   ]
  },
  {
   "cell_type": "markdown",
   "metadata": {},
   "source": [
    "## Exercise 4\n",
    "\n",
    "Find the analytic expressions for $Y_{m_l}^l (\\varphi, \\theta)$, for instance in the lecture notes on explain everything (code ATEHWGWY). \n",
    "\n",
    "\n",
    " Make python functions for $L = 0$, $L = 1$ and $L = 2$ with all combination of $m_l$"
   ]
  },
  {
   "cell_type": "code",
   "execution_count": 2,
   "metadata": {},
   "outputs": [
    {
     "ename": "IndentationError",
     "evalue": "expected an indented block (<ipython-input-2-8c5c427353fc>, line 5)",
     "output_type": "error",
     "traceback": [
      "\u001b[0;36m  File \u001b[0;32m\"<ipython-input-2-8c5c427353fc>\"\u001b[0;36m, line \u001b[0;32m5\u001b[0m\n\u001b[0;31m    from scipy.special import sph_harm\u001b[0m\n\u001b[0m       ^\u001b[0m\n\u001b[0;31mIndentationError\u001b[0m\u001b[0;31m:\u001b[0m expected an indented block\n"
     ]
    }
   ],
   "source": [
    "def Y_10(phi, theta):\n",
    "\n",
    "def Y_11(phi, theta):\n",
    "\n",
    "def Y_1m1(phi, theta): \n",
    "\n",
    "# or more generally using sph_harm from scipy.special\n",
    "\n",
    "from scipy.special import sph_harm\n",
    "\n",
    " \n"
   ]
  },
  {
   "cell_type": "markdown",
   "metadata": {},
   "source": [
    "## Exercise 5\n",
    "The parametrization for the probability densities are:\n",
    "\n",
    "\\begin{align}\n",
    "x &= \\cos \\theta \\sin \\phi |Y_{m_l}^l (\\varphi, \\theta)|^2 \\\\\n",
    "y &= \\sin \\theta \\sin \\phi |Y_{m_l}^l (\\varphi, \\theta)|^2 \\\\\n",
    "z &= \\cos \\phi |Y_{m_l}^l (\\varphi, \\theta)|^2\n",
    "\\end{align}\n",
    "\n",
    "Give an explaination to why the parametrization looks like this.\n",
    "\n",
    "\n",
    "Plot the probability density of $|Y_{m_l}^l (\\varphi, \\theta)|^2$ for $L = 0$, $L = 1$\n",
    "and $L=2$ for $m_l = -l, -l+1,...,0,..., l-1, l$.\n",
    "\n",
    "Try to plot them with the sphere from exercise 3, here it is a good idea to add the keyword $\\alpha = 0.3$ for the sphere."
   ]
  },
  {
   "cell_type": "markdown",
   "metadata": {},
   "source": [
    "## Exercise 6\n",
    "\n",
    "The formulas for  $Y_{m_l}^l (\\varphi, \\theta)$ for $l=1$ and $m_l=-1,0,1$ represent the three $p$ orbitals. It is easy to identify $p_z$ as the function $Y_{0}^1$, whereas $p_x$ and $p_y$ must be obtained as combinations of $Y_{-1}^1$ and $Y_{1}^1$.\n",
    "\n",
    "1. Make the appropriate linear conbinations to obtain the $p_x$ and $p_y$ orbitals. Hint: $p_x$ and $p_y$ are real functions\n",
    "2. Compute the parametric surface for the probability density of $p_x$ and $p_y$ as in exercise 5\n",
    "3. Plot $p_x$ and $p_y$\n",
    "\n",
    "Advanced (not mandatory): repeat the points above for $d$ and $f$ orbitals."
   ]
  }
 ],
 "metadata": {
  "kernelspec": {
   "display_name": "Python 3",
   "language": "python",
   "name": "python3"
  },
  "language_info": {
   "codemirror_mode": {
    "name": "ipython",
    "version": 3
   },
   "file_extension": ".py",
   "mimetype": "text/x-python",
   "name": "python",
   "nbconvert_exporter": "python",
   "pygments_lexer": "ipython3",
   "version": "3.7.4"
  }
 },
 "nbformat": 4,
 "nbformat_minor": 2
}
