{
 "cells": [
  {
   "cell_type": "markdown",
   "metadata": {},
   "source": [
    "# Plotting a Torus    \n",
    "\n",
    "To plot a surface in 3D do you first need to find the \n",
    "parametrization of the surface you wish to plot. \n",
    "\n",
    "For a Torus the parametrization looks like this:\n",
    "\\begin{align}\n",
    "x &= [c + a  \\cos v] \\cos u \\\\\n",
    "y &= [c + a  \\cos v] \\sin u \\\\\n",
    "z &= a \\sin v\n",
    "\\end{align}\n",
    "\n",
    "\n",
    "where $a$ represents the radius of the tube and $c$ is the radius of the \n",
    "center hole of the torus tube. See https://mathworld.wolfram.com/Torus.html for further information.\n",
    "\n"
   ]
  },
  {
   "cell_type": "markdown",
   "metadata": {},
   "source": [
    "Begin by activating matplotlib notebook and importing numpy and \n",
    "matplotlib"
   ]
  },
  {
   "cell_type": "code",
   "execution_count": null,
   "metadata": {},
   "outputs": [],
   "source": [
    "%matplotlib notebook \n",
    "# This enables you to drag and rotate the figure\n",
    "\n",
    "from mpl_toolkits.mplot3d import Axes3D # needed to do the 3D Plots\n",
    "import numpy as np\n",
    "import matplotlib.pyplot as plt"
   ]
  },
  {
   "cell_type": "code",
   "execution_count": null,
   "metadata": {},
   "outputs": [],
   "source": [
    "fig = plt.figure()\n",
    "ax = fig.gca(projection='3d')\n",
    "\n",
    "u = np.linspace(0, 2*np.pi, 100)\n",
    "v = np.linspace(0, 2*np.pi, 100)\n",
    "u, v = np.meshgrid(u, v) # Make coordinate matrices from coordinate vectors.\n",
    "a, c = 0.2, 1.0 # Set a and c from the torus parametrization\n",
    "\n",
    "# Paramatrization\n",
    "x = (c + a*np.cos(v))*np.cos(u)\n",
    "y = (c + a*np.cos(v))*np.sin(u)\n",
    "z = a*np.sin(v)\n",
    "\n",
    "\n",
    "ax.plot_surface(x, y, z)\n",
    "\n",
    "ax.set_xlim3d(-1, 1)\n",
    "ax.set_ylim3d(-1, 1)\n",
    "ax.set_zlim3d(-1, 1)\n",
    "plt.show()"
   ]
  },
  {
   "cell_type": "markdown",
   "metadata": {},
   "source": [
    "# Make a surface plot of a sphere\n",
    "\n",
    "Plot a sphere the parametrization is:\n",
    "\n",
    "\\begin{align}\n",
    "x &= r \\cos \\theta \\sin \\phi  \\\\\n",
    "y &= r \\sin \\theta \\sin \\phi  \\\\\n",
    "z &= r \\cos \\phi \n",
    "\\end{align}\n",
    "\n",
    "where $\\theta$ is the loggitude coorinate running from $0$ to $2\\pi$, \n",
    "$\\phi$ is the colatitude coordinate running from $0$ to $\\pi$ and $r$ is the radius."
   ]
  },
  {
   "cell_type": "code",
   "execution_count": null,
   "metadata": {},
   "outputs": [],
   "source": [
    "fig = plt.figure()\n",
    "ax = fig.gca(projection='3d')\n",
    "\n",
    "# Fill inn the rest"
   ]
  },
  {
   "cell_type": "markdown",
   "metadata": {},
   "source": [
    "# Make a surface plot of a Mobius strip\n",
    "\n",
    "The parametrization is:\n",
    "\\begin{align}\n",
    "x &= \\left(1 + \\frac{v}{2}\\cos \\frac{u}{2} \\right)\\cos u  \\\\\n",
    "y &= \\left(1 + \\frac{v}{2}\\cos v \\right)\\sin u  \\\\\n",
    "z &= \\frac{v}{2}\\sin \\frac{u}{2} \n",
    "\\end{align}\n",
    "\n",
    "where $u$ is running from $0$ to $2\\pi$ and $v$ is running from $-1$ to $1$."
   ]
  },
  {
   "cell_type": "code",
   "execution_count": null,
   "metadata": {
    "scrolled": true
   },
   "outputs": [],
   "source": [
    "fig = plt.figure()\n",
    "ax = fig.gca(projection='3d')\n",
    "\n",
    "# Fill inn the rest\n"
   ]
  },
  {
   "cell_type": "code",
   "execution_count": null,
   "metadata": {},
   "outputs": [],
   "source": []
  }
 ],
 "metadata": {
  "kernelspec": {
   "display_name": "Python 3",
   "language": "python",
   "name": "python3"
  },
  "language_info": {
   "codemirror_mode": {
    "name": "ipython",
    "version": 3
   },
   "file_extension": ".py",
   "mimetype": "text/x-python",
   "name": "python",
   "nbconvert_exporter": "python",
   "pygments_lexer": "ipython3",
   "version": "3.7.3"
  }
 },
 "nbformat": 4,
 "nbformat_minor": 2
}
