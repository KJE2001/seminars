{
 "cells": [
  {
   "cell_type": "markdown",
   "metadata": {},
   "source": [
    "<figure>\n",
    "  <IMG SRC=\"gfx/Logo_norsk_pos.png\" WIDTH=100 ALIGN=\"right\">\n",
    "</figure>\n",
    "\n",
    "# Linear algebra crash course\n",
    "*Roberto Di Remigio*, *Luca Frediani*\n",
    "\n",
    "This is a very brief and incomplete introduction to a few selected topics in linear algebra.\n",
    "An extremely well-written book, covering many topics in mathematics heavily used in physics is James Nearing's [Mathematical Tools for Physics]. The book is freely available online on the author's website.\n",
    "These notes were translated from the italian version, originally written by Filippo Lipparini and Benedetta Mennucci.\n",
    "\n",
    "## Vector spaces and bases\n",
    "\n",
    "#### Definition: Vector space\n",
    "Let $\\mathbb{R}$ be the set of real numbers. Elements of $\\mathbb{R}$ will be called _scalars_, to distinguish them from vectors. We define as a vector space $V$ on the field $\\mathbb{R}$ the set of vectors such that:\n",
    "\n",
    "* the sum of two vectors is still a vector. For any pair of vectors $\\mathbf{u},\\mathbf{v}\\in V$ their sum\n",
    " $\\mathbf{w} = \\mathbf{u}+\\mathbf{v} = \\mathbf{v} + \\mathbf{u}$ is still an element of $V$.\n",
    "* the product of a vector and a scalar is still a vector. For any $\\mathbf{v}\\in V$ and for any $\\alpha \\in \\mathbb{R}$\n",
    " the product $\\mathbf{w} = \\alpha\\mathbf{v}$ is still an element of $V$.\n",
    "\n",
    "We will write vectors using a boldface font, while we will use normal font for scalars.\n",
    "\n",
    "Real numbers already are an example of a vector space: the sum of two\n",
    "real numbers is still a real number, as is their product.\n",
    "Vectors in the plane are yet another example (when their starting point is the origin of axes):\n",
    "a sum of two vectors, given by the _parallelogram rule_, is still a vector in the plane; the product of a vector by a scalar is a vector with direction equal to that of the original vector and magnitude given by the product of the scalar and the magnitude\n",
    "of the original vector.\n",
    "\n",
    "How big is a vector space? It is possible to get an intuitive idea of dimension for ``geometric'' vector spaces:\n",
    "the plane has dimension 2, the space has dimension 3, while the set of real numbers has dimension 1.\n",
    "Some more definitions will help in getting a more precise idea of what the dimension of a vector space is.\n",
    "\n",
    "#### Definition: Linear combination\n",
    "A _linear combination_ of vectors $\\mathbf{v}_1, \\mathbf{v}_2, \\ldots, \\mathbf{v}_n$ is the vector obtained by summing\n",
    "these vectors, possibly multiplied by a scalar:\n",
    "\\begin{equation}\n",
    " \\mathbf{w} = c_1\\mathbf{v}_1 + c_2\\mathbf{v}_2 + \\ldots + c_n\\mathbf{v}_n = \\sum_{i = 1}^n c_i\\mathbf{v}_i\n",
    "\\end{equation}\n",
    "\n",
    "#### Definition: Linear dependence\n",
    "Two non-zero vectors are said to be _linearly dependent_ if and only if (iff) there exist two non-zero scalars $c_1, c_2$\n",
    " such that:\n",
    " \\begin{equation}\n",
    "  c_1\\mathbf{v}_1 + c_2\\mathbf{v}_2 = \\mathbf{0}\n",
    " \\end{equation}\n",
    " where $\\mathbf{0}$ is the null vector. Equivalently, two vectors are said to be linearly dependent if one can be written as\n",
    " the other multiplied by a scalar:\n",
    " \\begin{equation}\n",
    "  \\mathbf{v}_2 = -\\frac{c_1}{c_2} \\mathbf{v}_1\n",
    " \\end{equation}\n",
    "Conversely, two vectors are said to be _linearly independent_ when the following is true:\n",
    "\\begin{equation}\n",
    " c_1\\mathbf{v}_1 + c_2\\mathbf{v}_2 = \\mathbf{0} \\quad\\Leftrightarrow\\quad c_1=c_2 = 0\n",
    "\\end{equation}\n",
    "\n",
    "Consider now two linearly dependent vectors in the plane. What does this imply? As one can be expressed as a scalar multiplied by the other,\n",
    "they have the same _direction_ and _magnitude_ differing by a factor.\n",
    "\n",
    "The notions above are easily generalized to more than a pair of vectors: vectors $\\mathbf{v}_1, \\mathbf{v}_2, \\ldots\\mathbf{v}_n$\n",
    "are linearly independent iff the only linear combination that gives the null vector is the one where all the coefficients are zero:\n",
    "\\begin{equation}\n",
    " \\sum_{i=1}^n c_n\\mathbf{v}_n = \\mathbf{0} \\quad\\Leftrightarrow\\quad c_i = 0 \\forall i\n",
    "\\end{equation}\n",
    "\n",
    "How many linearly independent vectors are there in the plane? As our intuition told us before: only 2! Let us think about the unit vectors\n",
    "$\\mathbf{i}$ and $\\mathbf{j}$, i.e. the orthogonal vectors of unit magnitude we can draw on the Cartesian $x$ and $y$ axes. All the vectors in\n",
    "the plane can be written as a linear combination of those two:\n",
    "\\begin{equation}\n",
    " \\mathbf{r} = x\\mathbf{i} + y\\mathbf{j}\n",
    "\\end{equation}\n",
    "We are already used to specify a vector by means of its _components_ $x$ and $y$. So, by taking linear combinations of the two unit vectors \n",
    "we are able to generate _all_ the vectors in the plane. Doesn't this look familiar? Think about the set of complex numbers $\\mathbb{C}$\n",
    "and the way we represent it.\n",
    "It's now time for some remarks:\n",
    "1. the orthogonal, unit vectors in the plane are linearly independent;\n",
    "2. they are the minimal number of vectors needed to _span_, i.e. to generate, all the other vectors in the plane.\n",
    "\n",
    "#### Definition: Basis\n",
    " Given the vector space $V$ its _basis_ is defined as the minimal set of linearly independent vectors \n",
    " $\\mathcal{B} = \\lbrace \\mathbf{e}_1,\\mathbf{e}_2, \\ldots,\\mathbf{e}_n \\rbrace$ spanning all the vectors in the space.\n",
    " This means that any suitable linear combination of vectors in $\\mathcal{B}$ generates a vector $\\mathbf{v}\\in V$:\n",
    " \\begin{equation}\n",
    "  \\mathbf{v} = c_1\\mathbf{e}_1 + c_2\\mathbf{e}_2 + \\ldots + c_n\\mathbf{e}_n = \\sum_{i=1}^n c_n \\mathbf{e}_n\n",
    " \\end{equation}\n",
    " the coefficients in the linear combination are called _components_ or _coordinates_ of the vector $\\mathbf{v}$ in the given\n",
    " basis $\\mathcal{B}$.\n",
    " \n",
    "Turning back to our vectors in the plane, the set $\\lbrace \\mathbf{i}, \\mathbf{j} \\rbrace$ is a basis for the plane and that\n",
    "that $x$ and $y$ are the components of the vector $\\mathbf{r}$.\n",
    "We are now ready to answer the question: how big is a vector space?\n",
    "\n",
    "#### Defintion: Dimension of a vector space\n",
    " The _dimension_ of a vector space is the number of vectors making up its basis.\n",
    "\n",
    "[Mathematical Tools for Physics]: http://www.physics.miami.edu/~nearing/mathmethods/"
   ]
  },
  {
   "cell_type": "markdown",
   "metadata": {},
   "source": [
    "## Vectors using NumPy\n",
    "\n",
    "We have already seen how to use NumPy to handle quantities that are vector-like. For example, when we needed to plot a function with `matplotlib`, we first generated a _linearly spaced_ vector of $N$ points inside an interval and then evaluated the function in those points.\n",
    "Vectors, matrices and objects with higher dimensions are all represented as _arrays_.\n",
    "An array is a _homogeneous_ grid of values that is indexed by a tuple of nonnegative integers.\n",
    "There are two important terms related to NumPy arrays:\n",
    "1. the **rank**  of an array is the number of dimensions,\n",
    "2. the **shape** is a _tuple_ of nonnegative integers, giving the size of the array along each dimension.\n",
    "\n",
    "Let's see what that means by starting with the simplest array: a one-dimensional array."
   ]
  },
  {
   "cell_type": "code",
   "execution_count": 7,
   "metadata": {
    "collapsed": false
   },
   "outputs": [
    {
     "name": "stdout",
     "output_type": "stream",
     "text": [
      "<type 'numpy.ndarray'>\n",
      "(3,)\n"
     ]
    }
   ],
   "source": [
    "import numpy as np\n",
    "a = np.array([1, 2, 3])  # Create a rank 1 array\n",
    "print type(a)            # Prints \"<type 'numpy.ndarray'>\"\n",
    "print a.shape            # Prints \"(3,)\""
   ]
  },
  {
   "cell_type": "markdown",
   "metadata": {},
   "source": [
    "As you can see, we can easily access all this information. One-dimensional arrays in NumPy can be used to represent vectors, while two-dimensional arrays can be used to represent matrices.\n",
    "`a = np.array([1, 2, 3])` is equivalent to the vector:\n",
    "\\begin{equation}\n",
    "  \\mathbf{a} = \\begin{pmatrix}\n",
    "                1 \\\\\n",
    "                2 \\\\\n",
    "                3\n",
    "               \\end{pmatrix}\n",
    "\\end{equation}\n",
    "The _components_ of the vector can be accessed using so-called **subscript** notation, as in the following code snippet:"
   ]
  },
  {
   "cell_type": "code",
   "execution_count": 8,
   "metadata": {
    "collapsed": false
   },
   "outputs": [
    {
     "name": "stdout",
     "output_type": "stream",
     "text": [
      "1 2 3\n",
      "[5 2 3]\n"
     ]
    }
   ],
   "source": [
    "print a[0], a[1], a[2]   # Prints \"1 2 3\"\n",
    "a[0] = 5                 # Change an element of the array\n",
    "print a                  # Prints \"[5, 2, 3]\""
   ]
  },
  {
   "cell_type": "markdown",
   "metadata": {},
   "source": [
    "index counting in Python starts from 0 not from 1! As you can see, subscript notation can also be used to modify the value at a given index.\n",
    "There a number of predefined functions to create arrays with certain properties.\n",
    "We have already met `linspace` and here is a list of some additional functions:"
   ]
  },
  {
   "cell_type": "code",
   "execution_count": 17,
   "metadata": {
    "collapsed": false
   },
   "outputs": [
    {
     "name": "stdout",
     "output_type": "stream",
     "text": [
      "[ 0.  0.  0.  0.  0.  0.  0.  0.  0.  0.]\n",
      "[ 1.  1.  1.  1.  1.  1.  1.  1.  1.  1.]\n",
      "[ 7.  7.  7.  7.  7.  7.  7.  7.  7.  7.]\n",
      "[ 0.24558355  0.26434103  0.41386372  0.54103009  0.56897755  0.17557157\n",
      "  0.31881547  0.71134803  0.75077922  0.84060701]\n"
     ]
    }
   ],
   "source": [
    "a = np.zeros(10)  # Create an array of all zeros\n",
    "print a          \n",
    "\n",
    "b = np.ones(10)   # Create an array of all ones\n",
    "print b              # Prints \"[[ 1.  1.]]\"\n",
    "\n",
    "c = np.full(10, 7) # Create a constant array\n",
    "print c               # Prints \"[[ 7.  7.]\n",
    "                      #          [ 7.  7.]]\"\n",
    "\n",
    "e = np.random.random(10) # Create an array filled with random values\n",
    "print e                    "
   ]
  },
  {
   "cell_type": "markdown",
   "metadata": {},
   "source": [
    "NumPy supports indexing arrays _via_ **slicing** like Matlab does. While indexing _via_ a single integer number will return the element at that position of the array, _i.e._ a scalar, slicing will return another array with fewer dimensions. For example:"
   ]
  },
  {
   "cell_type": "code",
   "execution_count": 34,
   "metadata": {
    "collapsed": false
   },
   "outputs": [
    {
     "name": "stdout",
     "output_type": "stream",
     "text": [
      "(15,)\n",
      "[ 0.59700721  0.17062795  0.04574201  0.02625041  0.19350878  0.59852192\n",
      "  0.54664156  0.96662685  0.80674824  0.94584056  0.50966187  0.65703843\n",
      "  0.90783878  0.60292298  0.78075832]\n",
      "0.945840560244 0.509661870044 0.780758324335\n",
      "Taking a slice!\n",
      "[ 0.04574201  0.02625041  0.19350878  0.59852192  0.54664156  0.96662685\n",
      "  0.80674824  0.94584056  0.50966187  0.65703843  0.90783878  0.60292298\n",
      "  0.78075832]\n",
      "We have removed two elements!\n",
      "(13,)\n",
      "Take another slice: all elements in between the third and tenth\n",
      "[ 0.04574201  0.02625041  0.19350878  0.59852192  0.54664156  0.96662685\n",
      "  0.80674824  0.94584056  0.50966187]\n"
     ]
    }
   ],
   "source": [
    "a = np.random.random(15) # Create an array of rank 15\n",
    "print a.shape\n",
    "print a\n",
    "\n",
    "# Select elements 10, 11 and 15 of the array\n",
    "print a[9], a[10], a[14]\n",
    "\n",
    "# Now take a slice: all elements, but the first and second\n",
    "print 'Taking a slice!'\n",
    "b = a[2:]\n",
    "print b\n",
    "# And notice how the rank changed!\n",
    "print 'We have removed two elements!'\n",
    "print b.shape\n",
    "\n",
    "print 'Take another slice: all elements in between the third and tenth'\n",
    "c = a[2:11]\n",
    "print c"
   ]
  },
  {
   "cell_type": "markdown",
   "metadata": {},
   "source": [
    "As you can see, we can quite easily select just parts of an array and either create new, smaller arrays or just obtain the value at a certain position.\n",
    "Algebraic operations and functions are also defined on arrays. The definitions for addition and subtraction are obvious. Those for multiplication, division and other mathematical functions are less obvious: in NumPy they are always performed element-wise.\n",
    "The following example will clarify."
   ]
  },
  {
   "cell_type": "code",
   "execution_count": 50,
   "metadata": {
    "collapsed": false
   },
   "outputs": [
    {
     "name": "stdout",
     "output_type": "stream",
     "text": [
      "[ 7.  7.  7.  7.  7.  7.  7.  7.  7.  7.]\n",
      "[ 4.  4.  4.  4.  4.  4.  4.  4.  4.  4.]\n",
      "Sum of a and b\n",
      "[ 11.  11.  11.  11.  11.  11.  11.  11.  11.  11.]\n",
      "Difference of a and b\n",
      "[ 3.  3.  3.  3.  3.  3.  3.  3.  3.  3.]\n",
      "Elementwise product of a and b\n",
      "[ 28.  28.  28.  28.  28.  28.  28.  28.  28.  28.]\n",
      "Elementwise division of a and b\n",
      "[ 1.75  1.75  1.75  1.75  1.75  1.75  1.75  1.75  1.75  1.75]\n",
      "Elementwise square root of b\n",
      "[ 2.  2.  2.  2.  2.  2.  2.  2.  2.  2.]\n"
     ]
    }
   ],
   "source": [
    "a = np.full(10, 7.)\n",
    "b = np.full(10, 4.)\n",
    "print a\n",
    "print b\n",
    "\n",
    "print 'Sum of a and b'\n",
    "print a + b\n",
    "\n",
    "print 'Difference of a and b'\n",
    "print a - b\n",
    "\n",
    "print 'Elementwise product of a and b'\n",
    "print a * b\n",
    "\n",
    "print 'Elementwise division of a and b'\n",
    "print a / b\n",
    "\n",
    "print 'Elementwise square root of b'\n",
    "print np.sqrt(b)"
   ]
  }
 ],
 "metadata": {
  "kernelspec": {
   "display_name": "Python 2",
   "language": "python",
   "name": "python2"
  },
  "language_info": {
   "codemirror_mode": {
    "name": "ipython",
    "version": 2
   },
   "file_extension": ".py",
   "mimetype": "text/x-python",
   "name": "python",
   "nbconvert_exporter": "python",
   "pygments_lexer": "ipython2",
   "version": "2.7.10"
  }
 },
 "nbformat": 4,
 "nbformat_minor": 0
}
