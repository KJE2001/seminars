{
 "cells": [
  {
   "cell_type": "markdown",
   "metadata": {},
   "source": [
    "<figure>\n",
    "  <IMG SRC=\"gfx/Logo_norsk_pos.png\" WIDTH=100 ALIGN=\"right\">\n",
    "</figure>\n",
    "\n",
    "# Operators and commutators\n",
    "*Roberto Di Remigio*, *Luca Frediani*\n",
    "\n",
    "We will be exercising our knowledge of operators and commutator algebra. These are extremely useful exercises, as you\n",
    "will see these type of manipulations recurring throughout the rest of the course.\n",
    "A note on notation:\n",
    "\n",
    "* an operator will be designed by putting an hat on top of any letter:\n",
    " \\begin{equation}\n",
    "  \\hat{A},\\,\\hat{O},\\,\\hat{b},\\,\\hat{\\gamma}\n",
    " \\end{equation}\n",
    "* the commutator of two operators is defined as:\n",
    " \\begin{equation}\n",
    "  [\\hat{A}, \\hat{B}] = \\hat{A}\\hat{B} - \\hat{B}\\hat{A}\n",
    " \\end{equation}\n",
    "* the position and momentum operator are defined as:\n",
    " \\begin{equation}\n",
    "  \\hat{x}_i = x_i\\cdot \\quad\\quad \\hat{p}_i = -\\mathrm{i}\\hbar\\frac{\\partial}{\\partial x_i}\n",
    " \\end{equation}\n",
    " where $i$ refers to any of the three Cartesian components, i.e. $i = x, y, z$\n",
    "* the Canonical Commutation Relations (CCR) are:\n",
    " \\begin{alignat}{3}\n",
    "  [x_i, x_j] = 0; \\quad& [p_i, p_j] = 0; \\quad& [x_i, p_j] = \\mathrm{i}\\hbar \\delta_{ij}\n",
    " \\end{alignat}\n",
    " where the \\emph{Kronecker $\\delta$ symbol} is defined as:\n",
    " \\begin{equation}\n",
    "  \\delta_{ij} = \n",
    "  \\begin{cases}\n",
    "   1 & \\text{if } i = j \\\\\n",
    "   0 & \\text{if } i \\neq j\n",
    "  \\end{cases}\n",
    " \\end{equation}\n",
    "* Dirac braket notation. We will interpret the following symbols as:\n",
    " \\begin{equation}\n",
    "  \\langle \\psi | \\phi \\rangle = \\int \\mathrm{d} \\mathbf{r} \\psi^*(\\mathbf{r})\\phi(\\mathbf{r})\n",
    " \\end{equation}\n",
    " \\begin{equation}\n",
    "  \\langle \\psi | \\hat{A} | \\phi \\rangle = \\int\\mathrm{d} \\mathbf{r} \\psi^*(\\mathbf{r})\\hat{A}\\phi(\\mathbf{r})\n",
    " \\end{equation}"
   ]
  },
  {
   "cell_type": "markdown",
   "metadata": {},
   "source": [
    "## Exercise 1: The importance of commuting\n",
    "\n",
    " Let us have two operators $\\hat{A}$ and $\\hat{B}$. Further assume that their commutator\n",
    " is known to be: $[\\hat{A}, \\hat{B}] = c$, where $c$ is a scalar (a complex number in\n",
    " the general case).\n",
    " Is the following true?\n",
    " \\begin{equation}\n",
    "  \\langle \\psi| \\hat{A}\\hat{B} |\\phi \\rangle = \\langle \\psi| \\hat{B}\\hat{A} | \\phi \\rangle\n",
    " \\end{equation}\n",
    " To convince yourself, try to calculate:\n",
    " \\begin{equation}\n",
    "  \\langle \\sin(x) |\\hat{x}\\hat{p}_x | \\cos(x) \\rangle; \\quad\\quad \\langle \\sin(x) |\\hat{p}_x\\hat{x} | \\cos(x) \\rangle\n",
    " \\end{equation}"
   ]
  },
  {
   "cell_type": "markdown",
   "metadata": {},
   "source": [
    "## Exercise 2: Commutator identities\n",
    "\n",
    " Prove the following commutator identities:\n",
    "  \\begin{align}\n",
    "  &[\\hat{A}, \\hat{A}] = 0 \\\\\n",
    "  &[\\hat{A}, \\hat{B}] = - [\\hat{B}, \\hat{A}] \\\\\n",
    "  &[\\hat{A}+\\hat{B}, \\hat{C}] = [\\hat{A}, \\hat{C}] + [\\hat{B}, \\hat{C}] \\\\\n",
    "  &[\\hat{A}, \\hat{B}\\hat{C}] = [\\hat{A}, \\hat{B}]\\hat{C} + \\hat{B}[\\hat{A},\\hat{C}] \\\\\n",
    "  &[\\hat{A}, [\\hat{B}, \\hat{C}]] + [\\hat{B}, [\\hat{C}, \\hat{A}]] + [\\hat{C}, [\\hat{A}, \\hat{B}]] = 0 \n",
    "  \\end{align}\n",
    "The last one is known as _Jacobi identity_."
   ]
  },
  {
   "cell_type": "markdown",
   "metadata": {},
   "source": [
    "## Exercise 3: Some more commutators\n",
    "\n",
    " Having proved the commutator identities, calculate the following commutators:\n",
    " \\begin{align}\n",
    "  &[\\hat{p}_x, \\hat{x}^2] \\\\\n",
    "  &[\\hat{y}\\hat{p}_z - \\hat{z}\\hat{p}_y, \\hat{z}\\hat{p}_x - \\hat{x}\\hat{p}_z] \\\\\n",
    "  &[\\hat{a}, \\hat{a}^\\dagger]\n",
    " \\end{align}\n",
    " where:\n",
    " \\begin{alignat}{2}\n",
    "  \\hat{a} = \\frac{\\hat{x} + \\mathrm{i}\\hat{p}_x}{\\sqrt{2}}; \\quad & \\quad \\hat{a}^\\dagger = \\frac{\\hat{x} - \\mathrm{i}\\hat{p}_x}{\\sqrt{2}}\n",
    " \\end{alignat}"
   ]
  },
  {
   "cell_type": "markdown",
   "metadata": {},
   "source": [
    "## Exercise 4: Normalization\n",
    "\n",
    " In quantum mechanics, physical states are represented by mathematical objects called _wavefunctions_. Wavefunctions are\n",
    " functions of the coordinates: $\\psi(\\mathbf{r})$. Not all functions can aspire to become wavefunctions. As wavefunctions represent\n",
    " _probability densities_, a very important requirement they must satisfy is to be _normalizable_:\n",
    " \\begin{equation}\n",
    "  \\langle \\psi|\\psi\\rangle = \\int \\mathrm{d} \\mathbf{r} \\psi^*(\\mathbf{r}) \\psi(\\mathbf{r}) < \\infty\n",
    " \\end{equation}\n",
    " i.e. the integral above must be _finite_. Notice that the property of normalizability depends on the \\emph{domain} of the function\n",
    " and the limits of the integration above.\n",
    " Are the following functions normalizable?\n",
    " \\begin{align}\n",
    "  \\psi(x) &= e^{-\\frac{x^2}{2}} \\quad x\\in[-\\infty, +\\infty] \\\\\n",
    "  \\psi(x) &= e^{-x} \\quad x\\in[0, +\\infty] \\\\\n",
    "  \\psi(x) &= e^{-x} \\quad x\\in[-\\infty, +\\infty] \\\\\n",
    "  \\psi(x) &= e^{\\mathrm{i}x} \\quad x\\in[-\\infty, +\\infty] \\\\\n",
    "  \\psi(x) &= e^{\\mathrm{i}x} \\quad x\\in[-\\pi, +\\pi]\n",
    " \\end{align}"
   ]
  },
  {
   "cell_type": "markdown",
   "metadata": {},
   "source": [
    "## Exercise 5: Self-adjointedness 1\n",
    "\n",
    " For any operator on our vector space of functions, we can define its _adjoint_ operator (also called _Hermitian conjugate_).\n",
    " Given the operator $\\hat{A}$, the operator $\\hat{A}^\\dagger$ is its adjoint if and only if, for any pair of vectors $\\psi, \\phi$ the following\n",
    " holds true:\n",
    " \\begin{equation}\n",
    "  \\langle \\psi | \\hat{A} | \\phi \\rangle^* = \\langle \\phi | \\hat{A}^\\dagger | \\psi \\rangle\n",
    " \\end{equation}\n",
    " Of all the operators that can exist, a class is particularly interesting in quantum mechanics: the _self-adjoint_ operators. \n",
    " An operator $\\hat{A}$ is said to be self-adjoint if and only if, for any pair of vectors $\\psi, \\phi$ we have:\n",
    " \\begin{equation}\n",
    "  \\langle \\psi | \\hat{A} | \\phi \\rangle^* = \\langle \\phi | \\hat{A} | \\psi \\rangle\n",
    " \\end{equation}\n",
    " that is to say: $\\hat{A} = \\hat{A}^\\dagger$. Why are self-adjoint operators so important? Because they have a series of important\n",
    " properties that make them useful in representing physical observables, such as position, momentum, energy etc.\n",
    " \n",
    " In this exercise, we will prove that the momentum operator is self-adjoint. To simplify the matter, we will just prove it for $\\hat{p}_x$.\n",
    " First let's write down explicitly $\\langle \\psi | \\hat{p}_x | \\phi \\rangle$:\n",
    " \\begin{equation}\n",
    "  \\int \\mathrm{d} x \\psi^*(x)\\left[-\\mathrm{i}\\hbar \\frac{\\partial}{\\partial x} \\phi(x)\\right]\n",
    " \\end{equation}\n",
    " We then take the complex conjugate:\n",
    " \\begin{equation}\n",
    "  \\int \\mathrm{d} x \\psi(x)\\left[\\mathrm{i}\\hbar \\frac{\\partial}{\\partial x} \\phi^*(x)\\right]\n",
    " \\end{equation}\n",
    " and this need to be equal to:\n",
    " \\begin{equation}\n",
    " \\int \\mathrm{d} x \\phi^*(x)\\left[-\\mathrm{i}\\hbar \\frac{\\partial}{\\partial x} \\psi(x)\\right]\n",
    " \\end{equation}\n",
    " Is the operator $-\\hbar\\frac{\\partial}{\\partial x}$ self-adjoint?\n",
    " \n",
    " **Warning** You can't just move $\\phi^*(x)$ to the left!! The momentum operator is a derivative with respect to $x$!\n",
    " \n",
    " **Hint 1** Use integration by parts on the last expression. Remember that we are integrating on the whole set of real numbers i.e. $\\int$ means $\\int_{-\\infty}^{+\\infty}$.\n",
    " \n",
    " **Hint 2** The functions in our vector space go to zero at infinity, so that $[\\psi(x)\\phi^*(x)]_{-\\infty}^{+\\infty}= 0$\n"
   ]
  },
  {
   "cell_type": "markdown",
   "metadata": {},
   "source": [
    "## Exercise 6: Self-adjointedness 2\n",
    "\n",
    " Now that you know the tricks of the trade, which of the following operators are self-adjoint?\n",
    " \\begin{align}\n",
    "  & \\hat{p}_x^2 = -\\hbar^2 \\frac{\\partial^2}{\\partial x^2} \\\\\n",
    "  & \\hat{l}_x = \\hat{y}\\hat{p}_z - \\hat{z}\\hat{p}_y \\\\\n",
    "  & \\hat{a} = \\frac{\\hat{x} + \\mathrm{i}\\hat{p}_x}{\\sqrt{2}} \\\\\n",
    "  & \\hat{a}^\\dagger =  \\frac{\\hat{x} - \\mathrm{i}\\hat{p}_x}{\\sqrt{2}}\n",
    " \\end{align}"
   ]
  },
  {
   "cell_type": "code",
   "execution_count": null,
   "metadata": {
    "collapsed": true
   },
   "outputs": [],
   "source": []
  }
 ],
 "metadata": {
  "kernelspec": {
   "display_name": "Python 2",
   "language": "python",
   "name": "python2"
  },
  "language_info": {
   "codemirror_mode": {
    "name": "ipython",
    "version": 2
   },
   "file_extension": ".py",
   "mimetype": "text/x-python",
   "name": "python",
   "nbconvert_exporter": "python",
   "pygments_lexer": "ipython2",
   "version": "2.7.10"
  }
 },
 "nbformat": 4,
 "nbformat_minor": 0
}
