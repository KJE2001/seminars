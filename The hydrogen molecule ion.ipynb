{
 "cells": [
  {
   "cell_type": "markdown",
   "metadata": {},
   "source": [
    "# The Hydrogen molecule ion\n",
    "\n",
    "\n",
    "For further reference look at Explain everything [Orbitals](https://drive.explaineverything.com/thecode/DRASNMU) and [Energy](https://drive.explaineverything.com/thecode/QBNXQVC).\n",
    "\n",
    "\n",
    "Given the Born Oppenheimer approximation the wavefunction for the Hydrogen molecule ion is given as:\n",
    "\n",
    "\\begin{align}\n",
    "\\psi_\\pm = \\frac{1}{\\sqrt{2 \\pm 2 s}} (s_a + s_b)\n",
    "\\end{align}\n",
    "\n",
    "where $s_a$ and $s_b$ are given as \n",
    "\\begin{align}\n",
    "s_a = \\frac{e^{-|r - r_a|}}{\\sqrt{2}} && s_b = \\frac{e^{-|r - r_b|}}{\\sqrt{2}} \n",
    "\\end{align}\n",
    "\n",
    "and $s$ is the overlap integral \n",
    "\n",
    "\\begin{align}\n",
    "s = \\int s_a s_b d r = \\left[1 + R + \\frac{1}{3} R^2\\right]e^{-R}\n",
    "\\end{align}\n",
    "\n",
    "Where R is the distance between nucleus $a$ and $b$.\n",
    "\n",
    "\\begin{align}\n",
    "R = |a - b| \n",
    "\\end{align}"
   ]
  },
  {
   "cell_type": "markdown",
   "metadata": {},
   "source": [
    "## Exercise 1\n",
    "\n",
    "Define a function overlap integral and plot it.\n",
    "\n",
    "```python\n",
    "def overlap_integral(R):\n",
    "    \"\"\"input:\n",
    "       R: distance between a and b\n",
    "       out:\n",
    "       overlap integral s as defined above\n",
    "       \"\"\"\n",
    "   \n",
    "    \n",
    "    IMPLEMENT_ME\n",
    "```\n",
    "\n",
    "Plot these and check that they look like nuclear cusps. "
   ]
  },
  {
   "cell_type": "markdown",
   "metadata": {},
   "source": [
    "## Exercise 2\n",
    "\n",
    "Define the wavefunctions $1s$ orbital.\n",
    "\n",
    "```python\n",
    "def s_orbital(r_0, r):\n",
    "    \"\"\"\n",
    "    input:\n",
    "        r0 is the center of the nuclei (r_a or r_b).\n",
    "        r is function variable as defined above\n",
    "        \n",
    "    output:\n",
    "        return the function values of the s_orbitals\n",
    "    \"\"\"\n",
    "```"
   ]
  },
  {
   "cell_type": "markdown",
   "metadata": {},
   "source": [
    "##  Exercise 3\n",
    "\n",
    "\n",
    "Using what you made in the previus exercises make the wavefunctions $\\psi_+$ and $\\psi_-$. In addition you can make a neutral $\\psi$ where you set the normalization factor to 1, this can act as a reference. \n",
    "\n",
    "\n",
    "```python\n",
    "\n",
    "\n",
    "def psi_neutral(r_a, r_b, r):\n",
    "    \"\"\"\n",
    "    input:\n",
    "        r_a is the position of nuclei a\n",
    "        r_b is the position of nuclei b\n",
    "        r is the function variable\n",
    "        \n",
    "    output:\n",
    "        the fuction values of psi_minus\n",
    "    \"\"\"     \n",
    "\n",
    "def psi_plus(r_a, r_b, r):\n",
    "    \"\"\"\n",
    "    input:\n",
    "        r_a is the position of nuclei a\n",
    "        r_b is the position of nuclei b\n",
    "        r is the function variable\n",
    "        \n",
    "    output:\n",
    "        the fuction values of psi_plus\n",
    "    \"\"\"\n",
    "    \n",
    "def psi_minus(r_a, r_b, r):\n",
    "    \"\"\"\n",
    "    input:\n",
    "        r_a is the position of nuclei a\n",
    "        r_b is the position of nuclei b\n",
    "        r is the function variable\n",
    "        \n",
    "    output:\n",
    "        the fuction values of psi_minus\n",
    "    \"\"\"     \n",
    "    \n",
    "```\n",
    "\n",
    "Plot these three together in the same figure. Which wavefunction represents bonding and anti-bonding orbitals?\n"
   ]
  },
  {
   "cell_type": "code",
   "execution_count": null,
   "metadata": {},
   "outputs": [],
   "source": [
    "import numpy as np\n",
    "\n",
    "def overlap_integral(R):\n",
    "    return (1 + R + R**2/3)*np.exp(-R)\n",
    "\n",
    "def s_orbital(r0, r):\n",
    "    return np.exp(-np.abs(r - r0))/np.sqrt(np.pi)\n",
    "\n",
    "def psi_plus(r_a, r_b, r):\n",
    "    return (s_orbital(r_a, r) + s_orbital(r_b, r))/np.sqrt(2 + 2*overlap_integral(np.abs(r_a - r_b)))\n",
    "\n",
    "def psi_minus(r_a, r_b, r):\n",
    "    return (s_orbital(r_a, r) + s_orbital(r_b, r))/np.sqrt(2 - 2*overlap_integral(np.abs(r_a - r_b)))\n",
    "\n",
    "\n",
    "def psi_neutral(r_a, r_b, r):\n",
    "    return (s_orbital(r_a, r) + s_orbital(r_b, r))/no.sqrt(2)\n",
    "\n",
    "\n",
    "\n"
   ]
  },
  {
   "cell_type": "code",
   "execution_count": 20,
   "metadata": {},
   "outputs": [
    {
     "data": {
      "text/plain": [
       "[<matplotlib.lines.Line2D at 0x7f3594a33cf8>]"
      ]
     },
     "execution_count": 20,
     "metadata": {},
     "output_type": "execute_result"
    },
    {
     "data": {
      "image/png": "[encoded data removed]",
      "text/plain": [
       "<Figure size 432x288 with 1 Axes>"
      ]
     },
     "metadata": {
      "needs_background": "light"
     },
     "output_type": "display_data"
    }
   ],
   "source": [
    "import matplotlib.pyplot as plt\n",
    "\n",
    "r = np.arange(0, 15, 0.01)\n",
    "val = psi_minus(3.0, 10.0, r)**2\n",
    "val_1 = psi_plus(3.0, 10.0, r)**2\n",
    "val_2 = psi_neutral(3.0, 10.0, r)**2\n",
    "\n",
    "\n",
    "plt.plot(r, val)\n",
    "plt.plot(r, val_1)\n",
    "plt.plot(r, val_2)"
   ]
  },
  {
   "cell_type": "code",
   "execution_count": null,
   "metadata": {},
   "outputs": [],
   "source": []
  },
  {
   "cell_type": "code",
   "execution_count": null,
   "metadata": {},
   "outputs": [],
   "source": []
  },
  {
   "cell_type": "code",
   "execution_count": null,
   "metadata": {},
   "outputs": [],
   "source": []
  }
 ],
 "metadata": {
  "kernelspec": {
   "display_name": "Python 3",
   "language": "python",
   "name": "python3"
  },
  "language_info": {
   "codemirror_mode": {
    "name": "ipython",
    "version": 3
   },
   "file_extension": ".py",
   "mimetype": "text/x-python",
   "name": "python",
   "nbconvert_exporter": "python",
   "pygments_lexer": "ipython3",
   "version": "3.7.3"
  }
 },
 "nbformat": 4,
 "nbformat_minor": 2
}
