{
 "cells": [
  {
   "cell_type": "markdown",
   "metadata": {},
   "source": [
    "# The Hydrogen molecule ion\n",
    "\n",
    "\n",
    "For further reference look at Explain everything [Orbitals](https://drive.explaineverything.com/thecode/DRASNMU) and [Energy](https://drive.explaineverything.com/thecode/QBNXQVC).\n",
    "\n",
    "\n",
    "Given the Born Oppenheimer approximation the wavefunction for the Hydrogen molecule ion is given as:\n",
    "\n",
    "\\begin{align}\n",
    "\\psi_\\pm = \\frac{1}{\\sqrt{2 \\pm 2 s}} (s_a \\pm s_b)\n",
    "\\end{align}\n",
    "\n",
    "where $s_a$ and $s_b$ are given as \n",
    "\\begin{align}\n",
    "s_a = \\frac{e^{-|r - r_a|}}{\\sqrt{\\pi}} && s_b = \\frac{e^{-|r - r_b|}}{\\sqrt{\\pi}} \n",
    "\\end{align}\n",
    "\n",
    "and $s$ is the overlap integral \n",
    "\n",
    "\\begin{align}\n",
    "s = \\int s_a s_b d r = \\left[1 + R + \\frac{1}{3} R^2\\right]e^{-R}\n",
    "\\end{align}\n",
    "\n",
    "Where R is the distance between nucleus $a$ and $b$.\n",
    "\n",
    "\\begin{align}\n",
    "R = |r_a - r_b| \n",
    "\\end{align}"
   ]
  },
  {
   "cell_type": "markdown",
   "metadata": {},
   "source": [
    "## Exercise 1\n",
    "\n",
    "Define a function overlap integral and plot it.\n",
    "\n",
    "```python\n",
    "def overlap_integral(R):\n",
    "    \"\"\"input:\n",
    "       R: distance between r_a and r_b\n",
    "       output:\n",
    "       overlap integral s as defined above\n",
    "       \"\"\"\n",
    "```\n"
   ]
  },
  {
   "cell_type": "markdown",
   "metadata": {},
   "source": [
    "## Exercise 2\n",
    "\n",
    "Define the wavefunctions $1s$ orbital.\n",
    "\n",
    "```python\n",
    "def s_orbital(r_0, r):\n",
    "    \"\"\"\n",
    "    input:\n",
    "        r_0 is the center of the nuclei (r_a or r_b).\n",
    "        r is function variable as defined above\n",
    "        \n",
    "    output:\n",
    "        return the function values of the s_orbitals\n",
    "    \"\"\"\n",
    "```\n",
    "\n",
    "Plot these and check that they look like nuclear cusps."
   ]
  },
  {
   "cell_type": "markdown",
   "metadata": {},
   "source": [
    "##  Exercise 3\n",
    "\n",
    "\n",
    "Using what you made in the previus exercises make the wavefunctions $\\psi_+$ and $\\psi_-$.\n",
    "\n",
    "```python\n",
    "\n",
    "def psi_plus(r_a, r_b, r):\n",
    "    \"\"\"\n",
    "    input:\n",
    "        r_a is the position of nuclei a\n",
    "        r_b is the position of nuclei b\n",
    "        r is the function variable\n",
    "        \n",
    "    output:\n",
    "        the fuction values of psi_plus\n",
    "    \"\"\"\n",
    "    \n",
    "def psi_minus(r_a, r_b, r):\n",
    "    \"\"\"\n",
    "    input:\n",
    "        r_a is the position of nuclei a\n",
    "        r_b is the position of nuclei b\n",
    "        r is the function variable\n",
    "        \n",
    "    output:\n",
    "        the fuction values of psi_minus\n",
    "    \"\"\"     \n",
    "    \n",
    "```\n",
    "\n",
    "Plot the probability densities $s_a^2$, $s_b^2$, $\\psi_+^2$, $\\psi_-^2$ and the average probability of $s_a$ and $s_b$, $(s_a^2 + s_b^2)/2$.\n",
    "\n",
    "Plot the differences $\\psi_\\pm^2 - (s_a^2+s_b^2)/2$\n",
    "\n",
    "Try to vary the nuclear positions $r_a$ and $r_b$.\n",
    "\n"
   ]
  },
  {
   "cell_type": "markdown",
   "metadata": {},
   "source": [
    "## Exercise 4\n",
    "\n",
    "In the lecture on [Energy of the Hydrogen ion](https://drive.explaineverything.com/thecode/QBNXQVC). We have the energy expressions \n",
    "\n",
    "\n",
    "\\begin{align}\n",
    "E_+ &= E_{1s} + \\frac{1}{R} - \\frac{(J + K)}{1 + s} \\\\ \n",
    "E_- &= E_{1s} + \\frac{1}{R} - \\frac{(J - K)}{1 - s} \\\\ \n",
    "\\end{align}\n",
    "\n",
    "where $E_{1s}$ is the 1st energy level of the Hydrogen atom which is $\\frac{1}{2}$ in atomic units. \n",
    "\n",
    "\\begin{align}\n",
    "J &= \\langle s_a | V_b | s_a \\rangle = \\frac{1}{R} \\left[ 1 - ( 1 + R )e^{-2R} \\right] \\\\\n",
    "K &= \\langle s_a | V_a | s_b \\rangle = (1 + R)e^{-R}\n",
    "\\end{align}\n",
    "\n",
    "where $J$ corresponds to the Coulombic energy of interaction between electron density <s_a>^2 and the second nucleus $B$. $K$ has no classical analogue. We can think of it as representing the interaction of the overlap charge density $\\langle S_a | S_b \\rangle$ interacting with nucleus $A$.\n",
    "\n",
    "Define functions for $E_+$, $E_-$, $K(R)$ and $J(R)$\n",
    "\n",
    "```python\n",
    "def K(R):\n",
    "\n",
    "def J(R):\n",
    "    \n",
    "def E_plus(R):\n",
    "    \n",
    "def E_minus(R):\n",
    "```\n",
    "\n",
    "Plot $E_+$, $E_-$, $K(R)$, $J(R)$ and $S(R)$ and study them.\n",
    "\n"
   ]
  },
  {
   "cell_type": "code",
   "execution_count": 16,
   "metadata": {},
   "outputs": [
    {
     "data": {
      "text/plain": [
       "[<matplotlib.lines.Line2D at 0x7f6e0883cf60>]"
      ]
     },
     "execution_count": 16,
     "metadata": {},
     "output_type": "execute_result"
    },
    {
     "data": {
      "image/png": "[encoded data removed]",
      "text/plain": [
       "<Figure size 432x288 with 1 Axes>"
      ]
     },
     "metadata": {
      "needs_background": "light"
     },
     "output_type": "display_data"
    }
   ],
   "source": [
    "# Plotting example\n",
    "\n",
    "import matplotlib.pyplot as plt\n",
    "import numpy as np\n",
    "\n",
    "def my_sin(x):\n",
    "    return 2.0*np.sin(x)\n",
    "\n",
    "x = np.linspace(0, 10.0*np.pi, 1000)\n",
    "y = my_sin(x)\n",
    "\n",
    "plt.plot(x, y)\n",
    "\n"
   ]
  },
  {
   "cell_type": "code",
   "execution_count": null,
   "metadata": {},
   "outputs": [],
   "source": []
  }
 ],
 "metadata": {
  "kernelspec": {
   "display_name": "Python 3",
   "language": "python",
   "name": "python3"
  },
  "language_info": {
   "codemirror_mode": {
    "name": "ipython",
    "version": 3
   },
   "file_extension": ".py",
   "mimetype": "text/x-python",
   "name": "python",
   "nbconvert_exporter": "python",
   "pygments_lexer": "ipython3",
   "version": "3.7.3"
  }
 },
 "nbformat": 4,
 "nbformat_minor": 2
}
