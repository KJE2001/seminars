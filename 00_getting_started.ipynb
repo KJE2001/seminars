{
 "cells": [
  {
   "cell_type": "markdown",
   "metadata": {
    "deletable": true,
    "editable": true
   },
   "source": [
    "<figure>\n",
    "  <IMG SRC=\"gfx/Logo_norsk_pos.png\" WIDTH=100 ALIGN=\"right\">\n",
    "</figure>\n",
    "\n",
    "# Getting started with Python and Jupyter\n",
    "*Roberto Di Remigio*, *Luca Frediani*\n",
    "\n",
    "During the course we will use [Python] to solve some of the exercises and explore concepts in quantum mechanics.\n",
    "Instead of just using the command line, we will exploit [Jupyter notebooks].\n",
    "You will be able to look at the exercises and run them on your browser. We recommend you install Python on your machine anyway: we think you will find knowledge of Python useful also in the future.\n",
    "The easiest way to get a reasonably complete Python distribution working is *via* [Anaconda], detailed instructions for Windows, Max OS X and Linux are [here].\n",
    "\n",
    "[Python]: https://en.wikipedia.org/wiki/Python_(programming_language)\n",
    "[Jupyter notebooks]: https://jupyter.readthedocs.org\n",
    "[Anaconda]: https://www.continuum.io/why-anaconda\n",
    "[here]: http://docs.continuum.io/anaconda/install\n",
    "\n",
    "## Why Python?\n",
    "\n",
    "Python is an interpreted scripting language that has become more and more popular in the past years.\n",
    "It can be used (and it **is used**) to do pretty much anything. It can be your pocket calculator, you can use it to [plot data], [calculate derivatives and integrals], perform tasks in [linear algebra] and much, much more!\n",
    "\n",
    "[plot data]: http://matplotlib.org/\n",
    "[calculate derivatives and integrals]: http://www.sympy.org/en/index.html\n",
    "[linear algebra]: http://www.numpy.org/\n",
    "\n",
    "There are a lot of resources out there to learn Python.\n",
    "[Mark Bakker]'s collection of Jupyter notebooks is really great. It covers a lot of ground, plus you have screencasts for the notebooks covering the basics of Python.\n",
    "We also recommend the book [Learning IPython for Interactive Computing and Data Visualization] by Cyrille Roussant.\n",
    "The ebook is available from the University's library. You will have to be on campus to access it *via* [this link],\n",
    "click the __Fulltekst tilgjengelig på: ebrary Academic Complete Non-US__ link to go to the ebook.\n",
    "Finally, to learn more about how to fully exploit a Jupyter notebook we recommend you read the tutorials in this [page]\n",
    "\n",
    "[Mark Bakker]: http://mbakker7.github.io/exploratory_computing_with_python/\n",
    "[Learning IPython for Interactive Computing and Data Visualization]: http://ipython-books.github.io/minibook/\n",
    "[this link]: http://bibsys-almaprimo.hosted.exlibrisgroup.com/primo_library/libweb/action/display.do?tabs=viewOnlineTab&ct=display&fn=search&doc=BIBSYS_ILS71524751750002201&indx=2&recIds=BIBSYS_ILS71524751750002201&recIdxs=1&elementId=1&renderMode=poppedOut&displayMode=full&frbrVersion=9&frbg=&&dscnt=0&scp.scps=scope%3A%28SC_OPEN_ACCESS%29%2Cscope%3A%28%22UBTO%22%29%2Cprimo_central_multiple_fe&tb=t&mode=Basic&vid=UBTO&srt=rank&tab=default_tab&dum=true&vl(freeText0)=ipython&dstmp=1454313553096\n",
    "[page]: http://jupyter-notebook.readthedocs.org/en/latest/examples/Notebook/rstversions/Examples%20and%20Tutorials%20Index.html\n",
    "\n",
    "## First steps\n",
    "\n",
    "Let's start off by using Python as a calculator. There are different types of **cells** in Jupyter notebooks. We will be mostly using **code cells** to write and execute code and **Markdown cells** to write comments to the code.\n",
    "A Markdown cell is just text. You can add images and also equations, using $\\LaTeX$:\n",
    "\n",
    "\\begin{equation}\n",
    "    f(x) = ax^2 + bx + c\n",
    "\\end{equation}\n",
    "\n",
    "Code cells contain Python code. Each code cell has an input and an output section. The input section contains code you write, the ouput section contains the results of executing your code.\n",
    "Move your cursor to the code cell right below this Markdown cell and press [shift][Enter].\n",
    "This triggers evaluation of the cell and you will see the output of the computation right below."
   ]
  },
  {
   "cell_type": "code",
   "execution_count": 1,
   "metadata": {
    "collapsed": false,
    "deletable": true,
    "editable": true
   },
   "outputs": [
    {
     "data": {
      "text/plain": [
       "12"
      ]
     },
     "execution_count": 1,
     "metadata": {},
     "output_type": "execute_result"
    }
   ],
   "source": [
    "6 * 2"
   ]
  },
  {
   "cell_type": "markdown",
   "metadata": {
    "deletable": true,
    "editable": true
   },
   "source": [
    "When programming, you can (and should) use variables to hold values, so that you can reference them later in your code. Pressing [shift][Enter] will always trigger evaluation of a code cell and print out the results."
   ]
  },
  {
   "cell_type": "code",
   "execution_count": 2,
   "metadata": {
    "collapsed": false,
    "deletable": true,
    "editable": true
   },
   "outputs": [
    {
     "data": {
      "text/plain": [
       "12"
      ]
     },
     "execution_count": 2,
     "metadata": {},
     "output_type": "execute_result"
    }
   ],
   "source": [
    "a = 6\n",
    "b = 2\n",
    "a * b"
   ]
  },
  {
   "cell_type": "markdown",
   "metadata": {
    "deletable": true,
    "editable": true
   },
   "source": [
    "Python provides the `print` function to write output to the screen."
   ]
  },
  {
   "cell_type": "code",
   "execution_count": 3,
   "metadata": {
    "collapsed": false,
    "deletable": true,
    "editable": true
   },
   "outputs": [
    {
     "name": "stdout",
     "output_type": "stream",
     "text": [
      "6\n",
      "2\n",
      "12\n"
     ]
    }
   ],
   "source": [
    "a = 6\n",
    "b = 2\n",
    "c = a * b\n",
    "print(a)\n",
    "print(b)\n",
    "print(c)"
   ]
  },
  {
   "cell_type": "markdown",
   "metadata": {
    "deletable": true,
    "editable": true
   },
   "source": [
    "Of course, we can add more information to a print statement! A line starting with `#` is a comment, the intepreter will just ignore it. It is useful to add comments, to remind both yourself and others what you were trying to do when writing the code ;)"
   ]
  },
  {
   "cell_type": "code",
   "execution_count": 2,
   "metadata": {
    "collapsed": false,
    "deletable": true,
    "editable": true
   },
   "outputs": [
    {
     "name": "stdout",
     "output_type": "stream",
     "text": [
      "a = 6\n",
      "b = 2\n",
      "c = 12\n"
     ]
    }
   ],
   "source": [
    "a = 6 # Assign value to a\n",
    "b = 2 # Assign value to b\n",
    "c = a * b # Perform operation\n",
    "# Now print everything out!\n",
    "print('a =', a)\n",
    "print('b =', b)\n",
    "print('c =', c)"
   ]
  },
  {
   "cell_type": "markdown",
   "metadata": {
    "deletable": true,
    "editable": true
   },
   "source": [
    "## Python modules: basic plotting with `matplotlib`\n",
    "\n",
    "When you first install Python and launch an instance of the interpreter (the program running the commands) you cannot do very much. Luckily, Python was designed to be highly extensible using independent packages called **modules**. Much of the functionality that makes Python appealing is provided *via* modules.\n",
    "A module is a collection of functions designed to perform a very specific set of tasks.\n",
    "\n",
    "For example, the [`matplotlib`] module provides the functions needed to perform plotting in Python.\n",
    "To use it we need to **import** it. There are many different ways to import a module, for the moment we import only the plottig part of `matplotlib` and call it `plt`. The second command ensures that the plots are generated in this Notebook and not in a separate window.\n",
    "\n",
    "[`matplotlib`]: http://matplotlib.org/"
   ]
  },
  {
   "cell_type": "code",
   "execution_count": 13,
   "metadata": {
    "collapsed": false,
    "deletable": true,
    "editable": true
   },
   "outputs": [],
   "source": [
    "import matplotlib.pyplot as plt\n",
    "# make sure we see it on this notebook\n",
    "%matplotlib inline"
   ]
  },
  {
   "cell_type": "markdown",
   "metadata": {
    "deletable": true,
    "editable": true
   },
   "source": [
    "Modules only have to be imported once in a Jupyter session. After the import, any plotting function may be called from any code cell as `plt.function`. In the following we are plotting the data table:\n",
    "\n",
    " x | y\n",
    "---|---\n",
    " 0 | 1 \n",
    " 1 | 2 \n",
    " 2 | 3 \n",
    " 3 | 5 \n",
    " 4 | 2 \n",
    " 5 | 6 "
   ]
  },
  {
   "cell_type": "code",
   "execution_count": 15,
   "metadata": {
    "collapsed": false,
    "deletable": true,
    "editable": true
   },
   "outputs": [
    {
     "data": {
      "image/png": "[encoded data removed]",
      "text/plain": [
       "<matplotlib.figure.Figure at 0x7fd1de9c5e10>"
      ]
     },
     "metadata": {},
     "output_type": "display_data"
    }
   ],
   "source": [
    "import matplotlib.pyplot as plt\n",
    "# make sure we see it on this notebook\n",
    "%matplotlib inline\n",
    "plt.plot([1, 2, 3, 5, 2, 6])\n",
    "plt.show()"
   ]
  },
  {
   "cell_type": "markdown",
   "metadata": {
    "collapsed": true,
    "deletable": true,
    "editable": true
   },
   "source": [
    "## Python modules: arrays with `numpy`\n",
    "\n",
    "OK, let's plot something more interesting than just a bunch of points.\n",
    "The function we want to plot is:\n",
    "\\begin{equation}\n",
    "  f(x) = 10x^3\\mathrm{e}^{-x^2} + \\frac{\\sin(x^5)}{\\cos(x^3)}\n",
    "\\end{equation}\n",
    "How do we do it? We could of course create a table of $x$,$y$ pairs and feed it to the `plt.plot` function as in the example above, but that's too tedious.\n",
    "The module [`numpy`] comes to the rescue. First of all, we import `numpy` and give it the name `np`:\n",
    "\n",
    "[`numpy`]: http://www.numpy.org/"
   ]
  },
  {
   "cell_type": "code",
   "execution_count": 16,
   "metadata": {
    "collapsed": true,
    "deletable": true,
    "editable": true
   },
   "outputs": [],
   "source": [
    "import numpy as np"
   ]
  },
  {
   "cell_type": "markdown",
   "metadata": {
    "deletable": true,
    "editable": true
   },
   "source": [
    "Next, we create an **array** of, for example, 10 equally spaced points between -4 and +4 with the `linspace` command. This array will contain the values of the `x` variables where we will evaluate the function $f(x)$."
   ]
  },
  {
   "cell_type": "code",
   "execution_count": 52,
   "metadata": {
    "collapsed": false,
    "deletable": true,
    "editable": true
   },
   "outputs": [
    {
     "name": "stdout",
     "output_type": "stream",
     "text": [
      "[-4.         -3.11111111 -2.22222222 -1.33333333 -0.44444444  0.44444444\n",
      "  1.33333333  2.22222222  3.11111111  4.        ]\n"
     ]
    }
   ],
   "source": [
    "x = np.linspace(-4, 4, 10)\n",
    "print(x)"
   ]
  },
  {
   "cell_type": "markdown",
   "metadata": {
    "deletable": true,
    "editable": true
   },
   "source": [
    "The next step is to evaluate the function at all the $x$ points listed in the `x` array and save the results in another array, which we call `y`:"
   ]
  },
  {
   "cell_type": "code",
   "execution_count": 53,
   "metadata": {
    "collapsed": false,
    "deletable": true,
    "editable": true
   },
   "outputs": [
    {
     "name": "stdout",
     "output_type": "stream",
     "text": [
      "[  0.40449721  -2.48343478 -33.46262352  -5.23117497  -0.73796062\n",
      "   0.73796062   5.23117497  33.46262352   2.48343478  -0.40449721]\n"
     ]
    }
   ],
   "source": [
    "y = 10 * x**3 * np.exp(-x**2) + np.sin(x**5) / np.cos(x**3)\n",
    "print(y)"
   ]
  },
  {
   "cell_type": "markdown",
   "metadata": {
    "deletable": true,
    "editable": true
   },
   "source": [
    "Notice that:\n",
    "1. Raising to power has the syntax `x**3` and **not** `x^3`\n",
    "2. The exponential, sine and cosine are included in `numpy` and you have to invoke them as `np.exp`, `np.sin` and `np.cos` since you are giving `numpy` arrays as arguments.\n",
    "We are now ready to plot! "
   ]
  },
  {
   "cell_type": "code",
   "execution_count": 22,
   "metadata": {
    "collapsed": false,
    "deletable": true,
    "editable": true
   },
   "outputs": [
    {
     "data": {
      "text/plain": [
       "[<matplotlib.lines.Line2D at 0x7fd1de7a1510>]"
      ]
     },
     "execution_count": 22,
     "metadata": {},
     "output_type": "execute_result"
    },
    {
     "data": {
      "image/png": "[encoded data removed]",
      "text/plain": [
       "<matplotlib.figure.Figure at 0x7fd1df242390>"
      ]
     },
     "metadata": {},
     "output_type": "display_data"
    }
   ],
   "source": [
    "import matplotlib.pyplot as plt\n",
    "# make sure we see it on this notebook\n",
    "%matplotlib inline\n",
    "plt.plot(x, y)"
   ]
  },
  {
   "cell_type": "markdown",
   "metadata": {
    "deletable": true,
    "editable": true
   },
   "source": [
    "Done! OK, it doesn't look that great. That's because we are using only 10 sampling points. Try changing the number of points generated by `np.linspace` from 10 to another, higher value. Re-run all the cells and see what changes.\n",
    "\n",
    "We can also apply other changes. First of all, we can define a Python function to calculate $f(x)$. We can then reuse this function wherever we want instead of typing it down everytime!\n",
    "A Python function:\n",
    "1. Starts with the `def` statement\n",
    "2. Followed by the name of the function\n",
    "3. In parentheses, a comma-separated list of **function arguments**. In this case the `numpy` array with the $x$ points.\n",
    "4. A colon\n",
    "5. The body of the function\n",
    "Our function first calculates $f(x)$ and stores the values in the `y` array, then **returns** the array."
   ]
  },
  {
   "cell_type": "code",
   "execution_count": 32,
   "metadata": {
    "collapsed": true,
    "deletable": true,
    "editable": true
   },
   "outputs": [],
   "source": [
    "def my_first_function(x):\n",
    "    import numpy as np\n",
    "    y = 10 * x**3 * np.exp(-x**2) + np.sin(x**5) / np.cos(x**3)\n",
    "    return y"
   ]
  },
  {
   "cell_type": "code",
   "execution_count": 33,
   "metadata": {
    "collapsed": false,
    "deletable": true,
    "editable": true
   },
   "outputs": [
    {
     "name": "stdout",
     "output_type": "stream",
     "text": [
      "[  0.40449721  -2.48343478 -33.46262352  -5.23117497  -0.73796062\n",
      "   0.73796062   5.23117497  33.46262352   2.48343478  -0.40449721]\n"
     ]
    }
   ],
   "source": [
    "function = my_first_function(x)\n",
    "print(function)"
   ]
  },
  {
   "cell_type": "markdown",
   "metadata": {
    "deletable": true,
    "editable": true
   },
   "source": [
    "As you can see, calling the function gives the same results as calculated above.\n",
    "As further improvements we will add a legend to the plot, labels to the $x$ and $y$ axes and a title. Python functions in `matplotlib` and `numpy` take many arguments. Pressing [shift][Tab] when typing in a code cell will open an help box with a lot of useful information on the function arguments."
   ]
  },
  {
   "cell_type": "code",
   "execution_count": 54,
   "metadata": {
    "collapsed": false,
    "deletable": true,
    "editable": true
   },
   "outputs": [
    {
     "data": {
      "text/plain": [
       "<matplotlib.legend.Legend at 0x7fd1dd910b10>"
      ]
     },
     "execution_count": 54,
     "metadata": {},
     "output_type": "execute_result"
    },
    {
     "data": {
      "image/png": "[encoded data removed]",
      "text/plain": [
       "<matplotlib.figure.Figure at 0x7fd1dd98bb50>"
      ]
     },
     "metadata": {},
     "output_type": "display_data"
    }
   ],
   "source": [
    "plt.plot(x, my_first_function(x), 'r--')\n",
    "# Write label on x axis\n",
    "plt.xlabel('x-axis')\n",
    "# Write label on y axis\n",
    "plt.ylabel('y-axis')\n",
    "# Write title\n",
    "plt.title('First Python Figure')\n",
    "# Add legend\n",
    "plt.legend('f')"
   ]
  }
 ],
 "metadata": {
  "kernelspec": {
   "display_name": "Python 3",
   "language": "python",
   "name": "python3"
  },
  "language_info": {
   "codemirror_mode": {
    "name": "ipython",
    "version": 3
   },
   "file_extension": ".py",
   "mimetype": "text/x-python",
   "name": "python",
   "nbconvert_exporter": "python",
   "pygments_lexer": "ipython3",
   "version": "3.4.3+"
  }
 },
 "nbformat": 4,
 "nbformat_minor": 0
}
