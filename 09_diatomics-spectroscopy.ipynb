{
 "cells": [
  {
   "cell_type": "markdown",
   "metadata": {
    "deletable": true,
    "editable": true
   },
   "source": [
    "<figure>\n",
    "  <IMG SRC=\"gfx/Logo_norsk_pos.png\" WIDTH=100 ALIGN=\"right\">\n",
    "</figure>\n",
    "\n",
    "# Diatomic Molecules and Spectroscopy\n",
    "*Roberto Di Remigio*, *Luca Frediani*\n",
    "\n",
    "Spectroscopy probes the electronic structure of atoms and molecules by measuring their interaction with light.\n",
    "Different portions of the light spectrum can be used to explore different aspects of the electronic structure of a molecule. In this notebook, we will look closely at rotatonial and vibrational spectroscopy of diatomic molecules.\n",
    "Some properties: http://hyperphysics.phy-astr.gsu.edu/hbase/Tables/diatomic.html"
   ]
  },
  {
   "cell_type": "markdown",
   "metadata": {
    "collapsed": true,
    "deletable": true,
    "editable": true
   },
   "source": [
    "## Rotational Spectroscopy\n",
    "\n",
    "Rotational spectroscopy uses _microwave radiation_ (300 MHz to 300 GHz) to investigate the rotational levels of molecule, _i.e._ the distribution of the nuclear masses in the molecule.\n",
    "In a rotational spectroscopy experiment, transitions between the closely space rotational levels are observed and their energy differences can provide information on the molecular geometry and the masses of the nuclei.\n",
    "For a diatomic molecule, the energy of the transition is:\n",
    "\\begin{equation}\n",
    "F(J) = BJ(J+1)\n",
    "\\end{equation}\n",
    "with intensity\n",
    "\\begin{equation}\n",
    "|\\mu_{J+1, J}|^2 = \\frac{J+1}{2J+1}\\mu_0^2\n",
    "\\end{equation}\n",
    "$B$ and $\\mu_0$ are the rotational constant and the dipole moment, respectively:\n",
    "\\begin{equation}\n",
    "B = \\frac{\\hbar}{4\\pi c I}; \\quad I = \\mu R_\\mathrm{e}^2\n",
    "\\end{equation}\n",
    "Thus a rotational transition will be deteceted only if the molecule has a nonzero dipole moment in the ground state. Moreover, the selection rule:\n",
    "\\begin{equation}\n",
    "\\Delta J = \\pm 1\n",
    "\\end{equation}\n",
    "applies."
   ]
  },
  {
   "cell_type": "markdown",
   "metadata": {},
   "source": [
    "## Vibrational Spectroscopy\n",
    "\n",
    "Vibrational spectoscopy uses _infrared radiation_ (430 THz to 300 GHz) to investigate the relative motions of nuclei in molecules, _i.e._ molecular vibrations. \n",
    "In the harmonic model of diatomic molecules, the wavenumber for the vibrational levels are obtained as:\n",
    "\\begin{equation}\n",
    "G(v) = (v+\\frac{1}{2})\\tilde{\\nu}, \\quad \\tilde{\\nu} = \\frac{1}{2\\pi c}\\sqrt{\\frac{k}{\\mu}}\n",
    "\\end{equation}\n",
    "The intensity of a vibrational transition can be calculated as:\n",
    "\\begin{equation}\n",
    "    I_{vw} = \\left\\langle \\psi_v|\\mu|\\psi_w\\right\\rangle\n",
    "\\end{equation}\n",
    "The first-order term in the Taylor expansion with respect to the nuclear displacements determines the selection rules for vibrational spectroscopy in the harmonic approximation.\n",
    "Vibrational motion is never exactly harmonic. In the harmonic model we cannot, in fact, observe bond dissociation which is clearly in contrast with experiment."
   ]
  },
  {
   "cell_type": "markdown",
   "metadata": {},
   "source": [
    "## Computing the Rovibrational Spectrum\n",
    "\n",
    "All vibrational levels have a _stack_ of rotational levels associated. Thus, when measuring vibrational spectra in _gas phase_ one can observe transitions between these stacks of rotational levels associated with different vibrational levels. The energy of such transitions is in general expressed as:\n",
    "\\begin{equation}\n",
    "S(v, J) = G(v) + F_v(J)\n",
    "\\end{equation}\n",
    "where $G(v)$ can contain anharmonic terms and $F_v(J)$ centrifugal distortion terms, _i.e._ depending on the vibrational quantum number $v$.\n",
    "\n",
    "In the simplest case, these nonlinear terms can be neglected, obtaining the simplified formula:\n",
    "\\begin{equation}\n",
    "S(v, J) = (v+\\frac{1}{2})\\tilde{\\nu} + BJ(J+1)\n",
    "\\end{equation}\n",
    "where the $\\tilde{\\nu}$ and $B$ are the vibrational and rotational constants, respectively.\n",
    "Due to the small energy separation between rotational levels, the rovibrational spectrum will be temperature dependent. Each state, with energy $S(v, J)$, will be represented with a _weight_ according to the Boltzmann distribution:\n",
    "\\begin{equation}\n",
    "w(v, J, T) = \\frac{\\mathrm{deg}(J)\\exp(-\\frac{S(v, J)}{k_\\mathrm{B}T})}{\\sum_{v,J}\\mathrm{deg}(J)\\exp(-\\frac{S(v, J)}{k_\\mathrm{B}T})}\n",
    "\\end{equation}\n",
    "$\\mathrm{deg}(J)$ is the degeneration of the rotational state with quantum number $J$: states with higher degeneration will be more represented in the spectrum.\n",
    "The rovibrational spectrum captures the _rotational transitions_ that occur when the _vibrational transition_ $v+1\\leftarrow v$ occurs. It consists of three branches:\n",
    "- The **P branch** with all transitions where $\\Delta J = -1$.\n",
    "- The **Q branch** with the $\\Delta J = 0$ transition. This can only occur with open-shell molecules.\n",
    "- The **R branch** with all transitions where $\\Delta J = +1$.\n",
    "\n",
    "### Tasks\n",
    "\n",
    "0. Derive a general formula for the energy difference (in wavenumbers) of transitions in the P, Q and R branches of the spectrum\n",
    "1. Set up general script(s) to calculate and plot the rovibrational spectrum of a diatomic molecule. More in detail, the script(s) should:\n",
    "    - Calculate the vibrational and rotational constants, given the masses, bond length and bond stifness constant.\n",
    "    - Calculate the energies of the rotational levels for the P and R branches. **We assume the Q branch to be forbidden**.\n",
    "    - Calculate the _ relative intensities_ of each transition in the P and R branches in terms of the Boltzmann distribution weight.\n",
    "    - Plot the spectrum as wavenumber _vs_ relative intensity.\n",
    "2. Compute the spectrum for the HCl molecule. An experimentally measured spectrum is reported below.\n",
    "\n",
    "<figure>\n",
    "  <IMG SRC=\"gfx/rovib-HCl.png\">\n",
    "</figure>"
   ]
  },
  {
   "cell_type": "code",
   "execution_count": null,
   "metadata": {
    "collapsed": true
   },
   "outputs": [],
   "source": []
  }
 ],
 "metadata": {
  "kernelspec": {
   "display_name": "Python 3",
   "language": "python",
   "name": "python3"
  },
  "language_info": {
   "codemirror_mode": {
    "name": "ipython",
    "version": 3
   },
   "file_extension": ".py",
   "mimetype": "text/x-python",
   "name": "python",
   "nbconvert_exporter": "python",
   "pygments_lexer": "ipython3",
   "version": "3.4.3+"
  }
 },
 "nbformat": 4,
 "nbformat_minor": 2
}
