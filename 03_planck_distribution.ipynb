{
 "cells": [
  {
   "cell_type": "markdown",
   "metadata": {
    "deletable": true,
    "editable": true
   },
   "source": [
    "<figure>\n",
    "  <IMG SRC=\"gfx/Logo_norsk_pos.png\" WIDTH=100 ALIGN=\"right\">\n",
    "</figure>\n",
    "\n",
    "# The Planck distribution\n",
    "*Roberto Di Remigio*, *Luca Frediani*\n",
    "\n",
    "In this set of exercises we will work with the Planck distribution. The first exercise is numerical, you will have to perform some unit conversions.\n",
    "It will be particularly useful when you start looking into spectroscopy, as you have to be able to get a feel for the energies involved there.\n",
    "In the second exercise, you will need to use your skills in calculus and Python. We will try to plot the Planck distribution based\n",
    "on qualitative arguments (low and high frequency limit, maximum) and then obtain the exact plot using `matplotlib`.\n",
    "\n",
    "The following list of constants will come in handy more than once during the lectures and the exercises:\n",
    "\\begin{align}\n",
    " h &= 6.62606957\\cdot 10^{-34} \\,\\,\\mathrm{J}\\cdot\\mathrm{s} \\\\\n",
    " c &= 299792458\\,\\, \\mathrm{m}\\cdot\\mathrm{s}^{-1} \\\\\n",
    " k_\\mathrm{B} &= 1.3806488\\cdot{10}^{-23} \\,\\,\\mathrm{J}\\cdot\\mathrm{K}^{-1} \\\\\n",
    " 1\\,\\,\\mathrm{eV} &= 1.602176565\\cdot{10}^{-19}\\,\\, \\mathrm{J} \\\\\n",
    " 1\\,\\,\\mathrm{A} &= 10^{-10}\\,\\,\\mathrm{m}\n",
    "\\end{align}\n",
    "whenever you need to find the universally accepted value of a constant you can refer to this website:\n",
    "http://physics.nist.gov/cgi-bin/cuu/Info/Constants/index.html\n",
    "\n",
    "### Fundamental constants from Python\n",
    "\n",
    "You should use the [SciPy] module to obtain fundamental physical constants, instead of typing them in every time.\n",
    "Here is an example of using Planck's constant from SciPy\n",
    "\n",
    "[SciPy]: http://docs.scipy.org/doc/scipy/reference/index.html"
   ]
  },
  {
   "cell_type": "code",
   "execution_count": 2,
   "metadata": {
    "collapsed": false,
    "deletable": true,
    "editable": true
   },
   "outputs": [
    {
     "name": "stdout",
     "output_type": "stream",
     "text": [
      "The Planck constant h: 6.62607004e-34\n"
     ]
    }
   ],
   "source": [
    "from scipy.constants import *\n",
    "print(\"The Planck constant h:\", h)"
   ]
  },
  {
   "cell_type": "markdown",
   "metadata": {
    "deletable": true,
    "editable": true
   },
   "source": [
    "SciPy has a quite extensive list of physical constants, fundamental or otherwise, that you can use.\n",
    "For example, Avogadro's constants is simply:"
   ]
  },
  {
   "cell_type": "code",
   "execution_count": 3,
   "metadata": {
    "collapsed": false,
    "deletable": true,
    "editable": true
   },
   "outputs": [
    {
     "name": "stdout",
     "output_type": "stream",
     "text": [
      "Avogadro's constant 6.022140857e+23\n"
     ]
    }
   ],
   "source": [
    "print(\"Avogadro's constant\", N_A)"
   ]
  },
  {
   "cell_type": "markdown",
   "metadata": {
    "deletable": true,
    "editable": true
   },
   "source": [
    "The conversion factor between Joule and electronvolt can also be obtained. You can either search in the `physical_constants` __dictionary__ or call the `value` function:"
   ]
  },
  {
   "cell_type": "code",
   "execution_count": 4,
   "metadata": {
    "collapsed": false,
    "deletable": true,
    "editable": true
   },
   "outputs": [
    {
     "name": "stdout",
     "output_type": "stream",
     "text": [
      "Joule to electronvolt: (6.241509126e+18, 'eV', 38000000000.0)\n",
      "Joule to electronvolt: 6.241509126e+18\n"
     ]
    }
   ],
   "source": [
    "print(\"Joule to electronvolt:\", physical_constants['joule-electron volt relationship'])\n",
    "print(\"Joule to electronvolt:\", value('joule-electron volt relationship'))"
   ]
  },
  {
   "cell_type": "markdown",
   "metadata": {
    "deletable": true,
    "editable": true
   },
   "source": [
    "What's the difference between the two? `physical_constants` is a __dictionary__, meaning that it is a list of values that can be searched _via_ a string. Much like a phone book! By looking at the __key__ `joule-electron volt relationship` we can retrieve the __value__ `(6.241509126e+18, 'eV', 38000000000.0)`.\n",
    "This is called a __tuple__ and contains the following information:\n",
    "\n",
    "- the numeric value of the conversion factor (6.241509126e+18)\n",
    "- the unit of measure ('eV')\n",
    "- the uncertainty (38000000000.0)\n",
    "\n",
    "The `value` function is a convenience function that takes the __key__ to be searched in the `physical_constants` __dictionary__ and returns just the numeric value, instead of the whole tuple. \n",
    "You can find the entire list of keys in the `physical_constants` dictionary [here].\n",
    "\n",
    "[here]: http://docs.scipy.org/doc/scipy/reference/constants.html#scipy.constants.physical_constants"
   ]
  },
  {
   "cell_type": "markdown",
   "metadata": {
    "deletable": true,
    "editable": true
   },
   "source": [
    "## Exercise 1: The visible spectrum\n",
    "\n",
    "The following picture shows the visible part of the electromagnetic spectrum. The _wavelength_ $\\lambda$ associated with each colour in the spectrum is reported in nanometers.\n",
    "\n",
    "<figure>\n",
    "  <IMG SRC=\"gfx/visible.jpg\" WIDTH=800>\n",
    "</figure>\n",
    "\n",
    "Your task is to convert each of the reported wavelengths into $\\mathrm{A}$, $\\mathrm{Hz}$ and $\\mathrm{J}$.\n",
    "You have to write a Python function for each conversion. The Python function will use the SciPy module to get the correct conversion factor and will have to return to converted value:\n",
    "```Python\n",
    "def convert_to_angstrom(lambda):\n",
    "    import scipy\n",
    "    # Which conversion factor?\n",
    "    # Which operation?\n",
    "    angstrom = lambda * ...\n",
    "    # Return converted value\n",
    "    return angstrom\n",
    "```\n",
    "Remember! You have to take into account the unit of measure of the incoming value `lambda`!\n",
    "The wavelength to frequency and frequency to energy conversions are given by:\n",
    "\n",
    "\\begin{equation}\n",
    "  c = \\nu\\lambda \\quad\\quad\\quad\\quad E = h\\nu\n",
    "\\end{equation}\n",
    "\n",
    "It is more common to find energies reported in another unit: the _electronvolt_ (symbol eV). Convert the energies from Joule to electronvolt, using the conversion factor given by SciPy. Define another function for this task.\n",
    "One additional unit that is quite often used in spectroscopy is the _wavenumber_:\n",
    "\n",
    "\\begin{equation}\n",
    "\\bar{\\nu} = \\frac{1}{\\lambda}\n",
    "\\end{equation}\n",
    "\n",
    "which is measured in _reciprocal centimeters_ $\\mathrm{cm}^{-1}$. Convert the wavelengths to reciprocal centimeters.\n",
    "You can easily report you results in a table. To learn how, double click on this Markdown cell!\n",
    "\n",
    "| $\\lambda$ | $\\nu$ |\n",
    "|---|---|\n",
    "| 1 | 2 |\n",
    "| 2 | 3 |\n",
    "| 3 | 5 |\n",
    "| 4 | 2 |\n",
    "| 5 | 6 |"
   ]
  },
  {
   "cell_type": "markdown",
   "metadata": {
    "deletable": true,
    "editable": true
   },
   "source": [
    "## Exercise 2\n",
    "\n",
    "The Planck distribution describes the radiation of energy from an ideal object called a _black body_. A black body is a model representing a material absorbing all incident electromagnetic radiation.\n",
    "A black body is also a perfect emitter, meaning that it emits energy at every frequency isotropically (i.e. independently of direction)\n",
    "The determination of the black body radiation spectrum had been a very puzzling problem for physicists during the second half of the 19th century.\n",
    "The radiation spectrum can be quantified using:\n",
    "\n",
    "- the _spectral radiance_, a function of frequency giving the amount of power emitted per solid angle per area per frequency. Its dimensions are $\\mathrm{W}\\cdot\\mathrm{sr}^{-1}\\cdot\\mathrm{m}^{-2}\\cdot\\mathrm{Hz}^{-1}$;\n",
    "- the _spectral irradiance_, a function of frequency giving the amount of power emitted per area per frequency (thus regardless of solid angle). Its dimensions are $\\mathrm{W}\\cdot\\mathrm{m}^{-2}\\cdot\\mathrm{Hz}^{-1}$;\n",
    "\n",
    "Using the laws of thermodynamics and electrodynamics known at the time, physicists were not able to derive a satisfactory explanation for the behaviour of a black body.\n",
    "Planck assumed that the electromagnetic radiation is quantized, i.e. $E=h\\nu$ where $h$ is the Planck's constant. Based on this assumption he was able to derive the correct form of the spectral irradiance for a black body.\n",
    "\n",
    "The spectral irradiance as derived by Planck is:\n",
    "\\begin{equation}\n",
    " B(\\nu, T) = \\frac{8\\pi h\\nu^3}{c^2}\\frac{1}{e^{\\frac{h\\nu}{k_\\mathrm{B}T}}-1}\n",
    "\\end{equation}\n",
    "\n",
    "In this exercise:\n",
    "- Assuming the temperature $T$ to be a fixed parameter derive the form of Planck distribution when $\\nu\\rightarrow 0$ and $\\nu\\rightarrow \\infty$, the low frequency and high frequency limit, respectively.\n",
    "- Calculate the frequency $\\nu_\\mathrm{max}$ maximizing the spectral irradiance. You should then be able to roughly outline the shape of $B(\\nu, T)$.\n",
    "- Finally, plot $B(\\nu, T)$ using `matplotlib`. You will have to use also SciPy to get the physical constants.\n",
    "\n",
    "Use the following code cell as a template for the plotting."
   ]
  },
  {
   "cell_type": "code",
   "execution_count": 6,
   "metadata": {
    "collapsed": false,
    "deletable": true,
    "editable": true
   },
   "outputs": [
    {
     "data": {
      "text/plain": [
       "[<matplotlib.lines.Line2D at 0x7f7c7477aa20>]"
      ]
     },
     "execution_count": 6,
     "metadata": {},
     "output_type": "execute_result"
    },
    {
     "data": {
      "image/png": "[encoded data removed]",
      "text/plain": [
       "<matplotlib.figure.Figure at 0x7f7c7513cef0>"
      ]
     },
     "metadata": {},
     "output_type": "display_data"
    }
   ],
   "source": [
    "import matplotlib.pyplot as plt\n",
    "import numpy as np\n",
    "import scipy as sp\n",
    "%matplotlib inline\n",
    "\n",
    "x = np.linspace(-4, 4, 10)\n",
    "y = 10 * x**3 * np.exp(-x**2) + np.sin(x**5) / np.cos(x**3)\n",
    "\n",
    "plt.plot(x, y)"
   ]
  },
  {
   "cell_type": "code",
   "execution_count": null,
   "metadata": {
    "collapsed": true,
    "deletable": true,
    "editable": true
   },
   "outputs": [],
   "source": []
  }
 ],
 "metadata": {
  "kernelspec": {
   "display_name": "Python 3",
   "language": "python",
   "name": "python3"
  },
  "language_info": {
   "codemirror_mode": {
    "name": "ipython",
    "version": 3
   },
   "file_extension": ".py",
   "mimetype": "text/x-python",
   "name": "python",
   "nbconvert_exporter": "python",
   "pygments_lexer": "ipython3",
   "version": "3.4.3+"
  }
 },
 "nbformat": 4,
 "nbformat_minor": 0
}
