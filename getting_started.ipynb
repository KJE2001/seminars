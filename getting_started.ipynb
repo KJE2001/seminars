{
 "cells": [
  {
   "cell_type": "markdown",
   "metadata": {
    "collapsed": false
   },
   "source": [
    "# Getting started with Python and Jupyter\n",
    "\n",
    "*Roberto Di Remigio* <IMG SRC=\"https://raw.githubusercontent.com/KJE2001/seminars/master/Logo_norsk_pos.png\" WIDTH=50 ALIGN=\"right\">"
   ]
  },
  {
   "cell_type": "code",
   "execution_count": 5,
   "metadata": {
    "collapsed": false
   },
   "outputs": [
    {
     "data": {
      "image/png": "[encoded data removed]",
      "text/plain": [
       "<matplotlib.figure.Figure at 0x7f351059b990>"
      ]
     },
     "metadata": {},
     "output_type": "display_data"
    }
   ],
   "source": [
    "# make sure we see it on this notebook\n",
    "%matplotlib inline\n",
    "\n",
    "import matplotlib.pyplot as plt\n",
    "\n",
    "plt.plot([1, 2, 3, 5, 2, 6])\n",
    "plt.show()"
   ]
  },
  {
   "cell_type": "markdown",
   "metadata": {},
   "source": [
    "# Main title\n",
    "\n",
    "## Subtitle\n",
    "\n",
    "Some text here where we document something."
   ]
  },
  {
   "cell_type": "code",
   "execution_count": 6,
   "metadata": {
    "collapsed": false
   },
   "outputs": [],
   "source": [
    "from bokeh.plotting import figure, show\n",
    "from bokeh.io import output_notebook"
   ]
  },
  {
   "cell_type": "code",
   "execution_count": 7,
   "metadata": {
    "collapsed": false
   },
   "outputs": [
    {
     "data": {
      "text/html": [
       "\n",
       "\n",
       "    <script type=\"text/javascript\">\n",
       "      \n",
       "      (function(global) {\n",
       "        function now() {\n",
       "          return new Date();\n",
       "        }\n",
       "      \n",
       "        if (typeof (window._bokeh_onload_callbacks) === \"undefined\") {\n",
       "          window._bokeh_onload_callbacks = [];\n",
       "        }\n",
       "      \n",
       "        function run_callbacks() {\n",
       "          window._bokeh_onload_callbacks.forEach(function(callback) { callback() });\n",
       "          delete window._bokeh_onload_callbacks\n",
       "          console.info(\"Bokeh: all callbacks have finished\");\n",
       "        }\n",
       "      \n",
       "        function load_libs(js_urls, callback) {\n",
       "          window._bokeh_onload_callbacks.push(callback);\n",
       "          if (window._bokeh_is_loading > 0) {\n",
       "            console.log(\"Bokeh: BokehJS is being loaded, scheduling callback at\", now());\n",
       "            return null;\n",
       "          }\n",
       "          if (js_urls == null || js_urls.length === 0) {\n",
       "            run_callbacks();\n",
       "            return null;\n",
       "          }\n",
       "          console.log(\"Bokeh: BokehJS not loaded, scheduling load and callback at\", now());\n",
       "          window._bokeh_is_loading = js_urls.length;\n",
       "          for (var i = 0; i < js_urls.length; i++) {\n",
       "            var url = js_urls[i];\n",
       "            var s = document.createElement('script');\n",
       "            s.src = url;\n",
       "            s.async = false;\n",
       "            s.onreadystatechange = s.onload = function() {\n",
       "              window._bokeh_is_loading--;\n",
       "              if (window._bokeh_is_loading === 0) {\n",
       "                console.log(\"Bokeh: all BokehJS libraries loaded\");\n",
       "                run_callbacks()\n",
       "              }\n",
       "            };\n",
       "            s.onerror = function() {\n",
       "              console.warn(\"failed to load library \" + url);\n",
       "            };\n",
       "            console.log(\"Bokeh: injecting script tag for BokehJS library: \", url);\n",
       "            document.getElementsByTagName(\"head\")[0].appendChild(s);\n",
       "          }\n",
       "        };var js_urls = ['https://cdn.pydata.org/bokeh/release/bokeh-0.11.0.min.js', 'https://cdn.pydata.org/bokeh/release/bokeh-widgets-0.11.0.min.js', 'https://cdn.pydata.org/bokeh/release/bokeh-compiler-0.11.0.min.js'];\n",
       "      \n",
       "        var inline_js = [\n",
       "          function(Bokeh) {\n",
       "            Bokeh.set_log_level(\"info\");\n",
       "          },\n",
       "          function(Bokeh) {\n",
       "            console.log(\"Bokeh: injecting CSS: https://cdn.pydata.org/bokeh/release/bokeh-0.11.0.min.css\");\n",
       "            Bokeh.embed.inject_css(\"https://cdn.pydata.org/bokeh/release/bokeh-0.11.0.min.css\");\n",
       "            console.log(\"Bokeh: injecting CSS: https://cdn.pydata.org/bokeh/release/bokeh-widgets-0.11.0.min.css\");\n",
       "            Bokeh.embed.inject_css(\"https://cdn.pydata.org/bokeh/release/bokeh-widgets-0.11.0.min.css\");\n",
       "          }\n",
       "        ];\n",
       "      \n",
       "        function run_inline_js() {\n",
       "          for (var i = 0; i < inline_js.length; i++) {\n",
       "            inline_js[i](window.Bokeh);\n",
       "          }\n",
       "        }\n",
       "      \n",
       "        if (window._bokeh_is_loading === 0) {\n",
       "          console.log(\"Bokeh: BokehJS loaded, going straight to plotting\");\n",
       "          run_inline_js();\n",
       "        } else {\n",
       "          load_libs(js_urls, function() {\n",
       "            console.log(\"Bokeh: BokehJS plotting callback run at\", now());\n",
       "            run_inline_js();\n",
       "          });\n",
       "        }\n",
       "      }(this));\n",
       "    </script>\n",
       "    <div>\n",
       "        <a href=\"http://bokeh.pydata.org\" target=\"_blank\" class=\"bk-logo bk-logo-small bk-logo-notebook\"></a>\n",
       "        <span>BokehJS successfully loaded.</span>\n",
       "    </div>"
      ]
     },
     "metadata": {},
     "output_type": "display_data"
    }
   ],
   "source": [
    "output_notebook()"
   ]
  },
  {
   "cell_type": "code",
   "execution_count": 8,
   "metadata": {
    "collapsed": true
   },
   "outputs": [],
   "source": [
    "x = [1, 2, 3, 4, 5]\n",
    "y = [6, 7, 2, 4, 5]"
   ]
  },
  {
   "cell_type": "code",
   "execution_count": 7,
   "metadata": {
    "collapsed": false
   },
   "outputs": [
    {
     "data": {
      "text/html": [
       "\n",
       "\n",
       "    <div class=\"plotdiv\" id=\"94cb235f-6225-4359-915b-c452e95a5a94\"></div>\n",
       "<script type=\"text/javascript\">\n",
       "  \n",
       "  (function(global) {\n",
       "    function now() {\n",
       "      return new Date();\n",
       "    }\n",
       "  \n",
       "    if (typeof (window._bokeh_onload_callbacks) === \"undefined\") {\n",
       "      window._bokeh_onload_callbacks = [];\n",
       "    }\n",
       "  \n",
       "    function run_callbacks() {\n",
       "      window._bokeh_onload_callbacks.forEach(function(callback) { callback() });\n",
       "      delete window._bokeh_onload_callbacks\n",
       "      console.info(\"Bokeh: all callbacks have finished\");\n",
       "    }\n",
       "  \n",
       "    function load_libs(js_urls, callback) {\n",
       "      window._bokeh_onload_callbacks.push(callback);\n",
       "      if (window._bokeh_is_loading > 0) {\n",
       "        console.log(\"Bokeh: BokehJS is being loaded, scheduling callback at\", now());\n",
       "        return null;\n",
       "      }\n",
       "      if (js_urls == null || js_urls.length === 0) {\n",
       "        run_callbacks();\n",
       "        return null;\n",
       "      }\n",
       "      console.log(\"Bokeh: BokehJS not loaded, scheduling load and callback at\", now());\n",
       "      window._bokeh_is_loading = js_urls.length;\n",
       "      for (var i = 0; i < js_urls.length; i++) {\n",
       "        var url = js_urls[i];\n",
       "        var s = document.createElement('script');\n",
       "        s.src = url;\n",
       "        s.async = false;\n",
       "        s.onreadystatechange = s.onload = function() {\n",
       "          window._bokeh_is_loading--;\n",
       "          if (window._bokeh_is_loading === 0) {\n",
       "            console.log(\"Bokeh: all BokehJS libraries loaded\");\n",
       "            run_callbacks()\n",
       "          }\n",
       "        };\n",
       "        s.onerror = function() {\n",
       "          console.warn(\"failed to load library \" + url);\n",
       "        };\n",
       "        console.log(\"Bokeh: injecting script tag for BokehJS library: \", url);\n",
       "        document.getElementsByTagName(\"head\")[0].appendChild(s);\n",
       "      }\n",
       "    };var element = document.getElementById(\"94cb235f-6225-4359-915b-c452e95a5a94\");\n",
       "    if (element == null) {\n",
       "      console.log(\"Bokeh: ERROR: autoload.js configured with elementid '94cb235f-6225-4359-915b-c452e95a5a94' but no matching script tag was found. \")\n",
       "      return false;\n",
       "    }var js_urls = [];\n",
       "  \n",
       "    var inline_js = [\n",
       "      function(Bokeh) {\n",
       "        Bokeh.$(function() {\n",
       "            var docs_json = {\"bbc8d744-7e18-4bb8-89e2-999cbb2442a2\": {\"version\": \"0.11.0\", \"roots\": {\"root_ids\": [\"acd00632-6d65-40e4-afa2-c0b5b40b08e3\"], \"references\": [{\"attributes\": {\"plot\": {\"subtype\": \"Figure\", \"type\": \"Plot\", \"id\": \"acd00632-6d65-40e4-afa2-c0b5b40b08e3\"}}, \"type\": \"ResetTool\", \"id\": \"4f2b1449-752c-4639-9f3d-5e5365c57743\"}, {\"attributes\": {\"plot\": {\"subtype\": \"Figure\", \"type\": \"Plot\", \"id\": \"acd00632-6d65-40e4-afa2-c0b5b40b08e3\"}, \"ticker\": {\"type\": \"BasicTicker\", \"id\": \"e7067601-f6ff-495a-93eb-92b95ad86049\"}, \"dimension\": 1}, \"type\": \"Grid\", \"id\": \"f691def5-323e-4e39-82e4-de1ca49ec526\"}, {\"attributes\": {\"plot\": {\"subtype\": \"Figure\", \"type\": \"Plot\", \"id\": \"acd00632-6d65-40e4-afa2-c0b5b40b08e3\"}}, \"type\": \"HelpTool\", \"id\": \"6ae8ceb3-508e-4b71-84ff-66640adb92bc\"}, {\"attributes\": {\"line_color\": {\"value\": \"black\"}, \"line_alpha\": {\"value\": 1.0}, \"render_mode\": \"css\", \"bottom_units\": \"screen\", \"level\": \"overlay\", \"top_units\": \"screen\", \"fill_alpha\": {\"value\": 0.5}, \"plot\": null, \"left_units\": \"screen\", \"line_dash\": [4, 4], \"line_width\": {\"value\": 2}, \"right_units\": \"screen\", \"fill_color\": {\"value\": \"lightgrey\"}}, \"type\": \"BoxAnnotation\", \"id\": \"49ebe15d-5830-455e-8f1d-65a6e9f53694\"}, {\"attributes\": {\"plot\": {\"subtype\": \"Figure\", \"type\": \"Plot\", \"id\": \"acd00632-6d65-40e4-afa2-c0b5b40b08e3\"}, \"overlay\": {\"type\": \"BoxAnnotation\", \"id\": \"49ebe15d-5830-455e-8f1d-65a6e9f53694\"}}, \"type\": \"BoxZoomTool\", \"id\": \"5e76e08d-3004-4096-a0bc-c0b8d2c37c74\"}, {\"attributes\": {}, \"type\": \"BasicTicker\", \"id\": \"e7067601-f6ff-495a-93eb-92b95ad86049\"}, {\"attributes\": {}, \"type\": \"BasicTicker\", \"id\": \"56051fb7-682d-4636-a466-92a175b41acb\"}, {\"attributes\": {\"x_range\": {\"type\": \"DataRange1d\", \"id\": \"fe5918de-f8d6-429c-9f63-a3a388d34cd6\"}, \"title\": \"simple line example\", \"y_range\": {\"type\": \"DataRange1d\", \"id\": \"c07ae4cf-8988-4dac-ab9a-ed9f4e3a867d\"}, \"renderers\": [{\"type\": \"LinearAxis\", \"id\": \"1f8e51d6-4574-4157-b716-da74b910056b\"}, {\"type\": \"Grid\", \"id\": \"a8f62ba8-914d-4486-8d74-a699edde28ec\"}, {\"type\": \"LinearAxis\", \"id\": \"eb0da760-b192-45ac-91d8-4ca1d2d5c616\"}, {\"type\": \"Grid\", \"id\": \"f691def5-323e-4e39-82e4-de1ca49ec526\"}, {\"type\": \"BoxAnnotation\", \"id\": \"49ebe15d-5830-455e-8f1d-65a6e9f53694\"}, {\"type\": \"Legend\", \"id\": \"7fbfdea8-9a94-49c0-88af-e125190cbea3\"}, {\"type\": \"GlyphRenderer\", \"id\": \"d93a0781-2565-4317-8e5f-3c761c99f45e\"}], \"below\": [{\"type\": \"LinearAxis\", \"id\": \"1f8e51d6-4574-4157-b716-da74b910056b\"}], \"tool_events\": {\"type\": \"ToolEvents\", \"id\": \"488b66ae-e4c7-43bb-aa9f-f4eb6b8e774c\"}, \"tools\": [{\"type\": \"PanTool\", \"id\": \"e46b886b-2b1b-425b-ad17-c53c91d51f71\"}, {\"type\": \"WheelZoomTool\", \"id\": \"24ca4b51-cb8f-4523-8f60-ebe6b4753c84\"}, {\"type\": \"BoxZoomTool\", \"id\": \"5e76e08d-3004-4096-a0bc-c0b8d2c37c74\"}, {\"type\": \"PreviewSaveTool\", \"id\": \"a62a25b3-68e3-4f1e-aa2c-83dd64ef997a\"}, {\"type\": \"ResizeTool\", \"id\": \"f30f27bd-bc61-4d88-9c70-7cbf86b9b355\"}, {\"type\": \"ResetTool\", \"id\": \"4f2b1449-752c-4639-9f3d-5e5365c57743\"}, {\"type\": \"HelpTool\", \"id\": \"6ae8ceb3-508e-4b71-84ff-66640adb92bc\"}], \"left\": [{\"type\": \"LinearAxis\", \"id\": \"eb0da760-b192-45ac-91d8-4ca1d2d5c616\"}]}, \"type\": \"Plot\", \"id\": \"acd00632-6d65-40e4-afa2-c0b5b40b08e3\", \"subtype\": \"Figure\"}, {\"attributes\": {\"plot\": {\"subtype\": \"Figure\", \"type\": \"Plot\", \"id\": \"acd00632-6d65-40e4-afa2-c0b5b40b08e3\"}, \"ticker\": {\"type\": \"BasicTicker\", \"id\": \"56051fb7-682d-4636-a466-92a175b41acb\"}}, \"type\": \"Grid\", \"id\": \"a8f62ba8-914d-4486-8d74-a699edde28ec\"}, {\"attributes\": {\"line_color\": {\"value\": \"#1f77b4\"}, \"line_alpha\": {\"value\": 0.1}, \"y\": {\"field\": \"y\"}, \"x\": {\"field\": \"x\"}, \"line_width\": {\"value\": 2}}, \"type\": \"Line\", \"id\": \"ed3cf789-b7ac-4349-be49-7d336377c42d\"}, {\"attributes\": {\"plot\": {\"subtype\": \"Figure\", \"type\": \"Plot\", \"id\": \"acd00632-6d65-40e4-afa2-c0b5b40b08e3\"}, \"legends\": [[\"Temp.\", [{\"type\": \"GlyphRenderer\", \"id\": \"d93a0781-2565-4317-8e5f-3c761c99f45e\"}]]]}, \"type\": \"Legend\", \"id\": \"7fbfdea8-9a94-49c0-88af-e125190cbea3\"}, {\"attributes\": {}, \"type\": \"BasicTickFormatter\", \"id\": \"d464ffc3-8596-445f-96db-4d9c5e2f774c\"}, {\"attributes\": {\"plot\": {\"subtype\": \"Figure\", \"type\": \"Plot\", \"id\": \"acd00632-6d65-40e4-afa2-c0b5b40b08e3\"}, \"axis_label\": \"y\", \"formatter\": {\"type\": \"BasicTickFormatter\", \"id\": \"08a0efc6-c2dc-4ece-8d66-0ca593d4e515\"}, \"ticker\": {\"type\": \"BasicTicker\", \"id\": \"e7067601-f6ff-495a-93eb-92b95ad86049\"}}, \"type\": \"LinearAxis\", \"id\": \"eb0da760-b192-45ac-91d8-4ca1d2d5c616\"}, {\"attributes\": {\"plot\": {\"subtype\": \"Figure\", \"type\": \"Plot\", \"id\": \"acd00632-6d65-40e4-afa2-c0b5b40b08e3\"}, \"axis_label\": \"x\", \"formatter\": {\"type\": \"BasicTickFormatter\", \"id\": \"d464ffc3-8596-445f-96db-4d9c5e2f774c\"}, \"ticker\": {\"type\": \"BasicTicker\", \"id\": \"56051fb7-682d-4636-a466-92a175b41acb\"}}, \"type\": \"LinearAxis\", \"id\": \"1f8e51d6-4574-4157-b716-da74b910056b\"}, {\"attributes\": {\"nonselection_glyph\": {\"type\": \"Line\", \"id\": \"ed3cf789-b7ac-4349-be49-7d336377c42d\"}, \"data_source\": {\"type\": \"ColumnDataSource\", \"id\": \"ec00e5cc-1b51-4871-bb25-e94272affb1a\"}, \"selection_glyph\": null, \"hover_glyph\": null, \"glyph\": {\"type\": \"Line\", \"id\": \"9a20f43f-663d-4e02-a505-c68b52552024\"}}, \"type\": \"GlyphRenderer\", \"id\": \"d93a0781-2565-4317-8e5f-3c761c99f45e\"}, {\"attributes\": {\"callback\": null, \"column_names\": [\"y\", \"x\"], \"data\": {\"y\": [6, 7, 2, 4, 5], \"x\": [1, 2, 3, 4, 5]}}, \"type\": \"ColumnDataSource\", \"id\": \"ec00e5cc-1b51-4871-bb25-e94272affb1a\"}, {\"attributes\": {\"plot\": {\"subtype\": \"Figure\", \"type\": \"Plot\", \"id\": \"acd00632-6d65-40e4-afa2-c0b5b40b08e3\"}}, \"type\": \"PreviewSaveTool\", \"id\": \"a62a25b3-68e3-4f1e-aa2c-83dd64ef997a\"}, {\"attributes\": {\"callback\": null}, \"type\": \"DataRange1d\", \"id\": \"c07ae4cf-8988-4dac-ab9a-ed9f4e3a867d\"}, {\"attributes\": {}, \"type\": \"ToolEvents\", \"id\": \"488b66ae-e4c7-43bb-aa9f-f4eb6b8e774c\"}, {\"attributes\": {\"callback\": null}, \"type\": \"DataRange1d\", \"id\": \"fe5918de-f8d6-429c-9f63-a3a388d34cd6\"}, {\"attributes\": {\"plot\": {\"subtype\": \"Figure\", \"type\": \"Plot\", \"id\": \"acd00632-6d65-40e4-afa2-c0b5b40b08e3\"}}, \"type\": \"WheelZoomTool\", \"id\": \"24ca4b51-cb8f-4523-8f60-ebe6b4753c84\"}, {\"attributes\": {}, \"type\": \"BasicTickFormatter\", \"id\": \"08a0efc6-c2dc-4ece-8d66-0ca593d4e515\"}, {\"attributes\": {\"line_color\": {\"value\": \"#1f77b4\"}, \"line_width\": {\"value\": 2}, \"y\": {\"field\": \"y\"}, \"x\": {\"field\": \"x\"}}, \"type\": \"Line\", \"id\": \"9a20f43f-663d-4e02-a505-c68b52552024\"}, {\"attributes\": {\"plot\": {\"subtype\": \"Figure\", \"type\": \"Plot\", \"id\": \"acd00632-6d65-40e4-afa2-c0b5b40b08e3\"}}, \"type\": \"ResizeTool\", \"id\": \"f30f27bd-bc61-4d88-9c70-7cbf86b9b355\"}, {\"attributes\": {\"plot\": {\"subtype\": \"Figure\", \"type\": \"Plot\", \"id\": \"acd00632-6d65-40e4-afa2-c0b5b40b08e3\"}}, \"type\": \"PanTool\", \"id\": \"e46b886b-2b1b-425b-ad17-c53c91d51f71\"}]}, \"title\": \"Bokeh Application\"}};\n",
       "            var render_items = [{\"notebook_comms_target\": \"417d75b2-ed65-4d46-8a75-7e9a7668161a\", \"docid\": \"bbc8d744-7e18-4bb8-89e2-999cbb2442a2\", \"elementid\": \"94cb235f-6225-4359-915b-c452e95a5a94\", \"modelid\": \"acd00632-6d65-40e4-afa2-c0b5b40b08e3\"}];\n",
       "            \n",
       "            Bokeh.embed.embed_items(docs_json, render_items);\n",
       "        });\n",
       "      },\n",
       "      function(Bokeh) {\n",
       "      }\n",
       "    ];\n",
       "  \n",
       "    function run_inline_js() {\n",
       "      for (var i = 0; i < inline_js.length; i++) {\n",
       "        inline_js[i](window.Bokeh);\n",
       "      }\n",
       "    }\n",
       "  \n",
       "    if (window._bokeh_is_loading === 0) {\n",
       "      console.log(\"Bokeh: BokehJS loaded, going straight to plotting\");\n",
       "      run_inline_js();\n",
       "    } else {\n",
       "      load_libs(js_urls, function() {\n",
       "        console.log(\"Bokeh: BokehJS plotting callback run at\", now());\n",
       "        run_inline_js();\n",
       "      });\n",
       "    }\n",
       "  }(this));\n",
       "</script>"
      ]
     },
     "metadata": {},
     "output_type": "display_data"
    },
    {
     "data": {
      "text/plain": [
       "<bokeh.io._CommsHandle at 0x7f7a5cfbfb10>"
      ]
     },
     "execution_count": 7,
     "metadata": {},
     "output_type": "execute_result"
    }
   ],
   "source": [
    "# create a new plot with a title and axis labels\n",
    "p = figure(title=\"simple line example\", x_axis_label='x', y_axis_label='y')\n",
    "\n",
    "# add a line renderer with legend and line thickness\n",
    "p.line(x, y, legend=\"Temp.\", line_width=2)\n",
    "\n",
    "# show the results\n",
    "show(p)"
   ]
  },
  {
   "cell_type": "code",
   "execution_count": null,
   "metadata": {
    "collapsed": true
   },
   "outputs": [],
   "source": []
  }
 ],
 "metadata": {
  "kernelspec": {
   "display_name": "Python 2",
   "language": "python",
   "name": "python2"
  },
  "language_info": {
   "codemirror_mode": {
    "name": "ipython",
    "version": 2
   },
   "file_extension": ".py",
   "mimetype": "text/x-python",
   "name": "python",
   "nbconvert_exporter": "python",
   "pygments_lexer": "ipython2",
   "version": "2.7.10"
  }
 },
 "nbformat": 4,
 "nbformat_minor": 0
}
