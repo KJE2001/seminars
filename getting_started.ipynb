{
 "cells": [
  {
   "cell_type": "markdown",
   "metadata": {},
   "source": [
    "<figure>\n",
    "  <IMG SRC=\"Logo_norsk_pos.png\" WIDTH=100 ALIGN=\"right\">\n",
    "</figure>\n",
    "\n",
    "# Getting started with Python and Jupyter\n",
    "*Roberto Di Remigio*"
   ]
  },
  {
   "cell_type": "code",
   "execution_count": 1,
   "metadata": {
    "collapsed": false
   },
   "outputs": [
    {
     "data": {
      "image/png": "[encoded data removed]",
      "text/plain": [
       "<matplotlib.figure.Figure at 0x7eff2c49ec50>"
      ]
     },
     "metadata": {},
     "output_type": "display_data"
    }
   ],
   "source": [
    "# make sure we see it on this notebook\n",
    "%matplotlib inline\n",
    "\n",
    "import matplotlib.pyplot as plt\n",
    "\n",
    "plt.plot([1, 2, 3, 5, 2, 6])\n",
    "plt.show()"
   ]
  },
  {
   "cell_type": "markdown",
   "metadata": {},
   "source": [
    "# Main title\n",
    "\n",
    "## Subtitle\n",
    "\n",
    "Some text here where we document something."
   ]
  },
  {
   "cell_type": "code",
   "execution_count": 6,
   "metadata": {
    "collapsed": false
   },
   "outputs": [],
   "source": [
    "from bokeh.plotting import figure, show\n",
    "from bokeh.io import output_notebook"
   ]
  },
  {
   "cell_type": "code",
   "execution_count": 7,
   "metadata": {
    "collapsed": false
   },
   "outputs": [
    {
     "data": {
      "text/html": [
       "\n",
       "\n",
       "    <script type=\"text/javascript\">\n",
       "      \n",
       "      (function(global) {\n",
       "        function now() {\n",
       "          return new Date();\n",
       "        }\n",
       "      \n",
       "        if (typeof (window._bokeh_onload_callbacks) === \"undefined\") {\n",
       "          window._bokeh_onload_callbacks = [];\n",
       "        }\n",
       "      \n",
       "        function run_callbacks() {\n",
       "          window._bokeh_onload_callbacks.forEach(function(callback) { callback() });\n",
       "          delete window._bokeh_onload_callbacks\n",
       "          console.info(\"Bokeh: all callbacks have finished\");\n",
       "        }\n",
       "      \n",
       "        function load_libs(js_urls, callback) {\n",
       "          window._bokeh_onload_callbacks.push(callback);\n",
       "          if (window._bokeh_is_loading > 0) {\n",
       "            console.log(\"Bokeh: BokehJS is being loaded, scheduling callback at\", now());\n",
       "            return null;\n",
       "          }\n",
       "          if (js_urls == null || js_urls.length === 0) {\n",
       "            run_callbacks();\n",
       "            return null;\n",
       "          }\n",
       "          console.log(\"Bokeh: BokehJS not loaded, scheduling load and callback at\", now());\n",
       "          window._bokeh_is_loading = js_urls.length;\n",
       "          for (var i = 0; i < js_urls.length; i++) {\n",
       "            var url = js_urls[i];\n",
       "            var s = document.createElement('script');\n",
       "            s.src = url;\n",
       "            s.async = false;\n",
       "            s.onreadystatechange = s.onload = function() {\n",
       "              window._bokeh_is_loading--;\n",
       "              if (window._bokeh_is_loading === 0) {\n",
       "                console.log(\"Bokeh: all BokehJS libraries loaded\");\n",
       "                run_callbacks()\n",
       "              }\n",
       "            };\n",
       "            s.onerror = function() {\n",
       "              console.warn(\"failed to load library \" + url);\n",
       "            };\n",
       "            console.log(\"Bokeh: injecting script tag for BokehJS library: \", url);\n",
       "            document.getElementsByTagName(\"head\")[0].appendChild(s);\n",
       "          }\n",
       "        };var js_urls = ['https://cdn.pydata.org/bokeh/release/bokeh-0.11.0.min.js', 'https://cdn.pydata.org/bokeh/release/bokeh-widgets-0.11.0.min.js', 'https://cdn.pydata.org/bokeh/release/bokeh-compiler-0.11.0.min.js'];\n",
       "      \n",
       "        var inline_js = [\n",
       "          function(Bokeh) {\n",
       "            Bokeh.set_log_level(\"info\");\n",
       "          },\n",
       "          function(Bokeh) {\n",
       "            console.log(\"Bokeh: injecting CSS: https://cdn.pydata.org/bokeh/release/bokeh-0.11.0.min.css\");\n",
       "            Bokeh.embed.inject_css(\"https://cdn.pydata.org/bokeh/release/bokeh-0.11.0.min.css\");\n",
       "            console.log(\"Bokeh: injecting CSS: https://cdn.pydata.org/bokeh/release/bokeh-widgets-0.11.0.min.css\");\n",
       "            Bokeh.embed.inject_css(\"https://cdn.pydata.org/bokeh/release/bokeh-widgets-0.11.0.min.css\");\n",
       "          }\n",
       "        ];\n",
       "      \n",
       "        function run_inline_js() {\n",
       "          for (var i = 0; i < inline_js.length; i++) {\n",
       "            inline_js[i](window.Bokeh);\n",
       "          }\n",
       "        }\n",
       "      \n",
       "        if (window._bokeh_is_loading === 0) {\n",
       "          console.log(\"Bokeh: BokehJS loaded, going straight to plotting\");\n",
       "          run_inline_js();\n",
       "        } else {\n",
       "          load_libs(js_urls, function() {\n",
       "            console.log(\"Bokeh: BokehJS plotting callback run at\", now());\n",
       "            run_inline_js();\n",
       "          });\n",
       "        }\n",
       "      }(this));\n",
       "    </script>\n",
       "    <div>\n",
       "        <a href=\"http://bokeh.pydata.org\" target=\"_blank\" class=\"bk-logo bk-logo-small bk-logo-notebook\"></a>\n",
       "        <span>BokehJS successfully loaded.</span>\n",
       "    </div>"
      ]
     },
     "metadata": {},
     "output_type": "display_data"
    }
   ],
   "source": [
    "output_notebook()"
   ]
  },
  {
   "cell_type": "code",
   "execution_count": 8,
   "metadata": {
    "collapsed": true
   },
   "outputs": [],
   "source": [
    "x = [1, 2, 3, 4, 5]\n",
    "y = [6, 7, 2, 4, 5]"
   ]
  },
  {
   "cell_type": "code",
   "execution_count": 9,
   "metadata": {
    "collapsed": false
   },
   "outputs": [
    {
     "data": {
      "text/html": [
       "\n",
       "\n",
       "    <div class=\"plotdiv\" id=\"dd51c14f-e01b-4d77-bc64-d5788bd8043e\"></div>\n",
       "<script type=\"text/javascript\">\n",
       "  \n",
       "  (function(global) {\n",
       "    function now() {\n",
       "      return new Date();\n",
       "    }\n",
       "  \n",
       "    if (typeof (window._bokeh_onload_callbacks) === \"undefined\") {\n",
       "      window._bokeh_onload_callbacks = [];\n",
       "    }\n",
       "  \n",
       "    function run_callbacks() {\n",
       "      window._bokeh_onload_callbacks.forEach(function(callback) { callback() });\n",
       "      delete window._bokeh_onload_callbacks\n",
       "      console.info(\"Bokeh: all callbacks have finished\");\n",
       "    }\n",
       "  \n",
       "    function load_libs(js_urls, callback) {\n",
       "      window._bokeh_onload_callbacks.push(callback);\n",
       "      if (window._bokeh_is_loading > 0) {\n",
       "        console.log(\"Bokeh: BokehJS is being loaded, scheduling callback at\", now());\n",
       "        return null;\n",
       "      }\n",
       "      if (js_urls == null || js_urls.length === 0) {\n",
       "        run_callbacks();\n",
       "        return null;\n",
       "      }\n",
       "      console.log(\"Bokeh: BokehJS not loaded, scheduling load and callback at\", now());\n",
       "      window._bokeh_is_loading = js_urls.length;\n",
       "      for (var i = 0; i < js_urls.length; i++) {\n",
       "        var url = js_urls[i];\n",
       "        var s = document.createElement('script');\n",
       "        s.src = url;\n",
       "        s.async = false;\n",
       "        s.onreadystatechange = s.onload = function() {\n",
       "          window._bokeh_is_loading--;\n",
       "          if (window._bokeh_is_loading === 0) {\n",
       "            console.log(\"Bokeh: all BokehJS libraries loaded\");\n",
       "            run_callbacks()\n",
       "          }\n",
       "        };\n",
       "        s.onerror = function() {\n",
       "          console.warn(\"failed to load library \" + url);\n",
       "        };\n",
       "        console.log(\"Bokeh: injecting script tag for BokehJS library: \", url);\n",
       "        document.getElementsByTagName(\"head\")[0].appendChild(s);\n",
       "      }\n",
       "    };var element = document.getElementById(\"dd51c14f-e01b-4d77-bc64-d5788bd8043e\");\n",
       "    if (element == null) {\n",
       "      console.log(\"Bokeh: ERROR: autoload.js configured with elementid 'dd51c14f-e01b-4d77-bc64-d5788bd8043e' but no matching script tag was found. \")\n",
       "      return false;\n",
       "    }var js_urls = [];\n",
       "  \n",
       "    var inline_js = [\n",
       "      function(Bokeh) {\n",
       "        Bokeh.$(function() {\n",
       "            var docs_json = {\"3d985d39-0966-4b9f-91f2-611e568fb5ce\": {\"version\": \"0.11.0\", \"roots\": {\"root_ids\": [\"2425214c-68e3-40b4-bdd8-2ac7dd1c3fd3\"], \"references\": [{\"attributes\": {\"callback\": null, \"column_names\": [\"y\", \"x\"], \"data\": {\"y\": [6, 7, 2, 4, 5], \"x\": [1, 2, 3, 4, 5]}}, \"type\": \"ColumnDataSource\", \"id\": \"50ba8989-37e0-4cd0-b480-8c56d2022325\"}, {\"attributes\": {\"plot\": {\"subtype\": \"Figure\", \"type\": \"Plot\", \"id\": \"2425214c-68e3-40b4-bdd8-2ac7dd1c3fd3\"}, \"axis_label\": \"y\", \"formatter\": {\"type\": \"BasicTickFormatter\", \"id\": \"90826a0e-25c3-4911-8620-ae1d84fce8b4\"}, \"ticker\": {\"type\": \"BasicTicker\", \"id\": \"37ae793e-6806-4c6a-b62e-0a07f1eb2f8a\"}}, \"type\": \"LinearAxis\", \"id\": \"55548055-afa8-4c4a-9bf8-11499ad459e1\"}, {\"attributes\": {\"callback\": null}, \"type\": \"DataRange1d\", \"id\": \"5212a375-57fd-4c95-ab1a-5894abca883a\"}, {\"attributes\": {\"nonselection_glyph\": {\"type\": \"Line\", \"id\": \"cbeb6106-0a14-4406-bb26-bc88d9e488df\"}, \"data_source\": {\"type\": \"ColumnDataSource\", \"id\": \"50ba8989-37e0-4cd0-b480-8c56d2022325\"}, \"selection_glyph\": null, \"hover_glyph\": null, \"glyph\": {\"type\": \"Line\", \"id\": \"5a860abe-6e6b-46d3-b2ac-6350ffd6ab54\"}}, \"type\": \"GlyphRenderer\", \"id\": \"97172a7e-af47-4148-8613-4905fb2ec3f2\"}, {\"attributes\": {\"plot\": {\"subtype\": \"Figure\", \"type\": \"Plot\", \"id\": \"2425214c-68e3-40b4-bdd8-2ac7dd1c3fd3\"}}, \"type\": \"HelpTool\", \"id\": \"2d069e35-93d4-4445-b0f5-5e1990b96473\"}, {\"attributes\": {\"plot\": {\"subtype\": \"Figure\", \"type\": \"Plot\", \"id\": \"2425214c-68e3-40b4-bdd8-2ac7dd1c3fd3\"}, \"ticker\": {\"type\": \"BasicTicker\", \"id\": \"670875e6-707a-4769-b9c7-18e84579cfb3\"}}, \"type\": \"Grid\", \"id\": \"b613c4b6-734c-4d52-bfb0-0b8d85c8dd75\"}, {\"attributes\": {}, \"type\": \"BasicTicker\", \"id\": \"37ae793e-6806-4c6a-b62e-0a07f1eb2f8a\"}, {\"attributes\": {\"plot\": {\"subtype\": \"Figure\", \"type\": \"Plot\", \"id\": \"2425214c-68e3-40b4-bdd8-2ac7dd1c3fd3\"}, \"axis_label\": \"x\", \"formatter\": {\"type\": \"BasicTickFormatter\", \"id\": \"2400b334-dbdb-4c3f-9612-48b0467378e9\"}, \"ticker\": {\"type\": \"BasicTicker\", \"id\": \"670875e6-707a-4769-b9c7-18e84579cfb3\"}}, \"type\": \"LinearAxis\", \"id\": \"60b76e84-6706-4c37-af3d-7d5751cb523f\"}, {\"attributes\": {\"line_color\": {\"value\": \"#1f77b4\"}, \"line_alpha\": {\"value\": 0.1}, \"y\": {\"field\": \"y\"}, \"x\": {\"field\": \"x\"}, \"line_width\": {\"value\": 2}}, \"type\": \"Line\", \"id\": \"cbeb6106-0a14-4406-bb26-bc88d9e488df\"}, {\"attributes\": {}, \"type\": \"BasicTicker\", \"id\": \"670875e6-707a-4769-b9c7-18e84579cfb3\"}, {\"attributes\": {\"plot\": {\"subtype\": \"Figure\", \"type\": \"Plot\", \"id\": \"2425214c-68e3-40b4-bdd8-2ac7dd1c3fd3\"}, \"ticker\": {\"type\": \"BasicTicker\", \"id\": \"37ae793e-6806-4c6a-b62e-0a07f1eb2f8a\"}, \"dimension\": 1}, \"type\": \"Grid\", \"id\": \"203972a0-027b-4dc2-b8ca-a3ee5e20e229\"}, {\"attributes\": {\"plot\": {\"subtype\": \"Figure\", \"type\": \"Plot\", \"id\": \"2425214c-68e3-40b4-bdd8-2ac7dd1c3fd3\"}}, \"type\": \"ResizeTool\", \"id\": \"0886ede0-f933-44b4-ae10-9ed036131782\"}, {\"attributes\": {\"plot\": {\"subtype\": \"Figure\", \"type\": \"Plot\", \"id\": \"2425214c-68e3-40b4-bdd8-2ac7dd1c3fd3\"}}, \"type\": \"ResetTool\", \"id\": \"2702510e-b648-4c2f-97e4-086ba043b099\"}, {\"attributes\": {\"callback\": null}, \"type\": \"DataRange1d\", \"id\": \"f7a78c32-734e-46fe-a470-761a3b0d1eb6\"}, {\"attributes\": {}, \"type\": \"BasicTickFormatter\", \"id\": \"2400b334-dbdb-4c3f-9612-48b0467378e9\"}, {\"attributes\": {\"plot\": {\"subtype\": \"Figure\", \"type\": \"Plot\", \"id\": \"2425214c-68e3-40b4-bdd8-2ac7dd1c3fd3\"}}, \"type\": \"WheelZoomTool\", \"id\": \"735fe60e-9988-45ea-b8b2-6872edc8f0a2\"}, {\"attributes\": {\"plot\": {\"subtype\": \"Figure\", \"type\": \"Plot\", \"id\": \"2425214c-68e3-40b4-bdd8-2ac7dd1c3fd3\"}, \"legends\": [[\"Temp.\", [{\"type\": \"GlyphRenderer\", \"id\": \"97172a7e-af47-4148-8613-4905fb2ec3f2\"}]]]}, \"type\": \"Legend\", \"id\": \"03a380be-ddb6-4402-8e0c-3a0da5b9f7d7\"}, {\"attributes\": {\"plot\": {\"subtype\": \"Figure\", \"type\": \"Plot\", \"id\": \"2425214c-68e3-40b4-bdd8-2ac7dd1c3fd3\"}, \"overlay\": {\"type\": \"BoxAnnotation\", \"id\": \"a7091746-5073-445b-b43f-3be24d915c8e\"}}, \"type\": \"BoxZoomTool\", \"id\": \"b4be6ce6-bc6b-43b0-bf44-fd803ed44687\"}, {\"attributes\": {\"plot\": {\"subtype\": \"Figure\", \"type\": \"Plot\", \"id\": \"2425214c-68e3-40b4-bdd8-2ac7dd1c3fd3\"}}, \"type\": \"PreviewSaveTool\", \"id\": \"6f88eb85-6a6f-4775-b61d-0cd3a7f0ca61\"}, {\"attributes\": {\"line_color\": {\"value\": \"black\"}, \"line_alpha\": {\"value\": 1.0}, \"render_mode\": \"css\", \"bottom_units\": \"screen\", \"level\": \"overlay\", \"top_units\": \"screen\", \"fill_alpha\": {\"value\": 0.5}, \"plot\": null, \"left_units\": \"screen\", \"line_dash\": [4, 4], \"line_width\": {\"value\": 2}, \"right_units\": \"screen\", \"fill_color\": {\"value\": \"lightgrey\"}}, \"type\": \"BoxAnnotation\", \"id\": \"a7091746-5073-445b-b43f-3be24d915c8e\"}, {\"attributes\": {\"line_color\": {\"value\": \"#1f77b4\"}, \"line_width\": {\"value\": 2}, \"y\": {\"field\": \"y\"}, \"x\": {\"field\": \"x\"}}, \"type\": \"Line\", \"id\": \"5a860abe-6e6b-46d3-b2ac-6350ffd6ab54\"}, {\"attributes\": {}, \"type\": \"ToolEvents\", \"id\": \"cfe42a3d-b220-40e5-b78a-2d7c8db07e0b\"}, {\"attributes\": {\"plot\": {\"subtype\": \"Figure\", \"type\": \"Plot\", \"id\": \"2425214c-68e3-40b4-bdd8-2ac7dd1c3fd3\"}}, \"type\": \"PanTool\", \"id\": \"ccc8538e-362e-4715-a3d4-12f61f202c3a\"}, {\"attributes\": {\"x_range\": {\"type\": \"DataRange1d\", \"id\": \"5212a375-57fd-4c95-ab1a-5894abca883a\"}, \"title\": \"simple line example\", \"y_range\": {\"type\": \"DataRange1d\", \"id\": \"f7a78c32-734e-46fe-a470-761a3b0d1eb6\"}, \"renderers\": [{\"type\": \"LinearAxis\", \"id\": \"60b76e84-6706-4c37-af3d-7d5751cb523f\"}, {\"type\": \"Grid\", \"id\": \"b613c4b6-734c-4d52-bfb0-0b8d85c8dd75\"}, {\"type\": \"LinearAxis\", \"id\": \"55548055-afa8-4c4a-9bf8-11499ad459e1\"}, {\"type\": \"Grid\", \"id\": \"203972a0-027b-4dc2-b8ca-a3ee5e20e229\"}, {\"type\": \"BoxAnnotation\", \"id\": \"a7091746-5073-445b-b43f-3be24d915c8e\"}, {\"type\": \"Legend\", \"id\": \"03a380be-ddb6-4402-8e0c-3a0da5b9f7d7\"}, {\"type\": \"GlyphRenderer\", \"id\": \"97172a7e-af47-4148-8613-4905fb2ec3f2\"}], \"below\": [{\"type\": \"LinearAxis\", \"id\": \"60b76e84-6706-4c37-af3d-7d5751cb523f\"}], \"tool_events\": {\"type\": \"ToolEvents\", \"id\": \"cfe42a3d-b220-40e5-b78a-2d7c8db07e0b\"}, \"tools\": [{\"type\": \"PanTool\", \"id\": \"ccc8538e-362e-4715-a3d4-12f61f202c3a\"}, {\"type\": \"WheelZoomTool\", \"id\": \"735fe60e-9988-45ea-b8b2-6872edc8f0a2\"}, {\"type\": \"BoxZoomTool\", \"id\": \"b4be6ce6-bc6b-43b0-bf44-fd803ed44687\"}, {\"type\": \"PreviewSaveTool\", \"id\": \"6f88eb85-6a6f-4775-b61d-0cd3a7f0ca61\"}, {\"type\": \"ResizeTool\", \"id\": \"0886ede0-f933-44b4-ae10-9ed036131782\"}, {\"type\": \"ResetTool\", \"id\": \"2702510e-b648-4c2f-97e4-086ba043b099\"}, {\"type\": \"HelpTool\", \"id\": \"2d069e35-93d4-4445-b0f5-5e1990b96473\"}], \"left\": [{\"type\": \"LinearAxis\", \"id\": \"55548055-afa8-4c4a-9bf8-11499ad459e1\"}]}, \"type\": \"Plot\", \"id\": \"2425214c-68e3-40b4-bdd8-2ac7dd1c3fd3\", \"subtype\": \"Figure\"}, {\"attributes\": {}, \"type\": \"BasicTickFormatter\", \"id\": \"90826a0e-25c3-4911-8620-ae1d84fce8b4\"}]}, \"title\": \"Bokeh Application\"}};\n",
       "            var render_items = [{\"notebook_comms_target\": \"6b7649fd-f4ae-4a7c-9ff9-1c555e78cfe2\", \"docid\": \"3d985d39-0966-4b9f-91f2-611e568fb5ce\", \"elementid\": \"dd51c14f-e01b-4d77-bc64-d5788bd8043e\", \"modelid\": \"2425214c-68e3-40b4-bdd8-2ac7dd1c3fd3\"}];\n",
       "            \n",
       "            Bokeh.embed.embed_items(docs_json, render_items);\n",
       "        });\n",
       "      },\n",
       "      function(Bokeh) {\n",
       "      }\n",
       "    ];\n",
       "  \n",
       "    function run_inline_js() {\n",
       "      for (var i = 0; i < inline_js.length; i++) {\n",
       "        inline_js[i](window.Bokeh);\n",
       "      }\n",
       "    }\n",
       "  \n",
       "    if (window._bokeh_is_loading === 0) {\n",
       "      console.log(\"Bokeh: BokehJS loaded, going straight to plotting\");\n",
       "      run_inline_js();\n",
       "    } else {\n",
       "      load_libs(js_urls, function() {\n",
       "        console.log(\"Bokeh: BokehJS plotting callback run at\", now());\n",
       "        run_inline_js();\n",
       "      });\n",
       "    }\n",
       "  }(this));\n",
       "</script>"
      ]
     },
     "metadata": {},
     "output_type": "display_data"
    },
    {
     "data": {
      "text/plain": [
       "<bokeh.io._CommsHandle at 0x7f34f5290450>"
      ]
     },
     "execution_count": 9,
     "metadata": {},
     "output_type": "execute_result"
    }
   ],
   "source": [
    "# create a new plot with a title and axis labels\n",
    "p = figure(title=\"simple line example\", x_axis_label='x', y_axis_label='y')\n",
    "\n",
    "# add a line renderer with legend and line thickness\n",
    "p.line(x, y, legend=\"Temp.\", line_width=2)\n",
    "\n",
    "# show the results\n",
    "show(p)"
   ]
  },
  {
   "cell_type": "code",
   "execution_count": null,
   "metadata": {
    "collapsed": true
   },
   "outputs": [],
   "source": []
  }
 ],
 "metadata": {
  "kernelspec": {
   "display_name": "Python 2",
   "language": "python",
   "name": "python2"
  },
  "language_info": {
   "codemirror_mode": {
    "name": "ipython",
    "version": 2
   },
   "file_extension": ".py",
   "mimetype": "text/x-python",
   "name": "python",
   "nbconvert_exporter": "python",
   "pygments_lexer": "ipython2",
   "version": "2.7.10"
  }
 },
 "nbformat": 4,
 "nbformat_minor": 0
}
