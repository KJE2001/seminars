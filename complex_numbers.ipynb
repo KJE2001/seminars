{
 "cells": [
  {
   "cell_type": "markdown",
   "metadata": {},
   "source": [
    "<figure>\n",
    "  <IMG SRC=\"gfx/Logo_norsk_pos.png\" WIDTH=100 ALIGN=\"right\">\n",
    "</figure>\n",
    "\n",
    "# Complex numbers\n",
    "*Roberto Di Remigio*, *Luca Frediani*\n",
    "\n",
    "Complex numbers are extremely important in mathematics and physics. The concept of a\n",
    "complex number was introduced as early as the 16th century in order to solve algebraic equations\n",
    "without a real solution, such as:\n",
    "\n",
    "\\begin{equation}\n",
    "    x^2 + 1 = 0\n",
    "\\end{equation}\n",
    "\n",
    "If we _define_ the _imaginary unit_ as:\n",
    "\n",
    "\\begin{equation}\n",
    "    \\mathrm{i}^2 = -1\n",
    "\\end{equation}\n",
    "\n",
    "then the quadratic equation above admits the two, purely imaginary, solutions $+\\mathrm{i}$ and $-\\mathrm{i}$.\n",
    "\n",
    "In general, a complex number is any entity that can be written in the form:\n",
    "\n",
    "\\begin{equation}\n",
    " z = a +\\mathrm{i}b = \\Re(z) +\\mathrm{i}\\Im(z)\n",
    "\\end{equation}\n",
    "\n",
    "where $a, b$ are real numbers and are called the _real_ and _imaginary_ part of the complex number $z$.\n",
    "Apart from all the usual operations, i.e. addition, subtraction, multiplication and division, we can furthermore define _complex conjugation_:\n",
    "\n",
    "\\begin{equation}\n",
    " z^* = a - \\mathrm{i} b = \\Re(z) - \\mathrm{i}\\Im(z)\n",
    "\\end{equation}"
   ]
  },
  {
   "cell_type": "markdown",
   "metadata": {},
   "source": [
    "## Exercise 1\n",
    "\n",
    "Write down explicitly the form of the sum, difference, multiplication and division of two complex numbers $z = a + \\mathrm{i}b$ and $w=c + \\mathrm{i}d$.\n",
    "Prove also that:\n",
    "\n",
    " \\begin{alignat}{2}\n",
    "  \\Re(z) = a = \\frac{z+z^*}{2};\\quad&\\quad \\Im(z) = b = \\frac{z-z^*}{2\\mathrm{i}}\n",
    " \\end{alignat}\n",
    "\n",
    "We can draw a powerful analogy between points in the plane and complex numbers. Let's rename the $x$-axis the _real_ axis and the $y$-axis the _imaginary_ axis. Any complex\n",
    "number can be represented in this plane, simply drawing the point with $x$ coordinate equal to its real part and $y$ coordinate equal to its imaginary part. This amounts to\n",
    "specifying the components of a 2-dimensional vector:\n",
    "\n",
    "\\begin{equation}\\label{eq:vector}\n",
    " \\overrightarrow{v} = \\begin{pmatrix}\n",
    "      \\Re(z) \\\\\n",
    "      \\Im(z)\n",
    "     \\end{pmatrix}\n",
    "     = \\begin{pmatrix}\n",
    "      a \\\\\n",
    "      b\n",
    "     \\end{pmatrix}\n",
    "\\end{equation}"
   ]
  },
  {
   "cell_type": "markdown",
   "metadata": {},
   "source": [
    "## Exercise 2\n",
    "\n",
    "Draw the following numbers in the complex plane: $z=\\frac{\\sqrt{2}}{2} + \\mathrm{i}\\frac{\\sqrt{2}}{2}$, $w=\\frac{\\sqrt{3}}{2} + \\mathrm{i}\\frac{1}{2}$ and their complex conjugates $z^*$ and $w^*$.\n",
    "The following example shows how to draw arrows using `matplotlib` and the `arrow` function. This function takes two four arguments, the $x$ and $y$ coordinates of the arrow start and the $x$ and $y$ coordinates of the arrow end."
   ]
  },
  {
   "cell_type": "code",
   "execution_count": 29,
   "metadata": {
    "collapsed": false
   },
   "outputs": [
    {
     "data": {
      "image/png": "[encoded data removed]",
      "text/plain": [
       "<matplotlib.figure.Figure at 0x7f9004881850>"
      ]
     },
     "metadata": {},
     "output_type": "display_data"
    }
   ],
   "source": [
    "import matplotlib.pyplot as plt\n",
    "%matplotlib inline\n",
    "\n",
    "ax = plt.axes()\n",
    "# Use the arrow function\n",
    "# The arrow start at x=0.0, y=0.0 and ends at x=0.5, y=0.5\n",
    "ax.arrow(x=0, y=0, dx=0.5, dy=0.5)\n",
    "plt.show()"
   ]
  },
  {
   "cell_type": "markdown",
   "metadata": {},
   "source": [
    "The analogy between complex numbers and 2-dimensional vectors can be brought a bit further. Using Pythagoras' theorem we can calculate the length of a 2-dimensional vector\n",
    "(its _norm_ or its _magnitude_) in terms of its components:\n",
    "\n",
    "\\begin{equation}\n",
    " v = \\sqrt{a^2 + b^2} = \\sqrt{\\Re(z)^2 + \\Im(z)^2}\n",
    "\\end{equation}\n",
    "\n",
    "This lets us introduce a third way of representing a complex number, the _polar_ representation. Instead of specifying the cartesian components of our point in the complex plane\n",
    "(cartesian or _rectangular_ representation), we can specify the _length_ of the vector, $\\rho$, and its _angle_ with respect to the real axis  $\\theta$. We assume that\n",
    "angles increase in an anti-clockwise sense, with the zero corresponding to the $x$-axis.\n",
    "\n",
    "## Exercise 3\n",
    "\n",
    "Using the Figure below\n",
    "<figure>\n",
    "  <IMG SRC=\"gfx/trigonometry.png\" WIDTH=400>\n",
    "</figure>\n",
    "prove the following sets of relations between the rectangular and polar representations:\n",
    "\n",
    " \\begin{alignat}{2}\n",
    "  \\left\\{\n",
    "  \\begin{array}{lr}\n",
    "    \\rho = \\sqrt{a^2 + b^2} \\\\\n",
    "    \\tan\\theta = \\frac{b}{a}\n",
    "  \\end{array}\n",
    "\\right.\n",
    "\\quad&\\quad\n",
    "\\left\\{\n",
    "  \\begin{array}{lr}\n",
    "    a = \\rho\\cos\\theta\\\\\n",
    "    b = \\rho\\sin\\theta\n",
    "  \\end{array}\n",
    "\\right.\n",
    " \\end{alignat}\n",
    "The tangent function is defined as $\\tan\\alpha=\\frac{\\sin\\alpha}{\\cos\\alpha}$."
   ]
  },
  {
   "cell_type": "markdown",
   "metadata": {},
   "source": [
    "Using the second set among the equations above we have:\n",
    "\n",
    "\\begin{equation}\n",
    " z = \\rho\\cos\\theta + \\mathrm{i}\\rho\\sin\\theta = \\rho(\\cos\\theta + \\mathrm{i}\\sin\\theta)\n",
    "\\end{equation}\n",
    "\n",
    "which we will rewrite as:\n",
    "\n",
    "\\begin{equation}\n",
    " z = \\rho \\mathrm{e}^{\\mathrm{i}\\theta}\n",
    "\\end{equation}\n",
    "\n",
    "The exponential above can be expanded as:\n",
    "\n",
    "\\begin{equation}\n",
    "  \\mathrm{e}^{\\mathrm{i}\\theta} = \\cos\\theta + \\mathrm{i}\\sin\\theta\n",
    "\\end{equation}\n",
    "\n",
    "known as _Euler's formula_ and $\\mathrm{e}=2.71828\\ldots$ is the _Napier's constant_. This formula is extremely important both from a theoretical and practical point of view.\n",
    "\n",
    "## Exercise 4\n",
    "\n",
    "Given $z=\\rho \\mathrm{e}^{\\mathrm{i}\\theta}$ how would you write the Euler representation of its complex conjugate $z^*$?\n",
    "\n",
    "    Hint: what happens to $a+\\mathrm{i} b$ when taking the complex conjugate?\n",
    "   \n",
    "Draw some more vectors in the complex plane using `matplotlib`: $\\mathrm{e}^{\\mathrm{i}\\theta}$ where $\\theta$ is $30^\\circ$, $150^\\circ$, $210^\\circ$ and $330^\\circ$.\n",
    "What do all these vectors have in common?\n",
    "You can write polar vectors in `matplotlib` in two ways. Either by using Euler's formula to find the arrow start and end coordinates or by using the proper syntax for polar plots.\n",
    "We invite you to use both and define the appropriate functions for the calculations needed when using the Cartesian representation.\n",
    "What follows is an example of polar plot."
   ]
  },
  {
   "cell_type": "code",
   "execution_count": 30,
   "metadata": {
    "collapsed": false
   },
   "outputs": [
    {
     "data": {
      "image/png": "[encoded data removed]",
      "text/plain": [
       "<matplotlib.figure.Figure at 0x7f90048e5710>"
      ]
     },
     "metadata": {},
     "output_type": "display_data"
    }
   ],
   "source": [
    "# Enable polar coordinates\n",
    "ax = plt.axes(polar=True)\n",
    "# Use the arrow function\n",
    "# The arrow forms a 45° angle with the x axis and has length 1\n",
    "ax.arrow(x=45/180.*np.pi, y=0.0, dx=0, dy=1)\n",
    "# We can still use the Cartesian format\n",
    "ax.arrow(x=0.0, y=0.0, dx=0.5, dy=0.5)\n",
    "plt.show()"
   ]
  },
  {
   "cell_type": "markdown",
   "metadata": {},
   "source": [
    "## Exercise 5\n",
    "\n",
    "The Taylor expansion of $\\mathrm{e}^{\\mathrm{i}\\theta}$ is given below. In this exercise we will try to ``prove'', by a convincing yet non-formal argument, that Euler's formula does indeed hold true.\n",
    "\n",
    "\\begin{equation}\n",
    "\\begin{aligned}\n",
    " e^{\\mathrm{i}\\theta} &= \\sum_{n = 0}^\\infty \\frac{(\\mathrm{i}\\theta)^n}{n!} \\\\\n",
    " &= 1 + \\mathrm{i}\\theta + \\frac{(\\mathrm{i}\\theta)^2}{2!} + \\frac{(\\mathrm{i}\\theta)^3}{3!} + \\frac{(\\mathrm{i}\\theta)^3}{3!} + \\ldots \\\\\n",
    " &= \\left( 1 - \\frac{\\theta^2}{2!} + \\frac{\\theta^4}{4!} - \\frac{\\theta^6}{6!} +\\ldots\\right)\n",
    " + \\mathrm{i}\\left( \\theta - \\frac{\\theta^3}{3!} + \\frac{\\theta^5}{5!} - \\frac{\\theta^7}{7!} + \\ldots \\right) \\\\\n",
    " &= \\cos\\theta + \\mathrm{i}\\sin\\theta\n",
    " \\end{aligned}\n",
    "\\end{equation}\n",
    "\n",
    "Using `matplotlib`, you will produce two plots. \n",
    "The former will contain the plot of $\\cos\\theta$, $1$, $\\left( 1 - \\frac{\\theta^2}{2!}\\right)$,\n",
    "$\\left( 1 - \\frac{\\theta^2}{2!} + \\frac{\\theta^4}{4!}\\right)$ and $\\left( 1 - \\frac{\\theta^2}{2!} + \\frac{\\theta^4}{4!} - \\frac{\\theta^6}{6!} \\right)$.\n",
    "The latter will contain the plot of $\\sin\\theta$, $\\theta$, $\\left(\\theta - \\frac{\\theta^3}{3!}\\right)$,\n",
    "$\\left(\\theta - \\frac{\\theta^3}{3!} + \\frac{\\theta^5}{5!}\\right)$ and $\\left(\\theta - \\frac{\\theta^3}{3!} + \\frac{\\theta^5}{5!} - \\frac{\\theta^7}{7!} \\right)$.\n",
    "What is it you notice?\n",
    "\n",
    "As a quick reminder, you should use **both** `numpy` and `matplotlib` to generate these plots. Defining functions will also help ;)"
   ]
  },
  {
   "cell_type": "markdown",
   "metadata": {},
   "source": [
    "### Bonus\n",
    "\n",
    "The general expression for a Taylor expansion at $x_0$ is:\n",
    "\n",
    "\\begin{equation}\n",
    " f(x) = \\sum_{n=0}^\\infty\\frac{(x-x_0)^n}{n!}f^{(n)}(x_0)\n",
    "\\end{equation}\n",
    "\n",
    "where $f^{(n)}(x_0) = \\frac{\\mathrm{d}^n f}{\\mathrm{d}x^n}(x_0)$ is the $n$-th order derivative function of $f(x)$ evaluated at $x_0$.\n",
    "Write down explicitly the first few terms for the expansion of $\\cos(x)$ and $\\sin(x)$ for $x_0=0$ and verify that the identification made in the Taylor expansion above is correct."
   ]
  }
 ],
 "metadata": {
  "kernelspec": {
   "display_name": "Python 2",
   "language": "python",
   "name": "python2"
  },
  "language_info": {
   "codemirror_mode": {
    "name": "ipython",
    "version": 2
   },
   "file_extension": ".py",
   "mimetype": "text/x-python",
   "name": "python",
   "nbconvert_exporter": "python",
   "pygments_lexer": "ipython2",
   "version": "2.7.10"
  }
 },
 "nbformat": 4,
 "nbformat_minor": 0
}
