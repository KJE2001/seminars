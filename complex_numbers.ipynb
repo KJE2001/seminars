{
 "cells": [
  {
   "cell_type": "code",
   "execution_count": 4,
   "metadata": {
    "collapsed": false
   },
   "outputs": [
    {
     "data": {
      "image/png": "[encoded data removed]",
      "text/plain": [
       "<matplotlib.figure.Figure at 0x7faa0a35f400>"
      ]
     },
     "metadata": {},
     "output_type": "display_data"
    }
   ],
   "source": [
    "# make sure we see it on this notebook\n",
    "%matplotlib inline\n",
    "\n",
    "import matplotlib.pyplot as plt\n",
    "\n",
    "plt.plot([1, 2, 3, 5, 2, 6])\n",
    "plt.show()"
   ]
  },
  {
   "cell_type": "markdown",
   "metadata": {},
   "source": [
    "# Complex numbers\n",
    "\n",
    "Complex numbers are extremely important in mathematics and physics. The concept of a\n",
    "complex number was introduced as early as the 16th century in order to solve algebraic equations\n",
    "without a real solution, such as:\n",
    "\\begin{equation}\n",
    "    x^2 + 1 = 0\n",
    "\\end{equation}\n",
    "If we _define_ the _imaginary unit_ as:\n",
    "\\begin{equation}\n",
    "    \\mathrm{i}^2 = -1\n",
    "\\end{equation}\n",
    "then the quadratic equation above admits the two, purely imaginary, solutions $+\\mathrm{i}$ and $-\\mathrm{i}$.\n",
    "\n",
    "In general, a complex number is any entity that can be written in the form:\n",
    "\\begin{equation}\n",
    " z = a +\\mathrm{i}b = \\Re(z) +\\mathrm{i}\\Im(z)\n",
    "\\end{equation}\n",
    "where $a, b$ are real numbers and are called the _real_ and _imaginary_ part of the complex number $z$.\n",
    "Apart from all the usual operations, i.e. addition, subtraction, multiplication and division, we can furthermore define _complex conjugation_:\n",
    "\\begin{equation}\n",
    " z^* = a - \\mathrm{i} b = \\Re(z) - \\mathrm{i}\\Im(z)\n",
    "\\end{equation}\n",
    "\n",
    "## Exercise 1\n",
    "\n",
    "Write down explicitly the form of the sum, difference, multiplication and division of two complex numbers $z = a + \\mathrm{i}b$ and $w=c + \\mathrm{i}d$.\n",
    "Prove also that:\n",
    " \\begin{alignat}{2}\n",
    "  \\Re(z) = a = \\frac{z+z^*}{2};\\quad&\\quad \\Im(z) = b = \\frac{z-z^*}{2\\mathrm{i}}\n",
    " \\end{alignat}\n",
    "\n",
    "We can draw a powerful analogy between points in the plane and complex numbers. Let's rename the $x$-axis the _real_ axis and the $y$-axis the _imaginary_ axis. Any complex\n",
    "number can be represented in this plane, simply drawing the point with $x$ coordinate equal to its real part and $y$ coordinate equal to its imaginary part. This amounts to\n",
    "specifying the components of a 2-dimensional vector:\n",
    "\\begin{equation}\n",
    " \\overrightarrow{v} = \\begin{pmatrix}\n",
    "      \\Re(z) \\\\\n",
    "      \\Im(z)\n",
    "     \\end{pmatrix}\n",
    "     = \\begin{pmatrix}\n",
    "      a \\\\\n",
    "      b\n",
    "     \\end{pmatrix}\n",
    "\\end{equation}\n",
    "\n",
    "## Exercise 2\n",
    "Using the notebook draw the following numbers in the complex plane: $z=\\frac{\\sqrt{2}}{2} + \\mathrm{i}\\frac{\\sqrt{2}}{2}$, $w=\\frac{\\sqrt{3}}{2} + \\mathrm{i}\\frac{1}{2}$ and their complex conjugates $z^*$ and $w^*$."
   ]
  },
  {
   "cell_type": "code",
   "execution_count": 4,
   "metadata": {
    "collapsed": true
   },
   "outputs": [],
   "source": [
    "from bokeh.plotting import figure, show\n",
    "from bokeh.io import output_notebook"
   ]
  },
  {
   "cell_type": "code",
   "execution_count": 2,
   "metadata": {
    "collapsed": false
   },
   "outputs": [
    {
     "data": {
      "text/html": [
       "\n",
       "\n",
       "    <script type=\"text/javascript\">\n",
       "      \n",
       "      (function(global) {\n",
       "        function now() {\n",
       "          return new Date();\n",
       "        }\n",
       "      \n",
       "        if (typeof (window._bokeh_onload_callbacks) === \"undefined\") {\n",
       "          window._bokeh_onload_callbacks = [];\n",
       "        }\n",
       "      \n",
       "        function run_callbacks() {\n",
       "          window._bokeh_onload_callbacks.forEach(function(callback) { callback() });\n",
       "          delete window._bokeh_onload_callbacks\n",
       "          console.info(\"Bokeh: all callbacks have finished\");\n",
       "        }\n",
       "      \n",
       "        function load_libs(js_urls, callback) {\n",
       "          window._bokeh_onload_callbacks.push(callback);\n",
       "          if (window._bokeh_is_loading > 0) {\n",
       "            console.log(\"Bokeh: BokehJS is being loaded, scheduling callback at\", now());\n",
       "            return null;\n",
       "          }\n",
       "          if (js_urls == null || js_urls.length === 0) {\n",
       "            run_callbacks();\n",
       "            return null;\n",
       "          }\n",
       "          console.log(\"Bokeh: BokehJS not loaded, scheduling load and callback at\", now());\n",
       "          window._bokeh_is_loading = js_urls.length;\n",
       "          for (var i = 0; i < js_urls.length; i++) {\n",
       "            var url = js_urls[i];\n",
       "            var s = document.createElement('script');\n",
       "            s.src = url;\n",
       "            s.async = false;\n",
       "            s.onreadystatechange = s.onload = function() {\n",
       "              window._bokeh_is_loading--;\n",
       "              if (window._bokeh_is_loading === 0) {\n",
       "                console.log(\"Bokeh: all BokehJS libraries loaded\");\n",
       "                run_callbacks()\n",
       "              }\n",
       "            };\n",
       "            s.onerror = function() {\n",
       "              console.warn(\"failed to load library \" + url);\n",
       "            };\n",
       "            console.log(\"Bokeh: injecting script tag for BokehJS library: \", url);\n",
       "            document.getElementsByTagName(\"head\")[0].appendChild(s);\n",
       "          }\n",
       "        };var js_urls = ['https://cdn.pydata.org/bokeh/release/bokeh-0.11.0.min.js', 'https://cdn.pydata.org/bokeh/release/bokeh-widgets-0.11.0.min.js', 'https://cdn.pydata.org/bokeh/release/bokeh-compiler-0.11.0.min.js'];\n",
       "      \n",
       "        var inline_js = [\n",
       "          function(Bokeh) {\n",
       "            Bokeh.set_log_level(\"info\");\n",
       "          },\n",
       "          function(Bokeh) {\n",
       "            console.log(\"Bokeh: injecting CSS: https://cdn.pydata.org/bokeh/release/bokeh-0.11.0.min.css\");\n",
       "            Bokeh.embed.inject_css(\"https://cdn.pydata.org/bokeh/release/bokeh-0.11.0.min.css\");\n",
       "            console.log(\"Bokeh: injecting CSS: https://cdn.pydata.org/bokeh/release/bokeh-widgets-0.11.0.min.css\");\n",
       "            Bokeh.embed.inject_css(\"https://cdn.pydata.org/bokeh/release/bokeh-widgets-0.11.0.min.css\");\n",
       "          }\n",
       "        ];\n",
       "      \n",
       "        function run_inline_js() {\n",
       "          for (var i = 0; i < inline_js.length; i++) {\n",
       "            inline_js[i](window.Bokeh);\n",
       "          }\n",
       "        }\n",
       "      \n",
       "        if (window._bokeh_is_loading === 0) {\n",
       "          console.log(\"Bokeh: BokehJS loaded, going straight to plotting\");\n",
       "          run_inline_js();\n",
       "        } else {\n",
       "          load_libs(js_urls, function() {\n",
       "            console.log(\"Bokeh: BokehJS plotting callback run at\", now());\n",
       "            run_inline_js();\n",
       "          });\n",
       "        }\n",
       "      }(this));\n",
       "    </script>\n",
       "    <div>\n",
       "        <a href=\"http://bokeh.pydata.org\" target=\"_blank\" class=\"bk-logo bk-logo-small bk-logo-notebook\"></a>\n",
       "        <span>BokehJS successfully loaded.</span>\n",
       "    </div>"
      ]
     },
     "metadata": {},
     "output_type": "display_data"
    }
   ],
   "source": [
    "output_notebook()"
   ]
  },
  {
   "cell_type": "code",
   "execution_count": 3,
   "metadata": {
    "collapsed": true
   },
   "outputs": [],
   "source": [
    "x = [1, 2, 3, 4, 5]\n",
    "y = [6, 7, 2, 4, 5]"
   ]
  },
  {
   "cell_type": "code",
   "execution_count": 4,
   "metadata": {
    "collapsed": false
   },
   "outputs": [
    {
     "data": {
      "text/html": [
       "\n",
       "\n",
       "    <div class=\"plotdiv\" id=\"33a684d2-d2fb-45c4-8b5b-020ccf3f2dc9\"></div>\n",
       "<script type=\"text/javascript\">\n",
       "  \n",
       "  (function(global) {\n",
       "    function now() {\n",
       "      return new Date();\n",
       "    }\n",
       "  \n",
       "    if (typeof (window._bokeh_onload_callbacks) === \"undefined\") {\n",
       "      window._bokeh_onload_callbacks = [];\n",
       "    }\n",
       "  \n",
       "    function run_callbacks() {\n",
       "      window._bokeh_onload_callbacks.forEach(function(callback) { callback() });\n",
       "      delete window._bokeh_onload_callbacks\n",
       "      console.info(\"Bokeh: all callbacks have finished\");\n",
       "    }\n",
       "  \n",
       "    function load_libs(js_urls, callback) {\n",
       "      window._bokeh_onload_callbacks.push(callback);\n",
       "      if (window._bokeh_is_loading > 0) {\n",
       "        console.log(\"Bokeh: BokehJS is being loaded, scheduling callback at\", now());\n",
       "        return null;\n",
       "      }\n",
       "      if (js_urls == null || js_urls.length === 0) {\n",
       "        run_callbacks();\n",
       "        return null;\n",
       "      }\n",
       "      console.log(\"Bokeh: BokehJS not loaded, scheduling load and callback at\", now());\n",
       "      window._bokeh_is_loading = js_urls.length;\n",
       "      for (var i = 0; i < js_urls.length; i++) {\n",
       "        var url = js_urls[i];\n",
       "        var s = document.createElement('script');\n",
       "        s.src = url;\n",
       "        s.async = false;\n",
       "        s.onreadystatechange = s.onload = function() {\n",
       "          window._bokeh_is_loading--;\n",
       "          if (window._bokeh_is_loading === 0) {\n",
       "            console.log(\"Bokeh: all BokehJS libraries loaded\");\n",
       "            run_callbacks()\n",
       "          }\n",
       "        };\n",
       "        s.onerror = function() {\n",
       "          console.warn(\"failed to load library \" + url);\n",
       "        };\n",
       "        console.log(\"Bokeh: injecting script tag for BokehJS library: \", url);\n",
       "        document.getElementsByTagName(\"head\")[0].appendChild(s);\n",
       "      }\n",
       "    };var element = document.getElementById(\"33a684d2-d2fb-45c4-8b5b-020ccf3f2dc9\");\n",
       "    if (element == null) {\n",
       "      console.log(\"Bokeh: ERROR: autoload.js configured with elementid '33a684d2-d2fb-45c4-8b5b-020ccf3f2dc9' but no matching script tag was found. \")\n",
       "      return false;\n",
       "    }var js_urls = [];\n",
       "  \n",
       "    var inline_js = [\n",
       "      function(Bokeh) {\n",
       "        Bokeh.$(function() {\n",
       "            var docs_json = {\"e23a82ff-f78c-4863-ad7c-f573e0519401\": {\"version\": \"0.11.0\", \"roots\": {\"root_ids\": [\"f368ea3b-9a5d-42c1-b5ea-49157c190876\"], \"references\": [{\"type\": \"BasicTicker\", \"attributes\": {}, \"id\": \"7c3d2685-8e75-4145-9898-22672e7e35e0\"}, {\"type\": \"LinearAxis\", \"attributes\": {\"axis_label\": \"x\", \"formatter\": {\"type\": \"BasicTickFormatter\", \"id\": \"de746070-93be-419e-ba2e-871bb317e0a1\"}, \"plot\": {\"type\": \"Plot\", \"subtype\": \"Figure\", \"id\": \"f368ea3b-9a5d-42c1-b5ea-49157c190876\"}, \"ticker\": {\"type\": \"BasicTicker\", \"id\": \"7c3d2685-8e75-4145-9898-22672e7e35e0\"}}, \"id\": \"595a8ee2-287c-4b4e-a0ea-9fe4c5b2a1d0\"}, {\"type\": \"BasicTickFormatter\", \"attributes\": {}, \"id\": \"b3c08ddd-d0da-4191-9782-e0f080739e4a\"}, {\"type\": \"ResetTool\", \"attributes\": {\"plot\": {\"type\": \"Plot\", \"subtype\": \"Figure\", \"id\": \"f368ea3b-9a5d-42c1-b5ea-49157c190876\"}}, \"id\": \"5c3e3d32-2d87-425f-9d1c-162fb0f9e997\"}, {\"type\": \"DataRange1d\", \"attributes\": {\"callback\": null}, \"id\": \"815ad5e3-956b-4798-9add-e13d6c9309e1\"}, {\"type\": \"Grid\", \"attributes\": {\"plot\": {\"type\": \"Plot\", \"subtype\": \"Figure\", \"id\": \"f368ea3b-9a5d-42c1-b5ea-49157c190876\"}, \"ticker\": {\"type\": \"BasicTicker\", \"id\": \"7c3d2685-8e75-4145-9898-22672e7e35e0\"}}, \"id\": \"22a4f40c-1363-48df-8029-f0a26cec8508\"}, {\"type\": \"ResizeTool\", \"attributes\": {\"plot\": {\"type\": \"Plot\", \"subtype\": \"Figure\", \"id\": \"f368ea3b-9a5d-42c1-b5ea-49157c190876\"}}, \"id\": \"36df25b4-63a0-442e-a13d-62cdb193ac1f\"}, {\"type\": \"BoxAnnotation\", \"attributes\": {\"line_dash\": [4, 4], \"right_units\": \"screen\", \"bottom_units\": \"screen\", \"fill_alpha\": {\"value\": 0.5}, \"top_units\": \"screen\", \"render_mode\": \"css\", \"level\": \"overlay\", \"line_width\": {\"value\": 2}, \"line_color\": {\"value\": \"black\"}, \"left_units\": \"screen\", \"plot\": null, \"fill_color\": {\"value\": \"lightgrey\"}, \"line_alpha\": {\"value\": 1.0}}, \"id\": \"9bf38c5d-4bc1-42fe-83d2-110467e585ae\"}, {\"type\": \"Line\", \"attributes\": {\"x\": {\"field\": \"x\"}, \"line_width\": {\"value\": 2}, \"y\": {\"field\": \"y\"}, \"line_color\": {\"value\": \"#1f77b4\"}}, \"id\": \"739e10b8-6aa4-423f-abf1-0966c30cc90e\"}, {\"type\": \"Grid\", \"attributes\": {\"dimension\": 1, \"plot\": {\"type\": \"Plot\", \"subtype\": \"Figure\", \"id\": \"f368ea3b-9a5d-42c1-b5ea-49157c190876\"}, \"ticker\": {\"type\": \"BasicTicker\", \"id\": \"baeb2155-4e36-4927-8b43-c8cca7bec936\"}}, \"id\": \"6985d2c3-ead8-4010-8e15-2d90081f1108\"}, {\"type\": \"LinearAxis\", \"attributes\": {\"axis_label\": \"y\", \"formatter\": {\"type\": \"BasicTickFormatter\", \"id\": \"b3c08ddd-d0da-4191-9782-e0f080739e4a\"}, \"plot\": {\"type\": \"Plot\", \"subtype\": \"Figure\", \"id\": \"f368ea3b-9a5d-42c1-b5ea-49157c190876\"}, \"ticker\": {\"type\": \"BasicTicker\", \"id\": \"baeb2155-4e36-4927-8b43-c8cca7bec936\"}}, \"id\": \"e204fab7-3fd5-41ac-b6e1-61975ac43e16\"}, {\"type\": \"BasicTickFormatter\", \"attributes\": {}, \"id\": \"de746070-93be-419e-ba2e-871bb317e0a1\"}, {\"type\": \"ColumnDataSource\", \"attributes\": {\"column_names\": [\"x\", \"y\"], \"data\": {\"x\": [1, 2, 3, 4, 5], \"y\": [6, 7, 2, 4, 5]}, \"callback\": null}, \"id\": \"86f224c7-223a-489e-a1e1-55f8caa42257\"}, {\"type\": \"Plot\", \"attributes\": {\"renderers\": [{\"type\": \"LinearAxis\", \"id\": \"595a8ee2-287c-4b4e-a0ea-9fe4c5b2a1d0\"}, {\"type\": \"Grid\", \"id\": \"22a4f40c-1363-48df-8029-f0a26cec8508\"}, {\"type\": \"LinearAxis\", \"id\": \"e204fab7-3fd5-41ac-b6e1-61975ac43e16\"}, {\"type\": \"Grid\", \"id\": \"6985d2c3-ead8-4010-8e15-2d90081f1108\"}, {\"type\": \"BoxAnnotation\", \"id\": \"9bf38c5d-4bc1-42fe-83d2-110467e585ae\"}, {\"type\": \"Legend\", \"id\": \"717b2411-3b0f-4a9b-a87f-d0aab9887254\"}, {\"type\": \"GlyphRenderer\", \"id\": \"04818f57-ae02-486f-a321-db26cd417ccf\"}], \"y_range\": {\"type\": \"DataRange1d\", \"id\": \"815ad5e3-956b-4798-9add-e13d6c9309e1\"}, \"x_range\": {\"type\": \"DataRange1d\", \"id\": \"8844e11a-ce5b-44b2-9e22-8844f989294b\"}, \"tools\": [{\"type\": \"PanTool\", \"id\": \"35539a94-6b08-4a30-88f5-b4b8a00fa216\"}, {\"type\": \"WheelZoomTool\", \"id\": \"75f5dac7-d156-458b-8290-21d18b012782\"}, {\"type\": \"BoxZoomTool\", \"id\": \"695b6294-6faa-4400-a469-f607535cc66f\"}, {\"type\": \"PreviewSaveTool\", \"id\": \"8a0e7118-85b4-4015-86b7-b54e4e90f1d3\"}, {\"type\": \"ResizeTool\", \"id\": \"36df25b4-63a0-442e-a13d-62cdb193ac1f\"}, {\"type\": \"ResetTool\", \"id\": \"5c3e3d32-2d87-425f-9d1c-162fb0f9e997\"}, {\"type\": \"HelpTool\", \"id\": \"a2b98961-bfc2-4b4e-8c56-05b67c4d5b11\"}], \"tool_events\": {\"type\": \"ToolEvents\", \"id\": \"a0d23c0d-933c-4686-a4ba-3f8b8bf93727\"}, \"left\": [{\"type\": \"LinearAxis\", \"id\": \"e204fab7-3fd5-41ac-b6e1-61975ac43e16\"}], \"below\": [{\"type\": \"LinearAxis\", \"id\": \"595a8ee2-287c-4b4e-a0ea-9fe4c5b2a1d0\"}], \"title\": \"simple line example\"}, \"subtype\": \"Figure\", \"id\": \"f368ea3b-9a5d-42c1-b5ea-49157c190876\"}, {\"type\": \"PanTool\", \"attributes\": {\"plot\": {\"type\": \"Plot\", \"subtype\": \"Figure\", \"id\": \"f368ea3b-9a5d-42c1-b5ea-49157c190876\"}}, \"id\": \"35539a94-6b08-4a30-88f5-b4b8a00fa216\"}, {\"type\": \"BasicTicker\", \"attributes\": {}, \"id\": \"baeb2155-4e36-4927-8b43-c8cca7bec936\"}, {\"type\": \"Legend\", \"attributes\": {\"legends\": [[\"Temp.\", [{\"type\": \"GlyphRenderer\", \"id\": \"04818f57-ae02-486f-a321-db26cd417ccf\"}]]], \"plot\": {\"type\": \"Plot\", \"subtype\": \"Figure\", \"id\": \"f368ea3b-9a5d-42c1-b5ea-49157c190876\"}}, \"id\": \"717b2411-3b0f-4a9b-a87f-d0aab9887254\"}, {\"type\": \"Line\", \"attributes\": {\"x\": {\"field\": \"x\"}, \"line_width\": {\"value\": 2}, \"y\": {\"field\": \"y\"}, \"line_color\": {\"value\": \"#1f77b4\"}, \"line_alpha\": {\"value\": 0.1}}, \"id\": \"cd94341d-b9db-44ec-ad06-c985b5cd9733\"}, {\"type\": \"BoxZoomTool\", \"attributes\": {\"plot\": {\"type\": \"Plot\", \"subtype\": \"Figure\", \"id\": \"f368ea3b-9a5d-42c1-b5ea-49157c190876\"}, \"overlay\": {\"type\": \"BoxAnnotation\", \"id\": \"9bf38c5d-4bc1-42fe-83d2-110467e585ae\"}}, \"id\": \"695b6294-6faa-4400-a469-f607535cc66f\"}, {\"type\": \"GlyphRenderer\", \"attributes\": {\"nonselection_glyph\": {\"type\": \"Line\", \"id\": \"cd94341d-b9db-44ec-ad06-c985b5cd9733\"}, \"hover_glyph\": null, \"selection_glyph\": null, \"data_source\": {\"type\": \"ColumnDataSource\", \"id\": \"86f224c7-223a-489e-a1e1-55f8caa42257\"}, \"glyph\": {\"type\": \"Line\", \"id\": \"739e10b8-6aa4-423f-abf1-0966c30cc90e\"}}, \"id\": \"04818f57-ae02-486f-a321-db26cd417ccf\"}, {\"type\": \"WheelZoomTool\", \"attributes\": {\"plot\": {\"type\": \"Plot\", \"subtype\": \"Figure\", \"id\": \"f368ea3b-9a5d-42c1-b5ea-49157c190876\"}}, \"id\": \"75f5dac7-d156-458b-8290-21d18b012782\"}, {\"type\": \"DataRange1d\", \"attributes\": {\"callback\": null}, \"id\": \"8844e11a-ce5b-44b2-9e22-8844f989294b\"}, {\"type\": \"PreviewSaveTool\", \"attributes\": {\"plot\": {\"type\": \"Plot\", \"subtype\": \"Figure\", \"id\": \"f368ea3b-9a5d-42c1-b5ea-49157c190876\"}}, \"id\": \"8a0e7118-85b4-4015-86b7-b54e4e90f1d3\"}, {\"type\": \"HelpTool\", \"attributes\": {\"plot\": {\"type\": \"Plot\", \"subtype\": \"Figure\", \"id\": \"f368ea3b-9a5d-42c1-b5ea-49157c190876\"}}, \"id\": \"a2b98961-bfc2-4b4e-8c56-05b67c4d5b11\"}, {\"type\": \"ToolEvents\", \"attributes\": {}, \"id\": \"a0d23c0d-933c-4686-a4ba-3f8b8bf93727\"}]}, \"title\": \"Bokeh Application\"}};\n",
       "            var render_items = [{\"elementid\": \"33a684d2-d2fb-45c4-8b5b-020ccf3f2dc9\", \"notebook_comms_target\": \"2bdd9737-8101-4c91-b3a1-caf27d20fb3f\", \"docid\": \"e23a82ff-f78c-4863-ad7c-f573e0519401\", \"modelid\": \"f368ea3b-9a5d-42c1-b5ea-49157c190876\"}];\n",
       "            \n",
       "            Bokeh.embed.embed_items(docs_json, render_items);\n",
       "        });\n",
       "      },\n",
       "      function(Bokeh) {\n",
       "      }\n",
       "    ];\n",
       "  \n",
       "    function run_inline_js() {\n",
       "      for (var i = 0; i < inline_js.length; i++) {\n",
       "        inline_js[i](window.Bokeh);\n",
       "      }\n",
       "    }\n",
       "  \n",
       "    if (window._bokeh_is_loading === 0) {\n",
       "      console.log(\"Bokeh: BokehJS loaded, going straight to plotting\");\n",
       "      run_inline_js();\n",
       "    } else {\n",
       "      load_libs(js_urls, function() {\n",
       "        console.log(\"Bokeh: BokehJS plotting callback run at\", now());\n",
       "        run_inline_js();\n",
       "      });\n",
       "    }\n",
       "  }(this));\n",
       "</script>"
      ]
     },
     "metadata": {},
     "output_type": "display_data"
    },
    {
     "data": {
      "text/plain": [
       "<bokeh.io._CommsHandle at 0x7f1aeb6ed7b8>"
      ]
     },
     "execution_count": 4,
     "metadata": {},
     "output_type": "execute_result"
    }
   ],
   "source": [
    "# create a new plot with a title and axis labels\n",
    "p = figure(title=\"simple line example\", x_axis_label='x', y_axis_label='y')\n",
    "\n",
    "# add a line renderer with legend and line thickness\n",
    "p.line(x, y, legend=\"Temp.\", line_width=2)\n",
    "\n",
    "# show the results\n",
    "show(p)"
   ]
  },
  {
   "cell_type": "code",
   "execution_count": null,
   "metadata": {
    "collapsed": true
   },
   "outputs": [],
   "source": []
  }
 ],
 "metadata": {
  "kernelspec": {
   "display_name": "Python 3",
   "language": "python",
   "name": "python3"
  },
  "language_info": {
   "codemirror_mode": {
    "name": "ipython",
    "version": 3
   },
   "file_extension": ".py",
   "mimetype": "text/x-python",
   "name": "python",
   "nbconvert_exporter": "python",
   "pygments_lexer": "ipython3",
   "version": "3.4.3"
  }
 },
 "nbformat": 4,
 "nbformat_minor": 0
}
