{
 "cells": [
  {
   "cell_type": "markdown",
   "metadata": {},
   "source": [
    "# The quantum harmonic oscillator\n",
    "\n",
    "\n",
    "\\begin{align}\n",
    "H \\psi_n = E_n \\psi_n\n",
    "\\end{align}\n",
    "\n",
    "where the Hamiltontial $H = T + V$ is defined as\n",
    "\n",
    "\\begin{align}\n",
    "H &= \\frac{-\\hbar^2}{2m}\\frac{\\partial^2}{\\partial x^2} + \\frac{1}{2} k x^2\n",
    "\\end{align}\n",
    "\n",
    "The wavefunction $\\psi_n$ can be shown to be:\n",
    "\n",
    "\\begin{align}\n",
    "\\psi_n &= N_n H_n \\left(\\frac{x}{\\alpha}\\right) e^{- \\frac{x^2}{2 \\alpha^2}}\n",
    "\\end{align}\n",
    "with \n",
    "\n",
    "\\begin{align}\n",
    "\\alpha &= \\left( \\frac{\\hbar^2}{m k} \\right) \\\\\n",
    "N_n &= \\frac{1}{\\alpha \\pi^{1/2} 2^n  n!}\n",
    "\\end{align}\n",
    "\n",
    "and the energy $E_n = \\hbar \\omega \\left(n + \\frac{1}{2}\\right)$ where $\\omega = \\sqrt{\\frac{k}{m}}$ and $n$ is a non-negative integer number.\n",
    "\n",
    "$H_n$ is a Hermite polynomail, you'll learn more on them in the following exercise"
   ]
  },
  {
   "cell_type": "markdown",
   "metadata": {},
   "source": [
    "## Exercise 1\n",
    "\n",
    "The first two hermite polynomials are given by \n",
    "\n",
    "\\begin{align}\n",
    "H_0(x) &= 1 \\\\\n",
    "H_1(x) &= 2x\n",
    "\\end{align}\n",
    "\n",
    "The rest of the Hermite polynomials can be found using the recursion relation \n",
    "\\begin{align}\n",
    "H_{n+1}(x) = 2xH_n(x) - 2 n H_{n-1}(x)\n",
    "\\end{align}\n",
    "\n",
    "Eg. to find $H_{2}$ insert $n=1$ in the formula above and you get\n",
    "\n",
    "\\begin{align}\n",
    "    H_2(x) = 2xH_1(x) - 2 H_{0}(x) = 4x^2 - 2\n",
    "\\end{align}\n",
    "\n",
    "Make a function that generates the Hermite Polynomials. Using the recurssion relation shown above.\n",
    "\n",
    "\n",
    "To do this exercise do you need to make a recursive function, a recursive function is a function that calls itself untill a certain stop condition has been met. To read more about them check out https://www.programiz.com/python-programming/recursion or the internett. \n",
    "\n",
    "\n",
    "To help you get started on this exercise use the following as a blue print."
   ]
  },
  {
   "cell_type": "code",
   "execution_count": 14,
   "metadata": {},
   "outputs": [],
   "source": [
    "# To get started use the following as a blueprint\n",
    "def hermite_polynomial(n, x):\n",
    "    if n == 0:\n",
    "        return 1 \n",
    "    if n == 1:\n",
    "        return 2*x\n",
    "    else:\n",
    "        return #fill in this line with the recursion relation\n",
    "    \n",
    "# Using sympy you can print out the result and compare it to the analytical solution\n",
    "# that can be found on ExplainEverything WEXLRXLP\n",
    "\n",
    "import sympy as sp\n",
    "\n",
    "x = sp.symbols('x')\n",
    "hermite_polynomial(2, x) "
   ]
  },
  {
   "cell_type": "markdown",
   "metadata": {},
   "source": [
    " ## Exercise 2\n",
    " \n",
    " Using the hermite polynomials function you made above, define the wavefunction for the Harmonic oscillator. \n",
    " \n",
    " Check if the wavefunction is ortonormal, i.e., \n",
    " \n",
    " \\begin{align}\n",
    " \\int_{-\\infty}^\\infty |\\psi_n(x)|^2 dx &= 1 \\\\\n",
    " \\int_{-\\infty}^\\infty \\psi_n(x)\\psi_m(x) dx &= 0\n",
    " \\end{align}\n",
    " \n",
    " Hint: If you choose to solve this problem numerically, you will find that the computer does not understand infinity in the integration limits. You can instead replace infinity with a relatively large number. "
   ]
  },
  {
   "cell_type": "code",
   "execution_count": 15,
   "metadata": {},
   "outputs": [],
   "source": [
    "def wavefunction(n, m, k, x):\n",
    "    \"\"\" n : the wave number\n",
    "        m : Mass of the partice\n",
    "        k : Spring costant\n",
    "        x : position of the particle\n",
    "    \"\"\"\n",
    "    return "
   ]
  },
  {
   "cell_type": "markdown",
   "metadata": {},
   "source": [
    "## Exercise 3\n",
    "\n",
    "Step 1:\n",
    "\n",
    "Plot the potential $V(x) = \\frac{1}{2} k x^2$ \n",
    "\n",
    "Step 2:\n",
    "\n",
    "Plot the potential $V(x)$ together with some energy levels of $E_n = \\hbar \\omega \\left(n + \\frac{1}{2}\\right)$ \n",
    "\n",
    "Step 3:\n",
    "\n",
    "Plot the potential $V(x)$ together with $|\\psi_n|^2$ for a few values of $n$. What happens when $n$ becomes large?"
   ]
  }
 ],
 "metadata": {
  "kernelspec": {
   "display_name": "Python 3",
   "language": "python",
   "name": "python3"
  },
  "language_info": {
   "codemirror_mode": {
    "name": "ipython",
    "version": 3
   },
   "file_extension": ".py",
   "mimetype": "text/x-python",
   "name": "python",
   "nbconvert_exporter": "python",
   "pygments_lexer": "ipython3",
   "version": "3.7.3"
  }
 },
 "nbformat": 4,
 "nbformat_minor": 4
}
