{
 "cells": [
  {
   "cell_type": "markdown",
   "metadata": {},
   "source": [
    "# The Hydrogenic atom\n",
    "\n",
    "By separating the angular and radial components of the Wavefunction\n",
    "\n",
    "\\begin{align}\n",
    "\\Psi(x, y, z) \\rightarrow R(r) Y(\\phi, \\theta)\n",
    "\\end{align}\n",
    "\n",
    "the radial wavefunction for a Hydrogenic atom takes the form\n",
    "\n",
    "\\begin{align}\n",
    "-\\frac{1}{2 \\mu} \\frac{d^2 u(r)}{dr^2} + V_{eff}u(r) &= E u(r) \\\\\n",
    "u(r) &= rR(r) \\\\\n",
    "V_{eff}(r) &= -\\frac{1}{r} + \\frac{\\hbar^2 l (l + 1)}{2 \\mu r^2} \n",
    "\\end{align}\n",
    "\n",
    "where $\\mu$ is the reduced mass."
   ]
  },
  {
   "cell_type": "markdown",
   "metadata": {},
   "source": [
    "## Exercise 1\n",
    "\n",
    "Plot the effective potential $V_{eff}(r)$ for different values of $l$. Note how different the potential is for $l = 0$ and for $l \\neq 0$. Can you explain what happens?"
   ]
  },
  {
   "cell_type": "markdown",
   "metadata": {},
   "source": [
    "## Exercise 2\n",
    "\n",
    "Find the analytic expression for $R_{nl}(r)$ at [Explain Everything](https://drive.explaineverything.com/thecode/FNPFRHMN) and make Python Functions for\n",
    "n = 1, l = 0, n = 2, l = 0, 1 and n = 3, l = 0, 1, 2.\n",
    "\n",
    "Note that on Expliain Everything the functions are given as a function of $\\rho$. The relation between $\\rho$ and $r$ is: $\\rho = \\frac{2 Z}{n a}r$ where $a = 4\\pi \\epsilon_0 \\frac{ \\hbar^2 }{\\mu e^2}$\n",
    "\n",
    "```python\n",
    "def R10(r):\n",
    "    # n = 1, l = 0\n",
    "```\n",
    "Bonus points to those who can make a General R(n, l, r).\n",
    "```python\n",
    "def R(n, l, r):\n",
    " \n",
    "```\n",
    "I was not able to do this so please tell me if you come up with a solution.\n"
   ]
  },
  {
   "cell_type": "markdown",
   "metadata": {},
   "source": [
    "## Exercise 3\n",
    "\n",
    "Now let's study the radial probablilty density $P(r)$, the total wavefunction is\n",
    "$\\Psi_{nlm_l}$. To study the radial probability density we take the probability density $|\\Psi_{nlm_l}|$ and integrate the non-radial parts ($\\theta, \\phi$).\n",
    "\n",
    "\\begin{align}\n",
    "P(r) = \\int_{surface} |\\Psi_{nlm_l}(\\theta, \\phi, r)| d\\tau = \\int_0^\\pi \\int_0^{2 \\pi} R_{nl}(r)^2 |Y_{lm_l}(\\theta, \\phi)| r^2\\sin (\\theta) d\\theta d \\phi\n",
    "\\end{align}\n",
    "\n",
    "we then find $P(r) = R_{nl}(r)^2 r^2$\n",
    "\n",
    "Plot the Quantity $P(r) = R_{nl}(r)^2 r^2 $ for various values of Z.\n",
    "\n",
    "What happens when Z increases, why do you think this happens?"
   ]
  },
  {
   "cell_type": "markdown",
   "metadata": {},
   "source": [
    "## Exercise 4\n",
    "\n",
    "The total wavefunciton $Y_{n l m_l} = R_{nl}(r) Y_{lm_l}(\\theta, \\phi)$ where $R_{nl}$ is the solution to the Radial wavefunciton and \n",
    "\n",
    "Make a function that returns the probability density of finding the particle within a given volume $\\theta \\in (\\theta_0, \\theta_1)$ $r \\in (r_0, r_1)$$\\phi \\in (\\phi_0, \\phi_1)$ \n",
    "\n",
    "```python \n",
    "def two_pz_probability(theta_0, theta_1, phi_0, phi_1, r_0, r_1):\n",
    "```"
   ]
  },
  {
   "cell_type": "code",
   "execution_count": null,
   "metadata": {},
   "outputs": [],
   "source": []
  }
 ],
 "metadata": {
  "kernelspec": {
   "display_name": "Python 3",
   "language": "python",
   "name": "python3"
  },
  "language_info": {
   "codemirror_mode": {
    "name": "ipython",
    "version": 3
   },
   "file_extension": ".py",
   "mimetype": "text/x-python",
   "name": "python",
   "nbconvert_exporter": "python",
   "pygments_lexer": "ipython3",
   "version": "3.7.3"
  }
 },
 "nbformat": 4,
 "nbformat_minor": 2
}
